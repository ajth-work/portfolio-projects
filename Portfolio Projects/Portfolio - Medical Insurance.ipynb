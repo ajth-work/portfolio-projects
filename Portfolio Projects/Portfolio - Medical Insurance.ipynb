{
 "cells": [
  {
   "cell_type": "code",
   "execution_count": 83,
   "id": "298fb282",
   "metadata": {},
   "outputs": [
    {
     "name": "stdout",
     "output_type": "stream",
     "text": [
      "1338\n"
     ]
    }
   ],
   "source": [
    "import csv\n",
    "\n",
    "file = \"../_Project Datasets/insurance.csv\"\n",
    "\n",
    "dataset = []\n",
    "\n",
    "with open(file) as file_file:\n",
    "    file_dict = csv.DictReader(file_file)\n",
    "    i = 0\n",
    "    for row in file_dict:\n",
    "        dataset.append(row)\n",
    "\n",
    "#print(dataset)\n",
    "print(len(dataset))"
   ]
  },
  {
   "cell_type": "markdown",
   "id": "aea7ac50",
   "metadata": {},
   "source": [
    "What are some good functions for this dataset?"
   ]
  },
  {
   "cell_type": "code",
   "execution_count": 73,
   "id": "6aa01316",
   "metadata": {},
   "outputs": [
    {
     "name": "stdout",
     "output_type": "stream",
     "text": [
      "39.20702541106129\n"
     ]
    }
   ],
   "source": [
    "# 1. Find the average age of the people in the dataset.\n",
    "def average_age(dataset):\n",
    "    total_age = 0\n",
    "    for row in dataset:\n",
    "        total_age += int(row['age'])\n",
    "    return total_age / len(dataset)\n",
    "\n",
    "test1 = average_age(dataset)\n",
    "print(test1)"
   ]
  },
  {
   "cell_type": "code",
   "execution_count": 74,
   "id": "3a8b5d2a",
   "metadata": {},
   "outputs": [
    {
     "name": "stdout",
     "output_type": "stream",
     "text": [
      "30.663396860986538\n"
     ]
    }
   ],
   "source": [
    "# 2. Find the average BMI of the people in the dataset.\n",
    "def average_bmi(dataset):\n",
    "    total_bmi = 0\n",
    "    for row in dataset:\n",
    "        total_bmi += float(row['bmi'])\n",
    "    return total_bmi / len(dataset)\n",
    "\n",
    "test2 = average_bmi(dataset)\n",
    "print(test2)"
   ]
  },
  {
   "cell_type": "code",
   "execution_count": 75,
   "id": "7af043e0",
   "metadata": {},
   "outputs": [
    {
     "name": "stdout",
     "output_type": "stream",
     "text": [
      "1.0949177877429\n"
     ]
    }
   ],
   "source": [
    "# 3. Find the average number of children of the people in the dataset.\n",
    "def average_children(dataset):\n",
    "    total_children = 0\n",
    "    for row in dataset:\n",
    "        total_children += int(row['children'])\n",
    "    return total_children / len(dataset)\n",
    "\n",
    "test3 = average_children(dataset)\n",
    "print(test3)"
   ]
  },
  {
   "cell_type": "code",
   "execution_count": 76,
   "id": "81c3729d",
   "metadata": {},
   "outputs": [
    {
     "name": "stdout",
     "output_type": "stream",
     "text": [
      "1.1131386861313868\n"
     ]
    }
   ],
   "source": [
    "# 4. Find the average number of children of the people in the dataset who smoke.\n",
    "def average_children_smoke(dataset):\n",
    "    total_children = 0\n",
    "    count = 0\n",
    "    for row in dataset:\n",
    "        if row['smoker'] == 'yes':\n",
    "            total_children += int(row['children'])\n",
    "            count += 1\n",
    "    return total_children / count if count > 0 else 0\n",
    "\n",
    "test4 = average_children_smoke(dataset)\n",
    "print(test4)"
   ]
  },
  {
   "cell_type": "code",
   "execution_count": 77,
   "id": "3858c3a8",
   "metadata": {},
   "outputs": [
    {
     "name": "stdout",
     "output_type": "stream",
     "text": [
      "1.0902255639097744\n"
     ]
    }
   ],
   "source": [
    "# 5. Find the average number of children of the people in the dataset who do not smoke.\n",
    "def average_children_no_smoke(dataset):\n",
    "    total_children = 0\n",
    "    count = 0\n",
    "    for row in dataset:\n",
    "        if row['smoker'] == 'no':\n",
    "            total_children += int(row['children'])\n",
    "            count += 1\n",
    "    return total_children / count if count > 0 else 0\n",
    "\n",
    "test5 = average_children_no_smoke(dataset)\n",
    "print(test5)"
   ]
  },
  {
   "cell_type": "code",
   "execution_count": 78,
   "id": "a9200733",
   "metadata": {},
   "outputs": [
    {
     "name": "stdout",
     "output_type": "stream",
     "text": [
      "Regions:\n",
      "--> Southwest: 325 (24.29%)\n",
      "--> Southeast: 364 (27.2%)\n",
      "--> Northwest: 325 (24.29%)\n",
      "--> Northeast: 324 (24.22%)\n",
      "The Southeast region has the most individuals at 364 people.\n"
     ]
    }
   ],
   "source": [
    "# 6. Analyze where the majority of the individuals are from.\n",
    "def most_common_region(dataset):\n",
    "    regions = {}\n",
    "    for row in dataset:\n",
    "        region = row[\"region\"]\n",
    "        if region in regions:\n",
    "            regions[region] += 1\n",
    "        else:\n",
    "            regions[region] = 1\n",
    "    print(\"Regions:\")\n",
    "    for region, count in regions.items():\n",
    "        print(f\"--> {region.capitalize()}: {count} ({round(count / len(dataset) * 100, 2)}%)\")\n",
    "    print(f\"The {max(regions, key=regions.get).capitalize()} region has the most individuals at {max(regions.values())} people.\")\n",
    "\n",
    "test6 = most_common_region(dataset)"
   ]
  },
  {
   "cell_type": "code",
   "execution_count": 79,
   "id": "e235f07d",
   "metadata": {},
   "outputs": [
    {
     "name": "stdout",
     "output_type": "stream",
     "text": [
      "Average smoker cost: $32050.23\n",
      "Average non-smoker cost: $8434.27\n",
      "Smokers are charged 3.8 times more than non-smokers.\n"
     ]
    }
   ],
   "source": [
    "# 7 Analyze different costs between smokers vs. non-smokers.\n",
    "def analyze_smoker_cost(dataset):\n",
    "    smoker_cost = 0\n",
    "    non_smoker_cost = 0\n",
    "    for row in dataset:\n",
    "        if row[\"smoker\"] == \"yes\":\n",
    "            smoker_cost += float(row[\"charges\"])\n",
    "        else:\n",
    "            non_smoker_cost += float(row[\"charges\"])\n",
    "    smoker_count = len([row for row in dataset if row[\"smoker\"] == \"yes\"])\n",
    "    non_smoker_count = len([row for row in dataset if row[\"smoker\"] == \"no\"])\n",
    "    average_smoker_cost = round(smoker_cost / smoker_count, 2)\n",
    "    average_non_smoker_cost = round(non_smoker_cost / non_smoker_count, 2)\n",
    "    print(f\"Average smoker cost: ${average_smoker_cost}\")\n",
    "    print(f\"Average non-smoker cost: ${average_non_smoker_cost}\")\n",
    "    print(f\"Smokers are charged {round(average_smoker_cost / average_non_smoker_cost, 2)} times more than non-smokers.\")\n",
    "\n",
    "test7 = analyze_smoker_cost(dataset)    "
   ]
  },
  {
   "cell_type": "code",
   "execution_count": 82,
   "id": "4c3b086e",
   "metadata": {},
   "outputs": [
    {
     "name": "stdout",
     "output_type": "stream",
     "text": [
      "The average age of a parent is 39.78\n"
     ]
    }
   ],
   "source": [
    "# 8. What is the average age for someone who has at least one child?\n",
    "def average_age_with_children(dataset):\n",
    "    parent_age = 0\n",
    "    parent_count = 0\n",
    "    for row in dataset:\n",
    "        if int(row[\"children\"]) > 0:\n",
    "            parent_age += int(row[\"age\"])\n",
    "            parent_count += 1\n",
    "    average_parent_age = round(parent_age / parent_count, 2)\n",
    "    print(f\"The average age of a parent is {average_parent_age}\")\n",
    "\n",
    "test8 = average_age_with_children(dataset)"
   ]
  },
  {
   "cell_type": "code",
   "execution_count": 81,
   "id": "ab3e7ea5",
   "metadata": {},
   "outputs": [
    {
     "name": "stdout",
     "output_type": "stream",
     "text": [
      "The average age of a non-parent is 38.44\n"
     ]
    }
   ],
   "source": [
    "# 9. What is the average for someone who has no children?\n",
    "def average_age_no_children(dataset):\n",
    "    no_parent_age = 0\n",
    "    no_parent_count = 0\n",
    "    for row in dataset:\n",
    "        if int(row[\"children\"]) == 0:\n",
    "            no_parent_age += int(row[\"age\"])\n",
    "            no_parent_count += 1\n",
    "    average_no_parent_age = round(no_parent_age / no_parent_count, 2)\n",
    "    print(f\"The average age of a non-parent is {average_no_parent_age}\")\n",
    "\n",
    "test9 = average_age_no_children(dataset)"
   ]
  }
 ],
 "metadata": {
  "kernelspec": {
   "display_name": "base",
   "language": "python",
   "name": "python3"
  },
  "language_info": {
   "codemirror_mode": {
    "name": "ipython",
    "version": 3
   },
   "file_extension": ".py",
   "mimetype": "text/x-python",
   "name": "python",
   "nbconvert_exporter": "python",
   "pygments_lexer": "ipython3",
   "version": "3.12.7"
  }
 },
 "nbformat": 4,
 "nbformat_minor": 5
}
