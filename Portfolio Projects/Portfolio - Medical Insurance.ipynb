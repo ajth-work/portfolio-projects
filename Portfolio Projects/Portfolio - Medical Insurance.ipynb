{
 "cells": [
  {
   "cell_type": "code",
   "execution_count": 7,
   "id": "298fb282",
   "metadata": {},
   "outputs": [],
   "source": [
    "import csv\n",
    "\n",
    "file = \"../_Project Datasets/insurance.csv\"\n",
    "\n",
    "with open(file) as file_file:\n",
    "    file_dict = csv.DictReader(file_file)\n",
    "    i = 0\n",
    "    for row in file_dict:\n",
    "        # print(row)\n",
    "        i += 1\n",
    "    # print(i)\n"
   ]
  },
  {
   "cell_type": "code",
   "execution_count": null,
   "id": "6aa01316",
   "metadata": {},
   "outputs": [],
   "source": [
    "# Find out the average age of the patients in the dataset.\n",
    "# Analyze where a majority of the individuals are from.\n",
    "# Look at the different costs between smokers vs. non-smokers.\n",
    "# Figure out what the average age is for someone who has at least one child in this dataset."
   ]
  }
 ],
 "metadata": {
  "kernelspec": {
   "display_name": "base",
   "language": "python",
   "name": "python3"
  },
  "language_info": {
   "codemirror_mode": {
    "name": "ipython",
    "version": 3
   },
   "file_extension": ".py",
   "mimetype": "text/x-python",
   "name": "python",
   "nbconvert_exporter": "python",
   "pygments_lexer": "ipython3",
   "version": "3.12.7"
  }
 },
 "nbformat": 4,
 "nbformat_minor": 5
}
