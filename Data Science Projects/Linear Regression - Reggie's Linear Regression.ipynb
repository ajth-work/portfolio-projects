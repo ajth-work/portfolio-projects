{
 "cells": [
  {
   "cell_type": "code",
   "execution_count": 10,
   "id": "908ed29f",
   "metadata": {},
   "outputs": [
    {
     "name": "stdout",
     "output_type": "stream",
     "text": [
      "True\n",
      "False\n"
     ]
    }
   ],
   "source": [
    "# Task 1 - Constructing a Linear Function of the Form y = mx + b\n",
    "def get_y(m,x,b):\n",
    "  return m * x + b\n",
    "\n",
    "# Test cases\n",
    "print(get_y(1, 0, 7) == 7)\n",
    "print(get_y(5, 10, 3) == 25)"
   ]
  },
  {
   "cell_type": "code",
   "execution_count": 11,
   "id": "0a1f39b3",
   "metadata": {},
   "outputs": [],
   "source": [
    "# Tasks 2 and 3 - Calculating the Error by evaluating the Distance from a Point to a Line\n",
    "def calculate_error(m,b,point):\n",
    "  x_point = point[0]\n",
    "  y_point = point[1]\n",
    "  distance = get_y(m,x_point,b) - y_point\n",
    "  return abs(distance)"
   ]
  },
  {
   "cell_type": "code",
   "execution_count": 12,
   "id": "baeb77ad",
   "metadata": {},
   "outputs": [
    {
     "name": "stdout",
     "output_type": "stream",
     "text": [
      "0\n",
      "1\n",
      "1\n",
      "5\n"
     ]
    }
   ],
   "source": [
    "# Task 4 - Testing the Error Calculation\n",
    "\n",
    "# this is a line that looks like y = x, so (3, 3) should lie on it. thus, error should be 0:\n",
    "print(calculate_error(1, 0, (3, 3)))\n",
    "\n",
    "# the point (3, 4) should be 1 unit away from the line y = x:\n",
    "print(calculate_error(1, 0, (3, 4)))\n",
    "\n",
    "# the point (3, 3) should be 1 unit away from the line y = x - 1:\n",
    "print(calculate_error(1, -1, (3, 3)))\n",
    "\n",
    "# the point (3, 3) should be 5 units away from the line y = -x + 1:\n",
    "print(calculate_error(-1, 1, (3, 3)))"
   ]
  },
  {
   "cell_type": "code",
   "execution_count": 13,
   "id": "d5b88911",
   "metadata": {},
   "outputs": [],
   "source": [
    "# Task 5 - Calculate all error for a Set of Points\n",
    "def calculate_all_error(m,b,points):\n",
    "  # print(points)\n",
    "  total_error = 0\n",
    "  for point in points:\n",
    "    # print(point)\n",
    "    total_error += calculate_error(m,b,point)\n",
    "  return total_error"
   ]
  },
  {
   "cell_type": "code",
   "execution_count": 14,
   "id": "5872a28b",
   "metadata": {},
   "outputs": [
    {
     "name": "stdout",
     "output_type": "stream",
     "text": [
      "0\n",
      "4\n",
      "4\n",
      "18\n"
     ]
    }
   ],
   "source": [
    "# Task 6 - Testing the Calculate_All_Error Function\n",
    "datapoints = [(1, 1), (3, 3), (5, 5), (-1, -1)]\n",
    "\n",
    "# every point in this dataset lies upon y=x, so the total error should be zero:\n",
    "print(calculate_all_error(1, 0, datapoints))\n",
    "\n",
    "# every point in this dataset is 1 unit away from y = x + 1, so the total error should be 4:\n",
    "print(calculate_all_error(1, 1, datapoints))\n",
    "\n",
    "# every point in this dataset is 1 unit away from y = x - 1, so the total error should be 4:\n",
    "print(calculate_all_error(1, -1, datapoints))\n",
    "\n",
    "# the points in this dataset are 1, 5, 9, and 3 units away from y = -x + 1, respectively, so total error should be\n",
    "# 1 + 5 + 9 + 3 = 18\n",
    "print(calculate_all_error(-1, 1, datapoints))"
   ]
  },
  {
   "cell_type": "code",
   "execution_count": 15,
   "id": "662db536",
   "metadata": {},
   "outputs": [],
   "source": [
    "# Tasks 8 and 9 - Building a grid of m and b values to find the best fit line\n",
    "possible_ms = [item / 10 for item in range(-100, 101)]\n",
    "possible_bs = [item / 10 for item in range(-200, 201)]"
   ]
  },
  {
   "cell_type": "code",
   "execution_count": 16,
   "id": "3fb79f0e",
   "metadata": {},
   "outputs": [],
   "source": [
    "# Task 10 - Initializing the best fit line variables\n",
    "datapoints = [(1, 2), (2, 0), (3, 4), (4, 4), (5, 3)]\n",
    "smallest_error = float(\"inf\")\n",
    "best_m = 0\n",
    "best_b = 0"
   ]
  },
  {
   "cell_type": "code",
   "execution_count": 17,
   "id": "2e8a7069",
   "metadata": {},
   "outputs": [
    {
     "name": "stdout",
     "output_type": "stream",
     "text": [
      "----------\n",
      "Testing...\n",
      "\n",
      "BEST M = 0.4\n",
      "BEST B = 1.6\n",
      "SMALLEST ERROR = 5.0\n"
     ]
    }
   ],
   "source": [
    "# Tasks 11 and 12 - Finding the best fit line\n",
    "print (\"----------\")\n",
    "print (\"Testing...\")\n",
    "for m in possible_ms:\n",
    "  # print(f\"m = {m}\")\n",
    "  for b in possible_bs:\n",
    "    # print(f\"b = {b}\")\n",
    "    current_error = calculate_all_error(m,b,datapoints)\n",
    "    if(current_error < smallest_error):\n",
    "      best_m = m\n",
    "      best_b = b\n",
    "      smallest_error = current_error\n",
    "print(f\"\"\"\n",
    "BEST M = {best_m}\n",
    "BEST B = {best_b}\n",
    "SMALLEST ERROR = {smallest_error}\"\"\")"
   ]
  },
  {
   "cell_type": "code",
   "execution_count": 18,
   "id": "8f34b595",
   "metadata": {},
   "outputs": [
    {
     "name": "stdout",
     "output_type": "stream",
     "text": [
      "4.0\n"
     ]
    }
   ],
   "source": [
    "# Testing the Model of \"y = 0.4x + 1.6\"\n",
    "m = 0.4\n",
    "b = 1.6\n",
    "x = 6\n",
    "# Task 13\n",
    "print(get_y(m,x,b))"
   ]
  }
 ],
 "metadata": {
  "kernelspec": {
   "display_name": "Python 3",
   "language": "python",
   "name": "python3"
  },
  "language_info": {
   "codemirror_mode": {
    "name": "ipython",
    "version": 3
   },
   "file_extension": ".py",
   "mimetype": "text/x-python",
   "name": "python",
   "nbconvert_exporter": "python",
   "pygments_lexer": "ipython3",
   "version": "3.11.2"
  }
 },
 "nbformat": 4,
 "nbformat_minor": 5
}
