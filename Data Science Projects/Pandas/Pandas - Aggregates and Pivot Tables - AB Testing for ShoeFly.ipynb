{
 "cells": [
  {
   "cell_type": "code",
   "execution_count": 1,
   "id": "5aed4818",
   "metadata": {},
   "outputs": [],
   "source": [
    "import pandas as pd\n",
    "import numpy as np"
   ]
  },
  {
   "cell_type": "code",
   "execution_count": 2,
   "id": "fbd04490",
   "metadata": {},
   "outputs": [],
   "source": [
    "ad_clicks = pd.read_csv('.\\_resources\\Pandas - Ad_Clicks.csv')"
   ]
  },
  {
   "cell_type": "code",
   "execution_count": 3,
   "id": "f7bcf041",
   "metadata": {},
   "outputs": [
    {
     "name": "stdout",
     "output_type": "stream",
     "text": [
      "                                user_id utm_source           day  \\\n",
      "0  008b7c6c-7272-471e-b90e-930d548bd8d7     google  6 - Saturday   \n",
      "1  009abb94-5e14-4b6c-bb1c-4f4df7aa7557   facebook    7 - Sunday   \n",
      "2  00f5d532-ed58-4570-b6d2-768df5f41aed    twitter   2 - Tuesday   \n",
      "3  011adc64-0f44-4fd9-a0bb-f1506d2ad439     google   2 - Tuesday   \n",
      "4  012137e6-7ae7-4649-af68-205b4702169c   facebook    7 - Sunday   \n",
      "\n",
      "  ad_click_timestamp experimental_group  \n",
      "0               7:18                  A  \n",
      "1                NaN                  B  \n",
      "2                NaN                  A  \n",
      "3                NaN                  B  \n",
      "4                NaN                  B  \n"
     ]
    }
   ],
   "source": [
    "# Task 1 - Inspect the data\n",
    "print(ad_clicks.head())"
   ]
  },
  {
   "cell_type": "code",
   "execution_count": 4,
   "id": "2526c7f5",
   "metadata": {},
   "outputs": [
    {
     "name": "stdout",
     "output_type": "stream",
     "text": [
      "  utm_source  day\n",
      "0      email  255\n",
      "1   facebook  504\n",
      "2     google  680\n",
      "3    twitter  215\n"
     ]
    }
   ],
   "source": [
    "# Task 2 - Group by 'utm_source' and counts interactions by platform for each day\n",
    "print(ad_clicks.groupby('utm_source').day.count().reset_index())"
   ]
  },
  {
   "cell_type": "code",
   "execution_count": 5,
   "id": "bafe01d4",
   "metadata": {},
   "outputs": [
    {
     "name": "stdout",
     "output_type": "stream",
     "text": [
      "                                   user_id utm_source            day  \\\n",
      "0     008b7c6c-7272-471e-b90e-930d548bd8d7     google   6 - Saturday   \n",
      "1     009abb94-5e14-4b6c-bb1c-4f4df7aa7557   facebook     7 - Sunday   \n",
      "2     00f5d532-ed58-4570-b6d2-768df5f41aed    twitter    2 - Tuesday   \n",
      "3     011adc64-0f44-4fd9-a0bb-f1506d2ad439     google    2 - Tuesday   \n",
      "4     012137e6-7ae7-4649-af68-205b4702169c   facebook     7 - Sunday   \n",
      "...                                    ...        ...            ...   \n",
      "1649  fe8b5236-78f6-4192-9da6-a76bba67cfe6    twitter     7 - Sunday   \n",
      "1650  fed3db6d-8c92-40e3-a4fb-1fb9d7337eb1   facebook     5 - Friday   \n",
      "1651  ff3a22ff-521c-478c-87ca-7dc7b8f34372    twitter  3 - Wednesday   \n",
      "1652  ff3af0d6-b092-4c4d-9f2e-2bdd8f7c0732     google     1 - Monday   \n",
      "1653  ffdfe7ec-0c74-4623-8d90-d95d80f1ba34   facebook   6 - Saturday   \n",
      "\n",
      "     ad_click_timestamp experimental_group  is_click  \n",
      "0                  7:18                  A      True  \n",
      "1                   NaN                  B     False  \n",
      "2                   NaN                  A     False  \n",
      "3                   NaN                  B     False  \n",
      "4                   NaN                  B     False  \n",
      "...                 ...                ...       ...  \n",
      "1649                NaN                  A     False  \n",
      "1650                NaN                  B     False  \n",
      "1651                NaN                  B     False  \n",
      "1652              22:57                  A      True  \n",
      "1653                NaN                  B     False  \n",
      "\n",
      "[1654 rows x 6 columns]\n"
     ]
    }
   ],
   "source": [
    "# Task 3 - Determine if the ad was clicked\n",
    "# Create a new column 'is_click' that is True if 'ad_click_timestamp' is not null\n",
    "# and False otherwise. Use the ~ operator to negate the boolean value.\n",
    "ad_clicks['is_click'] = ~ad_clicks.ad_click_timestamp.isnull()\n",
    "print(ad_clicks)"
   ]
  },
  {
   "cell_type": "code",
   "execution_count": 6,
   "id": "5b7e6dbd",
   "metadata": {},
   "outputs": [
    {
     "name": "stdout",
     "output_type": "stream",
     "text": [
      "  utm_source  is_click  user_id\n",
      "0      email     False      175\n",
      "1      email      True       80\n",
      "2   facebook     False      324\n",
      "3   facebook      True      180\n",
      "4     google     False      441\n",
      "5     google      True      239\n",
      "6    twitter     False      149\n",
      "7    twitter      True       66\n"
     ]
    }
   ],
   "source": [
    "# Task 4 - Group by 'utm_source' and 'is_click' to count the number of clicks\n",
    "clicks_by_source = ad_clicks.groupby(['utm_source',\"is_click\"]).user_id.count().reset_index()\n",
    "print(clicks_by_source)"
   ]
  },
  {
   "cell_type": "code",
   "execution_count": 7,
   "id": "7e3b225f",
   "metadata": {},
   "outputs": [
    {
     "name": "stdout",
     "output_type": "stream",
     "text": [
      "is_click utm_source  False  True\n",
      "0             email    175    80\n",
      "1          facebook    324   180\n",
      "2            google    441   239\n",
      "3           twitter    149    66\n"
     ]
    }
   ],
   "source": [
    "# Task 5 - Pivot the table to have 'utm_source' as index and 'is_click' as columns\n",
    "# and the count of 'user_id' as values. Use the pivot method.\n",
    "clicks_pivot = clicks_by_source.pivot(\n",
    "  columns='is_click',\n",
    "  index='utm_source',\n",
    "  values='user_id'\n",
    ").reset_index()\n",
    "print(clicks_pivot)"
   ]
  },
  {
   "cell_type": "code",
   "execution_count": 8,
   "id": "440ef3e2",
   "metadata": {},
   "outputs": [
    {
     "name": "stdout",
     "output_type": "stream",
     "text": [
      "is_click utm_source  False  True  percent_clicked\n",
      "0             email    175    80         0.313725\n",
      "1          facebook    324   180         0.357143\n",
      "2            google    441   239         0.351471\n",
      "3           twitter    149    66         0.306977\n"
     ]
    }
   ],
   "source": [
    "# Task 6 - Calculate the percentage of clicks\n",
    "# Create a new column 'percent_clicked' that calculates the percentage of clicks\n",
    "clicks_pivot['percent_clicked'] = ((clicks_pivot[True]) / (clicks_pivot[True] + clicks_pivot[False]))\n",
    "print(clicks_pivot)"
   ]
  },
  {
   "cell_type": "code",
   "execution_count": 9,
   "id": "c75e74c2",
   "metadata": {},
   "outputs": [
    {
     "name": "stdout",
     "output_type": "stream",
     "text": [
      "  experimental_group  user_id  utm_source  day  ad_click_timestamp  is_click\n",
      "0                  A      827         827  827                 310       827\n",
      "1                  B      827         827  827                 255       827\n"
     ]
    }
   ],
   "source": [
    "# Task 7 - Group by experimental group (either A or B) and count the number of clicks for each group\n",
    "print(ad_clicks.groupby('experimental_group').count().reset_index())"
   ]
  },
  {
   "cell_type": "code",
   "execution_count": 10,
   "id": "04084ca7",
   "metadata": {},
   "outputs": [
    {
     "name": "stdout",
     "output_type": "stream",
     "text": [
      "is_click experimental_group  False  True  percent_clicked\n",
      "0                         A    517   310         0.374849\n",
      "1                         B    572   255         0.308343\n"
     ]
    }
   ],
   "source": [
    "# Task 8 - Use Group by and Pivot to calculate the percentage of clicks for each experimental group\n",
    "# Group by experimental group and is_click to count the number of clicks\n",
    "clicks_by_source = ad_clicks.groupby([\"experimental_group\",\"is_click\"]).user_id.count().reset_index()\n",
    "# Create a pivot table with 'experimental_group' as index and 'is_click' as columns and values as 'user_id'\n",
    "clicks_pivot = clicks_by_source.pivot(\n",
    "  columns='is_click',\n",
    "  index='experimental_group',\n",
    "  values='user_id'\n",
    ").reset_index()\n",
    "\n",
    "# Create a new column 'percent_clicked' that calculates the percentage of clicks for each group\n",
    "clicks_pivot['percent_clicked'] = ((clicks_pivot[True]) / (clicks_pivot[True] + clicks_pivot[False]))\n",
    "\n",
    "# Print the final pivot table with percentage of clicks for each group\n",
    "print(clicks_pivot)"
   ]
  },
  {
   "cell_type": "code",
   "execution_count": 11,
   "id": "e8ba5f19",
   "metadata": {},
   "outputs": [],
   "source": [
    "# Task 9 - Create a new DataFrame for each experimental group\n",
    "a_clicks = ad_clicks[ad_clicks.experimental_group == 'A']\n",
    "b_clicks = ad_clicks[ad_clicks.experimental_group == 'B']"
   ]
  },
  {
   "cell_type": "code",
   "execution_count": 12,
   "id": "74879014",
   "metadata": {},
   "outputs": [
    {
     "name": "stdout",
     "output_type": "stream",
     "text": [
      "is_click            day  False  True  percent_clicked\n",
      "0            1 - Monday     70    43         0.380531\n",
      "1           2 - Tuesday     76    43         0.361345\n",
      "2         3 - Wednesday     86    38         0.306452\n",
      "3          4 - Thursday     69    47         0.405172\n",
      "4            5 - Friday     77    51         0.398438\n",
      "5          6 - Saturday     73    45         0.381356\n",
      "6            7 - Sunday     66    43         0.394495\n",
      "is_click            day  False  True  percent_clicked\n",
      "0            1 - Monday     81    32         0.283186\n",
      "1           2 - Tuesday     74    45         0.378151\n",
      "2         3 - Wednesday     89    35         0.282258\n",
      "3          4 - Thursday     87    29         0.250000\n",
      "4            5 - Friday     90    38         0.296875\n",
      "5          6 - Saturday     76    42         0.355932\n",
      "6            7 - Sunday     75    34         0.311927\n"
     ]
    }
   ],
   "source": [
    "# Task 10 - Group by day and is_click to count the number of clicks for each experimental group\n",
    "\n",
    "# Group A\n",
    "a_clicks_grouped = a_clicks.groupby(['day','is_click']).user_id.count().reset_index()\n",
    "\n",
    "a_clicks_pivot = a_clicks_grouped.pivot(\n",
    "  columns='is_click',\n",
    "  index='day',\n",
    "  values='user_id'\n",
    ").reset_index()\n",
    "a_clicks_pivot['percent_clicked'] = ((a_clicks_pivot[True]) / (a_clicks_pivot[True] + a_clicks_pivot[False]))\n",
    "print(a_clicks_pivot)\n",
    "\n",
    "# Group B\n",
    "b_clicks_grouped = b_clicks.groupby(['day','is_click']).user_id.count().reset_index()\n",
    "b_clicks_pivot = b_clicks_grouped.pivot(\n",
    "  columns='is_click',\n",
    "  index='day',\n",
    "  values='user_id'\n",
    ").reset_index()\n",
    "b_clicks_pivot['percent_clicked'] = ((b_clicks_pivot[True]) / (b_clicks_pivot[True] + b_clicks_pivot[False]))\n",
    "print(b_clicks_pivot)"
   ]
  },
  {
   "cell_type": "code",
   "execution_count": 13,
   "id": "f4f6f18a",
   "metadata": {},
   "outputs": [
    {
     "name": "stdout",
     "output_type": "stream",
     "text": [
      "0.3753983404300299\n",
      "0.30833271066038753\n"
     ]
    }
   ],
   "source": [
    "# Task 11 - Compare the results of A and B\n",
    "# Print the mean percentage of clicks for each group\n",
    "print(a_clicks_pivot['percent_clicked'].mean())\n",
    "print(b_clicks_pivot['percent_clicked'].mean())\n",
    "\n",
    "# Comparing the results of A and B, the data suggests that Ad A is the better performing ad."
   ]
  }
 ],
 "metadata": {
  "kernelspec": {
   "display_name": "Python 3",
   "language": "python",
   "name": "python3"
  },
  "language_info": {
   "codemirror_mode": {
    "name": "ipython",
    "version": 3
   },
   "file_extension": ".py",
   "mimetype": "text/x-python",
   "name": "python",
   "nbconvert_exporter": "python",
   "pygments_lexer": "ipython3",
   "version": "3.11.2"
  }
 },
 "nbformat": 4,
 "nbformat_minor": 5
}
