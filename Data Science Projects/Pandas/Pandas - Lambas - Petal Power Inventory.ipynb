{
 "cells": [
  {
   "cell_type": "code",
   "execution_count": 4,
   "id": "03f4de5d",
   "metadata": {},
   "outputs": [],
   "source": [
    "# Import necessary libraries\n",
    "import pandas as pd"
   ]
  },
  {
   "cell_type": "code",
   "execution_count": 5,
   "id": "70c2be1d",
   "metadata": {},
   "outputs": [],
   "source": [
    "# Task 1 - Load the CSV file into a DataFrame\n",
    "inventory = pd.read_csv('.\\_resources\\Pandas - Inventory.csv')"
   ]
  },
  {
   "cell_type": "code",
   "execution_count": 6,
   "id": "1182b323",
   "metadata": {},
   "outputs": [],
   "source": [
    "# Task 2 & 3 - Filter the DataFrame for Staten Island and select the first 10 rows\n",
    "staten_island = inventory.head(10)"
   ]
  },
  {
   "cell_type": "code",
   "execution_count": 7,
   "id": "655f1405",
   "metadata": {},
   "outputs": [
    {
     "name": "stdout",
     "output_type": "stream",
     "text": [
      "0                         daisy\n",
      "1                    calla lily\n",
      "2                        tomato\n",
      "3                          rake\n",
      "4                   wheelbarrow\n",
      "5                         spade\n",
      "6                 insect killer\n",
      "7                   weed killer\n",
      "8    20 inch terracotta planter\n",
      "9        8 inch plastic planter\n",
      "Name: product_description, dtype: object\n"
     ]
    }
   ],
   "source": [
    "# Task 4 - Select the 'product_description' column from the filtered DataFrame\n",
    "product_request = staten_island.product_description\n",
    "# Uncomment the next line to print the product descriptions\n",
    "print(product_request)"
   ]
  },
  {
   "cell_type": "code",
   "execution_count": 8,
   "id": "317976dc",
   "metadata": {},
   "outputs": [
    {
     "name": "stdout",
     "output_type": "stream",
     "text": [
      "    location product_type product_description  quantity  price\n",
      "10  Brooklyn        seeds               daisy        50   6.99\n",
      "11  Brooklyn        seeds          calla lily         0  19.99\n",
      "12  Brooklyn        seeds              tomato         0  13.99\n"
     ]
    }
   ],
   "source": [
    "# Task 5 - Filter the DataFrame for Brooklyn and seeds\n",
    "seed_request = inventory[(inventory['location'] == 'Brooklyn') & (inventory['product_type'] == 'seeds')]\n",
    "# Uncomment the next line to print the seed request\n",
    "print(seed_request)"
   ]
  },
  {
   "cell_type": "code",
   "execution_count": 9,
   "id": "d4fea30a",
   "metadata": {},
   "outputs": [],
   "source": [
    "# Task 6 - Create a new true/false column called 'in_stock' based on the 'quantity' column\n",
    "in_stock = lambda row: True if (row['quantity'] > 0) else False\n",
    "inventory['in_stock'] = inventory.apply(in_stock, axis=1)"
   ]
  },
  {
   "cell_type": "code",
   "execution_count": 10,
   "id": "10fa3fa4",
   "metadata": {},
   "outputs": [
    {
     "name": "stdout",
     "output_type": "stream",
     "text": [
      "         location  product_type         product_description  quantity  price  \\\n",
      "0   Staten Island         seeds                       daisy         4   6.99   \n",
      "1   Staten Island         seeds                  calla lily        46  19.99   \n",
      "2   Staten Island         seeds                      tomato        85  13.99   \n",
      "3   Staten Island  garden tools                        rake         4  13.99   \n",
      "4   Staten Island  garden tools                 wheelbarrow         0  89.99   \n",
      "5   Staten Island  garden tools                       spade        93  19.99   \n",
      "6   Staten Island  pest_control               insect killer        74  12.99   \n",
      "7   Staten Island  pest_control                 weed killer         8  23.99   \n",
      "8   Staten Island       planter  20 inch terracotta planter         0  17.99   \n",
      "9   Staten Island       planter      8 inch plastic planter        53   3.99   \n",
      "10       Brooklyn         seeds                       daisy        50   6.99   \n",
      "11       Brooklyn         seeds                  calla lily         0  19.99   \n",
      "12       Brooklyn         seeds                      tomato         0  13.99   \n",
      "13       Brooklyn  garden tools                        rake        15  13.99   \n",
      "14       Brooklyn  garden tools                 wheelbarrow        82  89.99   \n",
      "15       Brooklyn  garden tools                       spade        36  19.99   \n",
      "16       Brooklyn  pest_control               insect killer        80  12.99   \n",
      "17       Brooklyn  pest_control                 weed killer        76  23.99   \n",
      "18       Brooklyn       planter  20 inch terracotta planter         5  17.99   \n",
      "19       Brooklyn       planter      8 inch plastic planter        26   3.99   \n",
      "20         Queens         seeds                       daisy        57   6.99   \n",
      "21         Queens         seeds                  calla lily        95  19.99   \n",
      "22         Queens         seeds                      tomato        45  13.99   \n",
      "23         Queens  garden tools                        rake        21  13.99   \n",
      "24         Queens  garden tools                 wheelbarrow        98  89.99   \n",
      "25         Queens  garden tools                       spade        26  19.99   \n",
      "26         Queens  pest_control               insect killer         0  12.99   \n",
      "27         Queens  pest_control                 weed killer        16  23.99   \n",
      "28         Queens       planter  20 inch terracotta planter        87  17.99   \n",
      "\n",
      "    in_stock  total_value  \n",
      "0       True        27.96  \n",
      "1       True       919.54  \n",
      "2       True      1189.15  \n",
      "3       True        55.96  \n",
      "4      False         0.00  \n",
      "5       True      1859.07  \n",
      "6       True       961.26  \n",
      "7       True       191.92  \n",
      "8      False         0.00  \n",
      "9       True       211.47  \n",
      "10      True       349.50  \n",
      "11     False         0.00  \n",
      "12     False         0.00  \n",
      "13      True       209.85  \n",
      "14      True      7379.18  \n",
      "15      True       719.64  \n",
      "16      True      1039.20  \n",
      "17      True      1823.24  \n",
      "18      True        89.95  \n",
      "19      True       103.74  \n",
      "20      True       398.43  \n",
      "21      True      1899.05  \n",
      "22      True       629.55  \n",
      "23      True       293.79  \n",
      "24      True      8819.02  \n",
      "25      True       519.74  \n",
      "26     False         0.00  \n",
      "27      True       383.84  \n",
      "28      True      1565.13  \n"
     ]
    }
   ],
   "source": [
    "# Task 7 - Create a new column 'total_value' based on 'quantity' and 'price'\n",
    "total_value  = lambda row: row['quantity'] * row['price']\n",
    "inventory['total_value'] = inventory.apply(total_value, axis=1)\n",
    "# Uncomment the next line to print the inventory with total value\n",
    "print(inventory)"
   ]
  },
  {
   "cell_type": "code",
   "execution_count": 11,
   "id": "b58173d2",
   "metadata": {},
   "outputs": [],
   "source": [
    "# Task 8 - Create a lambda function to combine product type and description\n",
    "combine_lambda = lambda row: \\\n",
    "  f'{row.product_type} - {row.product_description}'"
   ]
  },
  {
   "cell_type": "code",
   "execution_count": 12,
   "id": "fd637215",
   "metadata": {},
   "outputs": [
    {
     "name": "stdout",
     "output_type": "stream",
     "text": [
      "         location  product_type         product_description  quantity  price  \\\n",
      "0   Staten Island         seeds                       daisy         4   6.99   \n",
      "1   Staten Island         seeds                  calla lily        46  19.99   \n",
      "2   Staten Island         seeds                      tomato        85  13.99   \n",
      "3   Staten Island  garden tools                        rake         4  13.99   \n",
      "4   Staten Island  garden tools                 wheelbarrow         0  89.99   \n",
      "5   Staten Island  garden tools                       spade        93  19.99   \n",
      "6   Staten Island  pest_control               insect killer        74  12.99   \n",
      "7   Staten Island  pest_control                 weed killer         8  23.99   \n",
      "8   Staten Island       planter  20 inch terracotta planter         0  17.99   \n",
      "9   Staten Island       planter      8 inch plastic planter        53   3.99   \n",
      "10       Brooklyn         seeds                       daisy        50   6.99   \n",
      "11       Brooklyn         seeds                  calla lily         0  19.99   \n",
      "12       Brooklyn         seeds                      tomato         0  13.99   \n",
      "13       Brooklyn  garden tools                        rake        15  13.99   \n",
      "14       Brooklyn  garden tools                 wheelbarrow        82  89.99   \n",
      "15       Brooklyn  garden tools                       spade        36  19.99   \n",
      "16       Brooklyn  pest_control               insect killer        80  12.99   \n",
      "17       Brooklyn  pest_control                 weed killer        76  23.99   \n",
      "18       Brooklyn       planter  20 inch terracotta planter         5  17.99   \n",
      "19       Brooklyn       planter      8 inch plastic planter        26   3.99   \n",
      "20         Queens         seeds                       daisy        57   6.99   \n",
      "21         Queens         seeds                  calla lily        95  19.99   \n",
      "22         Queens         seeds                      tomato        45  13.99   \n",
      "23         Queens  garden tools                        rake        21  13.99   \n",
      "24         Queens  garden tools                 wheelbarrow        98  89.99   \n",
      "25         Queens  garden tools                       spade        26  19.99   \n",
      "26         Queens  pest_control               insect killer         0  12.99   \n",
      "27         Queens  pest_control                 weed killer        16  23.99   \n",
      "28         Queens       planter  20 inch terracotta planter        87  17.99   \n",
      "\n",
      "    in_stock  total_value                      full_description  \n",
      "0       True        27.96                         seeds - daisy  \n",
      "1       True       919.54                    seeds - calla lily  \n",
      "2       True      1189.15                        seeds - tomato  \n",
      "3       True        55.96                   garden tools - rake  \n",
      "4      False         0.00            garden tools - wheelbarrow  \n",
      "5       True      1859.07                  garden tools - spade  \n",
      "6       True       961.26          pest_control - insect killer  \n",
      "7       True       191.92            pest_control - weed killer  \n",
      "8      False         0.00  planter - 20 inch terracotta planter  \n",
      "9       True       211.47      planter - 8 inch plastic planter  \n",
      "10      True       349.50                         seeds - daisy  \n",
      "11     False         0.00                    seeds - calla lily  \n",
      "12     False         0.00                        seeds - tomato  \n",
      "13      True       209.85                   garden tools - rake  \n",
      "14      True      7379.18            garden tools - wheelbarrow  \n",
      "15      True       719.64                  garden tools - spade  \n",
      "16      True      1039.20          pest_control - insect killer  \n",
      "17      True      1823.24            pest_control - weed killer  \n",
      "18      True        89.95  planter - 20 inch terracotta planter  \n",
      "19      True       103.74      planter - 8 inch plastic planter  \n",
      "20      True       398.43                         seeds - daisy  \n",
      "21      True      1899.05                    seeds - calla lily  \n",
      "22      True       629.55                        seeds - tomato  \n",
      "23      True       293.79                   garden tools - rake  \n",
      "24      True      8819.02            garden tools - wheelbarrow  \n",
      "25      True       519.74                  garden tools - spade  \n",
      "26     False         0.00          pest_control - insect killer  \n",
      "27      True       383.84            pest_control - weed killer  \n",
      "28      True      1565.13  planter - 20 inch terracotta planter  \n"
     ]
    }
   ],
   "source": [
    "# Task 9 - Create a new column 'full_description' using the combine_lambda function\n",
    "inventory['full_description'] = inventory.apply(combine_lambda, axis=1)\n",
    "# Uncomment the next line to print the inventory with full description\n",
    "print(inventory)"
   ]
  }
 ],
 "metadata": {
  "kernelspec": {
   "display_name": "Python 3",
   "language": "python",
   "name": "python3"
  },
  "language_info": {
   "codemirror_mode": {
    "name": "ipython",
    "version": 3
   },
   "file_extension": ".py",
   "mimetype": "text/x-python",
   "name": "python",
   "nbconvert_exporter": "python",
   "pygments_lexer": "ipython3",
   "version": "3.11.9"
  }
 },
 "nbformat": 4,
 "nbformat_minor": 5
}
