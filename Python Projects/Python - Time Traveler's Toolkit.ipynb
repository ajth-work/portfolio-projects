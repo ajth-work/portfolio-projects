{
 "cells": [
  {
   "cell_type": "code",
   "execution_count": 37,
   "id": "45a2abe6",
   "metadata": {},
   "outputs": [],
   "source": [
    "# Importing necessary libraries\n",
    "from datetime import datetime as dt\n",
    "from decimal import Decimal\n",
    "from random import randint, choice"
   ]
  },
  {
   "cell_type": "code",
   "execution_count": 38,
   "id": "aa6c99c9",
   "metadata": {},
   "outputs": [],
   "source": [
    "# Importing custom modules\n",
    "import sys\n",
    "sys.path.append('../_Project Datasets/')\n",
    "from custom_module import generate_time_travel_message"
   ]
  },
  {
   "cell_type": "code",
   "execution_count": 39,
   "id": "b4889ea7",
   "metadata": {},
   "outputs": [
    {
     "name": "stdout",
     "output_type": "stream",
     "text": [
      "2025-04-17 18:10:12.434245\n"
     ]
    }
   ],
   "source": [
    "# Set current date and time\n",
    "current_datetime = dt.now()\n",
    "print(current_datetime)"
   ]
  },
  {
   "cell_type": "code",
   "execution_count": 40,
   "id": "6a342ff7",
   "metadata": {},
   "outputs": [
    {
     "name": "stdout",
     "output_type": "stream",
     "text": [
      "4000.00\n"
     ]
    }
   ],
   "source": [
    "# Initialize message cost variable\n",
    "cost = Decimal('80.00')\n",
    "current_year = 2025\n",
    "target_year = randint(1900,2025)\n",
    "multiplier = abs(current_year - target_year)\n",
    "final_cost = cost * multiplier\n",
    "print(final_cost)"
   ]
  },
  {
   "cell_type": "code",
   "execution_count": 41,
   "id": "efb2bc10",
   "metadata": {},
   "outputs": [],
   "source": [
    "# Initialize a list of destinations\n",
    "destinations = [\n",
    "  \"Tokyo\",\n",
    "  \"New York\",\n",
    "  \"Paris\",\n",
    "  \"Chongqing\",\n",
    "  \"Berlin\",\n",
    "  \"Sao Paolo\"\n",
    "]"
   ]
  },
  {
   "cell_type": "code",
   "execution_count": 42,
   "id": "1f3944c3",
   "metadata": {},
   "outputs": [
    {
     "name": "stdout",
     "output_type": "stream",
     "text": [
      "Paris\n"
     ]
    }
   ],
   "source": [
    "# Randomly select a destination from the list\n",
    "chosen_destination = choice(destinations)\n",
    "print(chosen_destination)"
   ]
  },
  {
   "cell_type": "code",
   "execution_count": 43,
   "id": "6007827a",
   "metadata": {},
   "outputs": [
    {
     "name": "stdout",
     "output_type": "stream",
     "text": [
      "This is a message from the year 1975! It was intended for someone in Paris. It cost $4000.00 to send this message.\n"
     ]
    }
   ],
   "source": [
    "# Generate a time travel message using the custom module and print the cost\n",
    "generate_time_travel_message(target_year, chosen_destination, final_cost)"
   ]
  }
 ],
 "metadata": {
  "kernelspec": {
   "display_name": "Python 3",
   "language": "python",
   "name": "python3"
  },
  "language_info": {
   "codemirror_mode": {
    "name": "ipython",
    "version": 3
   },
   "file_extension": ".py",
   "mimetype": "text/x-python",
   "name": "python",
   "nbconvert_exporter": "python",
   "pygments_lexer": "ipython3",
   "version": "3.11.2"
  }
 },
 "nbformat": 4,
 "nbformat_minor": 5
}
