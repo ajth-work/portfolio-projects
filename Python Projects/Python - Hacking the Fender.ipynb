{
 "cells": [
  {
   "cell_type": "code",
   "execution_count": 76,
   "id": "4731620e",
   "metadata": {},
   "outputs": [],
   "source": [
    "# Import necessary libraries\n",
    "import csv\n",
    "import json"
   ]
  },
  {
   "cell_type": "code",
   "execution_count": 77,
   "id": "9189973a",
   "metadata": {},
   "outputs": [],
   "source": [
    "# Initialize an empty list to store compromised users\n",
    "compromised_users = []"
   ]
  },
  {
   "cell_type": "code",
   "execution_count": 78,
   "id": "15e849c2",
   "metadata": {},
   "outputs": [
    {
     "name": "stdout",
     "output_type": "stream",
     "text": [
      "['jean49', 'haydenashley', 'michaelastephens', 'denisephillips', 'andrew24', 'kaylaabbott', 'tmartinez', 'mholden', 'randygilbert', 'watsonlouis', 'mdavis', 'patrickprice', 'kgriffith', 'hannasarah', 'xaviermartin', 'hrodriguez', 'erodriguez', 'danielleclark', 'timothy26', 'elizabeth19']\n"
     ]
    }
   ],
   "source": [
    "# Get usernames from the JSON file\n",
    "with open(\"../_Project Datasets/Hacking The Fender Project/passwords.csv\") as password_file:\n",
    "  password_csv = csv.DictReader(password_file)\n",
    "  compromised_users = [password_row['Username'] for password_row in password_csv]\n",
    "  print(compromised_users)"
   ]
  },
  {
   "cell_type": "code",
   "execution_count": 79,
   "id": "64ad7e15",
   "metadata": {},
   "outputs": [],
   "source": [
    "# Create list of compromised usernames\n",
    "with open(\"../_Project Datasets/Hacking The Fender Project/compromised_users.txt\",\"w\") as compromised_user_file:\n",
    "  for compromised_user in compromised_users:\n",
    "    compromised_user_file.write(compromised_user + \"\\n\")"
   ]
  },
  {
   "cell_type": "code",
   "execution_count": 80,
   "id": "fd78c8b8",
   "metadata": {},
   "outputs": [],
   "source": [
    "# Make JSON file to relay information to boss\n",
    "with open(\"../_Project Datasets/Hacking The Fender Project/boss_message.json\",\"w\") as boss_message:\n",
    "  boss_message_dict = {\n",
    "    \"recipient\": \"The Boss\",\n",
    "    \"message\": \"Mission Success\"\n",
    "  }\n",
    "  json.dump(boss_message_dict, boss_message)"
   ]
  },
  {
   "cell_type": "code",
   "execution_count": 81,
   "id": "2677075f",
   "metadata": {},
   "outputs": [],
   "source": [
    "# Leave Slash Null signature in the new_passwords file\n",
    "with open(\"../_Project Datasets/Hacking The Fender Project/new_passwords.csv\",\"w\") as new_passwords_obj:\n",
    "  slash_null_sig = \"\"\"\n",
    "   _  _     ___   __  ____             \n",
    "/ )( \\   / __) /  \\(_  _)            \n",
    ") \\/ (  ( (_ \\(  O ) )(              \n",
    "\\____/   \\___/ \\__/ (__)             \n",
    " _  _   __    ___  __ _  ____  ____  \n",
    "/ )( \\ / _\\  / __)(  / )(  __)(    \\ \n",
    ") __ (/    \\( (__  )  (  ) _)  ) D ( \n",
    "\\_)(_/\\_/\\_/ \\___)(__\\_)(____)(____/ \n",
    "        ____  __     __   ____  _  _ \n",
    " ___   / ___)(  )   / _\\ / ___)/ )( \\\n",
    "(___)  \\___ \\/ (_/\\/    \\\\___ \\) __ (\n",
    "       (____/\\____/\\_/\\_/(____/\\_)(_/\n",
    " __ _  _  _  __    __                \n",
    "(  ( \\/ )( \\(  )  (  )               \n",
    "/    /) \\/ (/ (_/\\/ (_/\\             \n",
    "\\_)__)\\____/\\____/\\____/\n",
    "\n",
    "  \"\"\"\n",
    "  new_passwords_obj.write(slash_null_sig)"
   ]
  }
 ],
 "metadata": {
  "kernelspec": {
   "display_name": "Python 3",
   "language": "python",
   "name": "python3"
  },
  "language_info": {
   "codemirror_mode": {
    "name": "ipython",
    "version": 3
   },
   "file_extension": ".py",
   "mimetype": "text/x-python",
   "name": "python",
   "nbconvert_exporter": "python",
   "pygments_lexer": "ipython3",
   "version": "3.11.2"
  }
 },
 "nbformat": 4,
 "nbformat_minor": 5
}
