{
 "cells": [
  {
   "cell_type": "code",
   "execution_count": 2,
   "id": "c5f73c45",
   "metadata": {},
   "outputs": [],
   "source": [
    "# Initializing the list of names, estimated insurance costs, and actual insurance costs\n",
    "names = [\"Judith\", \"Abel\", \"Tyson\", \"Martha\", \"Beverley\", \"David\", \"Anabel\"]\n",
    "estimated_insurance_costs = [1000.0, 2000.0, 3000.0, 4000.0, 5000.0, 6000.0, 7000.0]\n",
    "actual_insurance_costs = [1100.0, 2200.0, 3300.0, 4400.0, 5500.0, 6600.0, 7700.0]"
   ]
  },
  {
   "cell_type": "code",
   "execution_count": 3,
   "id": "c4c048dc",
   "metadata": {},
   "outputs": [],
   "source": [
    "# Setting total cost to 0\n",
    "total_cost = 0"
   ]
  },
  {
   "cell_type": "code",
   "execution_count": 4,
   "id": "d7bea8ad",
   "metadata": {},
   "outputs": [
    {
     "name": "stdout",
     "output_type": "stream",
     "text": [
      "30800.0\n"
     ]
    }
   ],
   "source": [
    "# Calculating the total cost of insurance\n",
    "for cost in actual_insurance_costs:\n",
    "  total_cost += cost\n",
    "print(total_cost)"
   ]
  },
  {
   "cell_type": "code",
   "execution_count": 5,
   "id": "15eb608e",
   "metadata": {},
   "outputs": [
    {
     "name": "stdout",
     "output_type": "stream",
     "text": [
      "Average Insurance Cost: 4400.0 dollars.\n"
     ]
    }
   ],
   "source": [
    "# Calculating the average insurance cost\n",
    "average_cost = total_cost / len(actual_insurance_costs)\n",
    "print(f\"Average Insurance Cost: {average_cost} dollars.\")"
   ]
  },
  {
   "cell_type": "code",
   "execution_count": 6,
   "id": "1b8d572e",
   "metadata": {},
   "outputs": [
    {
     "name": "stdout",
     "output_type": "stream",
     "text": [
      "1. The insurance cost for Judith is 1100.0 dollars.\n",
      "----> The insurance cost for Judith is below average.\n",
      "2. The insurance cost for Abel is 2200.0 dollars.\n",
      "----> The insurance cost for Abel is below average.\n",
      "3. The insurance cost for Tyson is 3300.0 dollars.\n",
      "----> The insurance cost for Tyson is below average.\n",
      "4. The insurance cost for Martha is 4400.0 dollars.\n",
      "----> The insurance cost for Martha is equal to the average.\n",
      "5. The insurance cost for Beverley is 5500.0 dollars.\n",
      "----> The insurance cost for Beverley is above average.\n",
      "6. The insurance cost for David is 6600.0 dollars.\n",
      "----> The insurance cost for David is above average.\n",
      "7. The insurance cost for Anabel is 7700.0 dollars.\n",
      "----> The insurance cost for Anabel is above average.\n"
     ]
    }
   ],
   "source": [
    "# Printing the insurance costs for each person and comparing with the average\n",
    "for i in range(len(names)):\n",
    "  print(f\"{i+1}. The insurance cost for {names[i]} is {actual_insurance_costs[i]} dollars.\")\n",
    "  if actual_insurance_costs[i] > average_cost:\n",
    "    print(f\"----> The insurance cost for {names[i]} is above average.\")\n",
    "  elif actual_insurance_costs[i] < average_cost:\n",
    "    print(f\"----> The insurance cost for {names[i]} is below average.\")\n",
    "  else:\n",
    "    print(f\"----> The insurance cost for {names[i]} is equal to the average.\")"
   ]
  },
  {
   "cell_type": "code",
   "execution_count": 7,
   "id": "241a3984",
   "metadata": {},
   "outputs": [
    {
     "name": "stdout",
     "output_type": "stream",
     "text": [
      "[1100.0, 2200.0, 3300.0000000000005, 4400.0, 5500.0, 6600.000000000001, 7700.000000000001]\n"
     ]
    }
   ],
   "source": [
    "# Updating the estimated insurance costs by increasing them by 10%\n",
    "updated_estimated_costs = [cost * (11/10) for cost in estimated_insurance_costs]\n",
    "print(updated_estimated_costs)"
   ]
  }
 ],
 "metadata": {
  "kernelspec": {
   "display_name": "Python 3",
   "language": "python",
   "name": "python3"
  },
  "language_info": {
   "codemirror_mode": {
    "name": "ipython",
    "version": 3
   },
   "file_extension": ".py",
   "mimetype": "text/x-python",
   "name": "python",
   "nbconvert_exporter": "python",
   "pygments_lexer": "ipython3",
   "version": "3.11.2"
  }
 },
 "nbformat": 4,
 "nbformat_minor": 5
}
