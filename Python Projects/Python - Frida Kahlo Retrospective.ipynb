{
 "cells": [
  {
   "cell_type": "code",
   "execution_count": 2,
   "id": "d316c259",
   "metadata": {},
   "outputs": [
    {
     "name": "stdout",
     "output_type": "stream",
     "text": [
      "['The Two Fridas', 'My Dress Hangs Here', 'Tree of Hope', 'Self Portrait with Monkeys']\n"
     ]
    }
   ],
   "source": [
    "# Initialize a list of Frida Kahlo's paintings\n",
    "paintings = [\"The Two Fridas\", \"My Dress Hangs Here\", \"Tree of Hope\", \"Self Portrait with Monkeys\"]\n",
    "print(paintings)"
   ]
  },
  {
   "cell_type": "code",
   "execution_count": 3,
   "id": "abe35ecc",
   "metadata": {},
   "outputs": [],
   "source": [
    "# Initialize a list of the years the paintings were created\n",
    "dates = [1939, 1933, 1946, 1940]"
   ]
  },
  {
   "cell_type": "code",
   "execution_count": 4,
   "id": "b587752e",
   "metadata": {},
   "outputs": [
    {
     "name": "stdout",
     "output_type": "stream",
     "text": [
      "[('The Two Fridas', 1939), ('My Dress Hangs Here', 1933), ('Tree of Hope', 1946), ('Self Portrait with Monkeys', 1940)]\n"
     ]
    }
   ],
   "source": [
    "# Make a zipped list of paintings and their creation years\n",
    "paintings = list(zip(paintings, dates))\n",
    "print(paintings)"
   ]
  },
  {
   "cell_type": "code",
   "execution_count": 5,
   "id": "4a46518b",
   "metadata": {},
   "outputs": [
    {
     "name": "stdout",
     "output_type": "stream",
     "text": [
      "[('The Two Fridas', 1939), ('My Dress Hangs Here', 1933), ('Tree of Hope', 1946), ('Self Portrait with Monkeys', 1940), ('The Broken Column', 1944), ('The Wounded Deer', 1946), ('Me and My Doll', 1937)]\n"
     ]
    }
   ],
   "source": [
    "# Adadd more paintings and their creation years\n",
    "paintings.append(('The Broken Column', 1944))\n",
    "paintings.append(('The Wounded Deer',1946))\n",
    "paintings.append(('Me and My Doll',1937))\n",
    "print(paintings)"
   ]
  },
  {
   "cell_type": "code",
   "execution_count": 6,
   "id": "dbf20086",
   "metadata": {},
   "outputs": [
    {
     "name": "stdout",
     "output_type": "stream",
     "text": [
      "7\n"
     ]
    }
   ],
   "source": [
    "# Check the length of the list of paintings\n",
    "print(len(paintings))"
   ]
  },
  {
   "cell_type": "code",
   "execution_count": 7,
   "id": "11606d33",
   "metadata": {},
   "outputs": [
    {
     "name": "stdout",
     "output_type": "stream",
     "text": [
      "[1, 2, 3, 4, 5, 6, 7]\n"
     ]
    }
   ],
   "source": [
    "# Create a list of audio tour numbers for each painting\n",
    "audio_tour_number = list(range(1,len(paintings)+1))\n",
    "print(audio_tour_number)"
   ]
  },
  {
   "cell_type": "code",
   "execution_count": null,
   "id": "5ee29979",
   "metadata": {},
   "outputs": [],
   "source": [
    "# Create a master list of audio tour numbers and paintings\n",
    "master_list = list(zip(audio_tour_number, paintings))"
   ]
  },
  {
   "cell_type": "code",
   "execution_count": null,
   "id": "0aa8d8e3",
   "metadata": {},
   "outputs": [
    {
     "name": "stdout",
     "output_type": "stream",
     "text": [
      "[(1, ('The Two Fridas', 1939)), (2, ('My Dress Hangs Here', 1933)), (3, ('Tree of Hope', 1946)), (4, ('Self Portrait with Monkeys', 1940)), (5, ('The Broken Column', 1944)), (6, ('The Wounded Deer', 1946)), (7, ('Me and My Doll', 1937))]\n"
     ]
    }
   ],
   "source": [
    "# Print the master list\n",
    "print(master_list)"
   ]
  }
 ],
 "metadata": {
  "kernelspec": {
   "display_name": "Python 3",
   "language": "python",
   "name": "python3"
  },
  "language_info": {
   "codemirror_mode": {
    "name": "ipython",
    "version": 3
   },
   "file_extension": ".py",
   "mimetype": "text/x-python",
   "name": "python",
   "nbconvert_exporter": "python",
   "pygments_lexer": "ipython3",
   "version": "3.11.2"
  }
 },
 "nbformat": 4,
 "nbformat_minor": 5
}
