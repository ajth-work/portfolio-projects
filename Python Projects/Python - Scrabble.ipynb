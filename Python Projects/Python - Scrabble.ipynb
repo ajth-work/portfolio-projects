{
 "cells": [
  {
   "cell_type": "code",
   "execution_count": 1,
   "id": "7b95365a",
   "metadata": {},
   "outputs": [],
   "source": [
    "# Initialize the letter and points lists\n",
    "letters = [\"A\", \"B\", \"C\", \"D\", \"E\", \"F\", \"G\", \"H\", \"I\", \"J\", \"K\", \"L\", \"M\", \"N\", \"O\", \"P\", \"Q\", \"R\", \"S\", \"T\", \"U\", \"V\", \"W\", \"X\", \"Y\", \"Z\"]\n",
    "points = [1, 3, 3, 2, 1, 4, 2, 4, 1, 8, 5, 1, 3, 4, 1, 3, 10, 1, 1, 1, 1, 4, 4, 8, 4, 10]"
   ]
  },
  {
   "cell_type": "code",
   "execution_count": 2,
   "id": "2ed92eb0",
   "metadata": {},
   "outputs": [
    {
     "name": "stdout",
     "output_type": "stream",
     "text": [
      "{'A': 1, 'B': 3, 'C': 3, 'D': 2, 'E': 1, 'F': 4, 'G': 2, 'H': 4, 'I': 1, 'J': 8, 'K': 5, 'L': 1, 'M': 3, 'N': 4, 'O': 1, 'P': 3, 'Q': 10, 'R': 1, 'S': 1, 'T': 1, 'U': 1, 'V': 4, 'W': 4, 'X': 8, 'Y': 4, 'Z': 10, ' ': 0}\n"
     ]
    }
   ],
   "source": [
    "# Zip letters and points together and then build dictionary with list comprehension\n",
    "tests = list(zip(letters, points))\n",
    "letters_to_points = {letter: point for letter,point in tests}\n",
    "letters_to_points[\" \"] = 0\n",
    "print(letters_to_points)"
   ]
  },
  {
   "cell_type": "code",
   "execution_count": 3,
   "id": "6255c1ce",
   "metadata": {},
   "outputs": [],
   "source": [
    "# Add each letter's point value to the word total value\n",
    "def score_word(word):\n",
    "  point_total = 0\n",
    "  for letter in word.upper():\n",
    "    point_total += letters_to_points.get(letter, 0)\n",
    "  print(word, point_total)\n",
    "  return point_total"
   ]
  },
  {
   "cell_type": "code",
   "execution_count": 4,
   "id": "fd50d96b",
   "metadata": {},
   "outputs": [
    {
     "name": "stdout",
     "output_type": "stream",
     "text": [
      "brownie 15\n"
     ]
    }
   ],
   "source": [
    "# Testing score_word\n",
    "brownie_points = score_word(\"brownie\")"
   ]
  },
  {
   "cell_type": "code",
   "execution_count": 5,
   "id": "db577530",
   "metadata": {},
   "outputs": [],
   "source": [
    "# Initialize the players and their word lists\n",
    "player_to_words = {\n",
    "  \"player1\":[\"BLUE\", \"TENNIS\", \"EXIT\"],\n",
    "  \"wordNerd\": [\"EARTH\", \"EYES\", \"MACHINE\"],\n",
    "  \"Lexi Con\": [\"ERASER\", \"BELLY\", \"HUSKY\"],\n",
    "  \"Prof Reader\": [\"ZAP\", \"COMA\", \"PERIOD\"]\n",
    "  }"
   ]
  },
  {
   "cell_type": "code",
   "execution_count": 6,
   "id": "56d1244b",
   "metadata": {},
   "outputs": [],
   "source": [
    "# Enable the players to add more words to their lists\n",
    "def play_word(player_name, word):\n",
    "  player_to_words[player_name].append(word.upper())\n",
    "  return player_to_words"
   ]
  },
  {
   "cell_type": "code",
   "execution_count": 7,
   "id": "9ba19a97",
   "metadata": {},
   "outputs": [
    {
     "data": {
      "text/plain": [
       "{'player1': ['BLUE', 'TENNIS', 'EXIT', 'NEWSPAPER'],\n",
       " 'wordNerd': ['EARTH', 'EYES', 'MACHINE'],\n",
       " 'Lexi Con': ['ERASER', 'BELLY', 'HUSKY'],\n",
       " 'Prof Reader': ['ZAP', 'COMA', 'PERIOD']}"
      ]
     },
     "execution_count": 7,
     "metadata": {},
     "output_type": "execute_result"
    }
   ],
   "source": [
    "# Testing play_word\n",
    "play_word(\"player1\", \"newspaper\")"
   ]
  },
  {
   "cell_type": "code",
   "execution_count": 8,
   "id": "c7340f70",
   "metadata": {},
   "outputs": [
    {
     "name": "stdout",
     "output_type": "stream",
     "text": [
      "player1\n",
      "BLUE 6\n",
      "TENNIS 12\n",
      "EXIT 11\n",
      "NEWSPAPER 19\n",
      "Total: 48\n",
      "------------\n",
      "wordNerd\n",
      "EARTH 8\n",
      "EYES 7\n",
      "MACHINE 17\n",
      "Total: 32\n",
      "------------\n",
      "Lexi Con\n",
      "ERASER 6\n",
      "BELLY 10\n",
      "HUSKY 15\n",
      "Total: 31\n",
      "------------\n",
      "Prof Reader\n",
      "ZAP 14\n",
      "COMA 8\n",
      "PERIOD 9\n",
      "Total: 31\n",
      "------------\n",
      "{'player1': 48, 'wordNerd': 32, 'Lexi Con': 31, 'Prof Reader': 31}\n"
     ]
    }
   ],
   "source": [
    "# Evaluate how many points for each player's word list\n",
    "player_to_points = {}\n",
    "for player in player_to_words:\n",
    "  print(player)\n",
    "  player_points = 0\n",
    "  for word in player_to_words[player]:\n",
    "    player_points += score_word(word)\n",
    "  print(\"Total:\", player_points)\n",
    "  player_to_points[player] = player_points\n",
    "  print(\"------------\")\n",
    "print(player_to_points)"
   ]
  }
 ],
 "metadata": {
  "kernelspec": {
   "display_name": "Python 3",
   "language": "python",
   "name": "python3"
  },
  "language_info": {
   "codemirror_mode": {
    "name": "ipython",
    "version": 3
   },
   "file_extension": ".py",
   "mimetype": "text/x-python",
   "name": "python",
   "nbconvert_exporter": "python",
   "pygments_lexer": "ipython3",
   "version": "3.11.2"
  }
 },
 "nbformat": 4,
 "nbformat_minor": 5
}
