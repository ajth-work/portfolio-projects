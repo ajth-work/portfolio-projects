{
 "cells": [
  {
   "cell_type": "code",
   "execution_count": 1,
   "id": "39914f63",
   "metadata": {},
   "outputs": [],
   "source": [
    "# Initializing the medical data string with various formatting issues\n",
    "medical_data = \\\n",
    "\"\"\"Marina Allison   ,27   ,   31.1 , \n",
    "#7010.0   ;Markus Valdez   ,   30, \n",
    "22.4,   #4050.0 ;Connie Ballard ,43 \n",
    ",   25.3 , #12060.0 ;Darnell Weber   \n",
    ",   35   , 20.6   , #7500.0;\n",
    "Sylvie Charles   ,22, 22.1 \n",
    ",#3022.0   ;   Vinay Padilla,24,   \n",
    "26.9 ,#4620.0 ;Meredith Santiago, 51   , \n",
    "29.3 ,#16330.0;   Andre Mccarty, \n",
    "19,22.7 , #2900.0 ; \n",
    "Lorena Hodson ,65, 33.1 , #19370.0; \n",
    "Isaac Vu ,34, 24.8,   #7045.0\"\"\""
   ]
  },
  {
   "cell_type": "code",
   "execution_count": 2,
   "id": "7ef64879",
   "metadata": {},
   "outputs": [
    {
     "name": "stdout",
     "output_type": "stream",
     "text": [
      "Marina Allison   ,27   ,   31.1 , \n",
      "$7010.0   ;Markus Valdez   ,   30, \n",
      "22.4,   $4050.0 ;Connie Ballard ,43 \n",
      ",   25.3 , $12060.0 ;Darnell Weber   \n",
      ",   35   , 20.6   , $7500.0;\n",
      "Sylvie Charles   ,22, 22.1 \n",
      ",$3022.0   ;   Vinay Padilla,24,   \n",
      "26.9 ,$4620.0 ;Meredith Santiago, 51   , \n",
      "29.3 ,$16330.0;   Andre Mccarty, \n",
      "19,22.7 , $2900.0 ; \n",
      "Lorena Hodson ,65, 33.1 , $19370.0; \n",
      "Isaac Vu ,34, 24.8,   $7045.0\n"
     ]
    }
   ],
   "source": [
    "# Replace '#' with '$' in the medical data\n",
    "updated_medical_data = medical_data.replace(\"#\",\"$\")\n",
    "print(updated_medical_data)"
   ]
  },
  {
   "cell_type": "code",
   "execution_count": null,
   "id": "960d9e95",
   "metadata": {},
   "outputs": [],
   "source": [
    "# Initialize a counter for the number of records, then count the number of records by counting the '$' characters\n",
    "num_records = 0\n",
    "for character in updated_medical_data:\n",
    "  if character == \"$\":\n",
    "    num_records += 1\n",
    "print(f\"There are {num_records} medical records in the data.\")"
   ]
  },
  {
   "cell_type": "code",
   "execution_count": 5,
   "id": "18ea4a42",
   "metadata": {},
   "outputs": [
    {
     "name": "stdout",
     "output_type": "stream",
     "text": [
      "['Marina Allison   ,27   ,   31.1 , \\n$7010.0   ', 'Markus Valdez   ,   30, \\n22.4,   $4050.0 ', 'Connie Ballard ,43 \\n,   25.3 , $12060.0 ', 'Darnell Weber   \\n,   35   , 20.6   , $7500.0', '\\nSylvie Charles   ,22, 22.1 \\n,$3022.0   ', '   Vinay Padilla,24,   \\n26.9 ,$4620.0 ', 'Meredith Santiago, 51   , \\n29.3 ,$16330.0', '   Andre Mccarty, \\n19,22.7 , $2900.0 ', ' \\nLorena Hodson ,65, 33.1 , $19370.0', ' \\nIsaac Vu ,34, 24.8,   $7045.0']\n"
     ]
    }
   ],
   "source": [
    "# Split the data into individual records\n",
    "medical_data_split = updated_medical_data.split(\";\")\n",
    "print(medical_data_split)"
   ]
  },
  {
   "cell_type": "code",
   "execution_count": 6,
   "id": "1c0b99a5",
   "metadata": {},
   "outputs": [],
   "source": [
    "# Initialize an empty list to store the cleaned records\n",
    "medical_records = []"
   ]
  },
  {
   "cell_type": "code",
   "execution_count": 7,
   "id": "068dc231",
   "metadata": {},
   "outputs": [],
   "source": [
    "# Iterate through each record and split it into components\n",
    "for record in medical_data_split:\n",
    "    medical_records.append(record.split(\",\"))"
   ]
  },
  {
   "cell_type": "code",
   "execution_count": 8,
   "id": "868cf589",
   "metadata": {},
   "outputs": [
    {
     "name": "stdout",
     "output_type": "stream",
     "text": [
      "[['Marina Allison   ', '27   ', '   31.1 ', ' \\n$7010.0   '], ['Markus Valdez   ', '   30', ' \\n22.4', '   $4050.0 '], ['Connie Ballard ', '43 \\n', '   25.3 ', ' $12060.0 '], ['Darnell Weber   \\n', '   35   ', ' 20.6   ', ' $7500.0'], ['\\nSylvie Charles   ', '22', ' 22.1 \\n', '$3022.0   '], ['   Vinay Padilla', '24', '   \\n26.9 ', '$4620.0 '], ['Meredith Santiago', ' 51   ', ' \\n29.3 ', '$16330.0'], ['   Andre Mccarty', ' \\n19', '22.7 ', ' $2900.0 '], [' \\nLorena Hodson ', '65', ' 33.1 ', ' $19370.0'], [' \\nIsaac Vu ', '34', ' 24.8', '   $7045.0']]\n"
     ]
    }
   ],
   "source": [
    "# Clean and format each record\n",
    "medical_records_clean = []\n",
    "print(medical_records)"
   ]
  },
  {
   "cell_type": "code",
   "execution_count": 9,
   "id": "407ca294",
   "metadata": {},
   "outputs": [
    {
     "name": "stdout",
     "output_type": "stream",
     "text": [
      "[['Marina Allison', '27', '31.1', '$7010.0'], ['Markus Valdez', '30', '22.4', '$4050.0'], ['Connie Ballard', '43', '25.3', '$12060.0'], ['Darnell Weber', '35', '20.6', '$7500.0'], ['Sylvie Charles', '22', '22.1', '$3022.0'], ['Vinay Padilla', '24', '26.9', '$4620.0'], ['Meredith Santiago', '51', '29.3', '$16330.0'], ['Andre Mccarty', '19', '22.7', '$2900.0'], ['Lorena Hodson', '65', '33.1', '$19370.0'], ['Isaac Vu', '34', '24.8', '$7045.0']]\n"
     ]
    }
   ],
   "source": [
    "# Iterate through each record and strip whitespace from each item\n",
    "for record in medical_records:\n",
    "    record_clean = []\n",
    "    for item in record:\n",
    "      record_clean.append(item.strip())\n",
    "    medical_records_clean.append(record_clean)\n",
    "print(medical_records_clean)"
   ]
  },
  {
   "cell_type": "code",
   "execution_count": 10,
   "id": "2af30fd4",
   "metadata": {},
   "outputs": [
    {
     "name": "stdout",
     "output_type": "stream",
     "text": [
      "[['MARINA ALLISON', '27', '31.1', '$7010.0'], ['MARKUS VALDEZ', '30', '22.4', '$4050.0'], ['CONNIE BALLARD', '43', '25.3', '$12060.0'], ['DARNELL WEBER', '35', '20.6', '$7500.0'], ['SYLVIE CHARLES', '22', '22.1', '$3022.0'], ['VINAY PADILLA', '24', '26.9', '$4620.0'], ['MEREDITH SANTIAGO', '51', '29.3', '$16330.0'], ['ANDRE MCCARTY', '19', '22.7', '$2900.0'], ['LORENA HODSON', '65', '33.1', '$19370.0'], ['ISAAC VU', '34', '24.8', '$7045.0']]\n"
     ]
    }
   ],
   "source": [
    "# Iterate through each record and capitalize the first letter of each name\n",
    "for record in medical_records_clean:\n",
    "  record[0] = record[0].upper()\n",
    "print(medical_records_clean)"
   ]
  },
  {
   "cell_type": "code",
   "execution_count": 11,
   "id": "3432b0b2",
   "metadata": {},
   "outputs": [],
   "source": [
    "# Extract names, ages, BMIs, and insurance costs into separate lists\n",
    "names = []\n",
    "ages = []\n",
    "bmis = []\n",
    "insurance_costs = []"
   ]
  },
  {
   "cell_type": "code",
   "execution_count": 12,
   "id": "29a91daf",
   "metadata": {},
   "outputs": [
    {
     "name": "stdout",
     "output_type": "stream",
     "text": [
      "['MARINA ALLISON', 'MARKUS VALDEZ', 'CONNIE BALLARD', 'DARNELL WEBER', 'SYLVIE CHARLES', 'VINAY PADILLA', 'MEREDITH SANTIAGO', 'ANDRE MCCARTY', 'LORENA HODSON', 'ISAAC VU'] ['27', '30', '43', '35', '22', '24', '51', '19', '65', '34'] ['31.1', '22.4', '25.3', '20.6', '22.1', '26.9', '29.3', '22.7', '33.1', '24.8'] ['$7010.0', '$4050.0', '$12060.0', '$7500.0', '$3022.0', '$4620.0', '$16330.0', '$2900.0', '$19370.0', '$7045.0']\n"
     ]
    }
   ],
   "source": [
    "# Iterate through each cleaned record and append the values to the respective lists\n",
    "for record in medical_records_clean:\n",
    "    names.append(record[0])\n",
    "    ages.append(record[1])\n",
    "    bmis.append(record[2])\n",
    "    insurance_costs.append(record[3])\n",
    "print(names, ages, bmis, insurance_costs)"
   ]
  },
  {
   "cell_type": "code",
   "execution_count": 13,
   "id": "ef3444aa",
   "metadata": {},
   "outputs": [
    {
     "name": "stdout",
     "output_type": "stream",
     "text": [
      "Average BMI: 25.83\n"
     ]
    }
   ],
   "source": [
    "# Initialiize total_bmi to 0, Iterate through the list of BMIs, convert each to float, add to total_bmi, and then calculate the average\n",
    "total_bmi = 0\n",
    "for bmi in bmis:\n",
    "  total_bmi += float(bmi)\n",
    "average_bmi = total_bmi / len(bmis)\n",
    "print(f\"Average BMI: {round(average_bmi,2)}\")"
   ]
  },
  {
   "cell_type": "code",
   "execution_count": 14,
   "id": "b97ee013",
   "metadata": {},
   "outputs": [
    {
     "name": "stdout",
     "output_type": "stream",
     "text": [
      "Average Insurance Cost: $8390.70\n"
     ]
    }
   ],
   "source": [
    "# Initialize total_age to 0, Iterate through the list of ages, convert each to int, add to total_age, and then calculate the average\n",
    "total_insurance_cost = 0\n",
    "for cost in insurance_costs:\n",
    "  total_insurance_cost += float(cost[1:])\n",
    "average_insurance_cost = total_insurance_cost / len(insurance_costs)\n",
    "print(f\"Average Insurance Cost: ${average_insurance_cost:.2f}\")"
   ]
  },
  {
   "cell_type": "code",
   "execution_count": 15,
   "id": "21f41d90",
   "metadata": {},
   "outputs": [
    {
     "name": "stdout",
     "output_type": "stream",
     "text": [
      "MARINA ALLISON is 27 years old with a BMI of 31.1 and an insurance cost of $7010.00.\n",
      "MARKUS VALDEZ is 30 years old with a BMI of 22.4 and an insurance cost of $4050.00.\n",
      "CONNIE BALLARD is 43 years old with a BMI of 25.3 and an insurance cost of $12060.00.\n",
      "DARNELL WEBER is 35 years old with a BMI of 20.6 and an insurance cost of $7500.00.\n",
      "SYLVIE CHARLES is 22 years old with a BMI of 22.1 and an insurance cost of $3022.00.\n",
      "VINAY PADILLA is 24 years old with a BMI of 26.9 and an insurance cost of $4620.00.\n",
      "MEREDITH SANTIAGO is 51 years old with a BMI of 29.3 and an insurance cost of $16330.00.\n",
      "ANDRE MCCARTY is 19 years old with a BMI of 22.7 and an insurance cost of $2900.00.\n",
      "LORENA HODSON is 65 years old with a BMI of 33.1 and an insurance cost of $19370.00.\n",
      "ISAAC VU is 34 years old with a BMI of 24.8 and an insurance cost of $7045.00.\n"
     ]
    }
   ],
   "source": [
    "# Print formatted output for each individual\n",
    "i = 0\n",
    "for name in names:\n",
    "  print(f\"{names[i]} is {ages[i]} years old with a BMI of {bmis[i]} and an insurance cost of {insurance_costs[i]}0.\")\n",
    "  i +=1"
   ]
  }
 ],
 "metadata": {
  "kernelspec": {
   "display_name": "Python 3",
   "language": "python",
   "name": "python3"
  },
  "language_info": {
   "codemirror_mode": {
    "name": "ipython",
    "version": 3
   },
   "file_extension": ".py",
   "mimetype": "text/x-python",
   "name": "python",
   "nbconvert_exporter": "python",
   "pygments_lexer": "ipython3",
   "version": "3.11.2"
  }
 },
 "nbformat": 4,
 "nbformat_minor": 5
}
