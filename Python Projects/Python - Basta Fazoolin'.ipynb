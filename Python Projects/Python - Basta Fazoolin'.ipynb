{
 "cells": [
  {
   "cell_type": "code",
   "execution_count": 6,
   "id": "d85e1305",
   "metadata": {},
   "outputs": [],
   "source": [
    "# Creates a Menu class\n",
    "class Menu:\n",
    "  #__init__ method initializes the menu with name, items, start time, and end time\n",
    "  def __init__(self, name, items, start_time, end_time):\n",
    "    self.name = name\n",
    "    self.items = items\n",
    "    self.start_time = start_time\n",
    "    self.end_time = end_time\n",
    "  \n",
    "  #__repr__ method returns a string representation of the menu and its availability\n",
    "  def __repr__(self):\n",
    "    return f\"{self.name} menu available from {self.start_time} to {self.end_time}\"\n",
    "  \n",
    "  # calculate_bill method calculates the total bill for the purchased items\n",
    "  def calculate_bill(self, purchased_items):\n",
    "    total_bill = 0\n",
    "    for item in purchased_items:\n",
    "      total_bill += self.items[item]\n",
    "    return f\"You ordered {purchased_items} from the {self.name} menu. Your bill will be ${total_bill}.\""
   ]
  },
  {
   "cell_type": "code",
   "execution_count": 7,
   "id": "1cdd4967",
   "metadata": {},
   "outputs": [
    {
     "name": "stdout",
     "output_type": "stream",
     "text": [
      "brunch menu available from 11 to 16\n",
      "You ordered ['pancakes', 'home fries', 'coffee'] from the brunch menu. Your bill will be $13.5.\n"
     ]
    }
   ],
   "source": [
    "# Create instances of the Menu class for different menus\n",
    "brunch = Menu(\"brunch\", {\n",
    "  'pancakes': 7.50, 'waffles': 9.00, 'burger': 11.00, 'home fries': 4.50, 'coffee': 1.50, 'espresso': 3.00, 'tea': 1.00, 'mimosa': 10.50, 'orange juice': 3.50\n",
    "}, 11, 16)\n",
    "print(brunch)\n",
    "\n",
    "# Test the calculate_bill method for the brunch menu\n",
    "brunch_purchased_items = [\"pancakes\", \"home fries\", \"coffee\"]\n",
    "print(brunch.calculate_bill(brunch_purchased_items))"
   ]
  },
  {
   "cell_type": "code",
   "execution_count": 8,
   "id": "728a444a",
   "metadata": {},
   "outputs": [
    {
     "name": "stdout",
     "output_type": "stream",
     "text": [
      "You ordered ['salumeria plate', 'mushroom ravioli (vegan)'] from the early bird menu. Your bill will be $21.5.\n"
     ]
    }
   ],
   "source": [
    "# Create instances of the Menu class for different menus\n",
    "early_bird = Menu(\"early bird\", {\n",
    "  'salumeria plate': 8.00, 'salad and breadsticks (serves 2, no refills)': 14.00, 'pizza with quattro formaggi': 9.00, 'duck ragu': 17.50, 'mushroom ravioli (vegan)': 13.50, 'coffee': 1.50, 'espresso': 3.00,\n",
    "}, 15, 18)\n",
    "#print(early_bird)\n",
    "\n",
    "# Test the calculate_bill method for the early bird menu\n",
    "early_bird_purchased_items = [\"salumeria plate\", \"mushroom ravioli (vegan)\"]\n",
    "print(early_bird.calculate_bill(early_bird_purchased_items))"
   ]
  },
  {
   "cell_type": "code",
   "execution_count": 9,
   "id": "af1c04e4",
   "metadata": {},
   "outputs": [
    {
     "name": "stdout",
     "output_type": "stream",
     "text": [
      "dinner menu available from 17 to 23\n",
      "kids menu available from 11 to 21\n"
     ]
    }
   ],
   "source": [
    "# Create instances of the Menu class for different menus\n",
    "dinner = Menu(\"dinner\", {\n",
    "  'crostini with eggplant caponata': 13.00, 'caesar salad': 16.00, 'pizza with quattro formaggi': 11.00, 'duck ragu': 19.50, 'mushroom ravioli (vegan)': 13.50, 'coffee': 2.00, 'espresso': 3.00,\n",
    "}, 17, 23)\n",
    "print(dinner)\n",
    "\n",
    "# Create instances of the Menu class for different menus\n",
    "kids = Menu(\"kids\", {\n",
    "  'chicken nuggets': 6.50, 'fusilli with wild mushrooms': 12.00, 'apple juice': 3.00\n",
    "}, 11, 21)\n",
    "print(kids)"
   ]
  },
  {
   "cell_type": "code",
   "execution_count": 10,
   "id": "a5ced4cf",
   "metadata": {},
   "outputs": [],
   "source": [
    "# Creats a Franchise class\n",
    "class Franchise:\n",
    "  #__init__ method initializes the franchise with name, address, and menus\n",
    "  def __init__(self, name, address, menus):\n",
    "    self.name = name\n",
    "    self.address = address\n",
    "    self.menus = menus\n",
    "  \n",
    "  #__repr__ method returns a string representation of the franchise, its address, and its menus\n",
    "  def __repr__(self):\n",
    "    statement = f\"Our {self.name} is located at '{self.address}', and offers the followings menus: {self.menus}.\" \n",
    "    return statement\n",
    "  \n",
    "  # available_menus method checks the availability of menus based on the given time\n",
    "  def available_menus(self, time):\n",
    "    # if user input time (i.e., 12) is between start_time (i.e., 11) and end_time (i.e., 15)\n",
    "    av_me = []\n",
    "    for menu in self.menus: \n",
    "      if time > menu.start_time and time < menu.end_time:\n",
    "        av_me.append(menu.name)\n",
    "    if av_me == []:\n",
    "      return \"We are currently closed.\"\n",
    "    else:\n",
    "      return f\"Currently, you can order from the {av_me} menus.\""
   ]
  },
  {
   "cell_type": "code",
   "execution_count": 11,
   "id": "307e38a8",
   "metadata": {},
   "outputs": [],
   "source": [
    "# Creates instances of the Franchise class for different franchises\n",
    "flagship_store = Franchise(\"Flagship Store\", \"1232 West End Road\", [brunch, early_bird, dinner, kids])\n",
    "new_installment = Franchise(\"New Installment\", \"12 East Mulberry Street\", [brunch, early_bird, dinner, kids])"
   ]
  },
  {
   "cell_type": "code",
   "execution_count": 12,
   "id": "47f6c7a1",
   "metadata": {},
   "outputs": [
    {
     "name": "stdout",
     "output_type": "stream",
     "text": [
      "Our Flagship Store is located at '1232 West End Road', and offers the followings menus: [brunch menu available from 11 to 16, early bird menu available from 15 to 18, dinner menu available from 17 to 23, kids menu available from 11 to 21].\n",
      "Currently, you can order from the ['early bird', 'kids'] menus.\n",
      "Our New Installment is located at '12 East Mulberry Street', and offers the followings menus: [brunch menu available from 11 to 16, early bird menu available from 15 to 18, dinner menu available from 17 to 23, kids menu available from 11 to 21].\n",
      "Currently, you can order from the ['brunch', 'kids'] menus.\n"
     ]
    }
   ],
   "source": [
    "# Test the available_menus method for the flagship store and new installment\n",
    "print(flagship_store)\n",
    "print(flagship_store.available_menus(17))\n",
    "print(new_installment)\n",
    "print(new_installment.available_menus(12))"
   ]
  },
  {
   "cell_type": "code",
   "execution_count": 13,
   "id": "241c3cae",
   "metadata": {},
   "outputs": [],
   "source": [
    "# Creates a Business class\n",
    "class Business:\n",
    "  #__init__ method initializes the business with name and franchises\n",
    "  def __init__(self, name, franchises):\n",
    "    self.name = name\n",
    "    self.franchises = franchises\n",
    "  \n",
    "  # __repr__ method returns a string representation of the business and its franchises\n",
    "  def __repr__(self):\n",
    "    return f\"{self.name} has the following franchises: {self.franchises}\""
   ]
  },
  {
   "cell_type": "code",
   "execution_count": 14,
   "id": "4d41640a",
   "metadata": {},
   "outputs": [],
   "source": [
    "# Create instances of the Business class for different businesses\n",
    "first_business = Business(\"Basta Fazoolin' with my Heart\", [flagship_store, new_installment])"
   ]
  },
  {
   "cell_type": "code",
   "execution_count": 15,
   "id": "379962ad",
   "metadata": {},
   "outputs": [],
   "source": [
    "# Create a new menu for arepas\n",
    "arepas_menu = Menu(\"arepas\", {\n",
    "  'arepa pabellon': 7.00, 'pernil arepa': 8.50, 'guayanes arepa': 8.00, 'jamon arepa': 7.50\n",
    "}, 9,21)"
   ]
  },
  {
   "cell_type": "code",
   "execution_count": 16,
   "id": "fe3302ab",
   "metadata": {},
   "outputs": [],
   "source": [
    "# Create a new franchise for the arepas place\n",
    "arepas_place = Franchise(\"New Arepas Place\", \"189 Fitzgerald Avenue\", arepas_menu)"
   ]
  },
  {
   "cell_type": "code",
   "execution_count": 17,
   "id": "b9a5cdd1",
   "metadata": {},
   "outputs": [],
   "source": [
    "# Create a new business for the arepas place\n",
    "second_business = Business(\"Take a’ Arepa\", [arepas_place])"
   ]
  },
  {
   "cell_type": "code",
   "execution_count": 18,
   "id": "c040b7ec",
   "metadata": {},
   "outputs": [
    {
     "name": "stdout",
     "output_type": "stream",
     "text": [
      "Basta Fazoolin' with my Heart has the following franchises: [Our Flagship Store is located at '1232 West End Road', and offers the followings menus: [brunch menu available from 11 to 16, early bird menu available from 15 to 18, dinner menu available from 17 to 23, kids menu available from 11 to 21]., Our New Installment is located at '12 East Mulberry Street', and offers the followings menus: [brunch menu available from 11 to 16, early bird menu available from 15 to 18, dinner menu available from 17 to 23, kids menu available from 11 to 21].]\n",
      "Take a’ Arepa has the following franchises: [Our New Arepas Place is located at '189 Fitzgerald Avenue', and offers the followings menus: arepas menu available from 9 to 21.]\n"
     ]
    }
   ],
   "source": [
    "# Test the __repr__ method for the first and second businesses\n",
    "print(first_business)\n",
    "print(second_business)"
   ]
  }
 ],
 "metadata": {
  "kernelspec": {
   "display_name": "Python 3",
   "language": "python",
   "name": "python3"
  },
  "language_info": {
   "codemirror_mode": {
    "name": "ipython",
    "version": 3
   },
   "file_extension": ".py",
   "mimetype": "text/x-python",
   "name": "python",
   "nbconvert_exporter": "python",
   "pygments_lexer": "ipython3",
   "version": "3.11.2"
  }
 },
 "nbformat": 4,
 "nbformat_minor": 5
}
