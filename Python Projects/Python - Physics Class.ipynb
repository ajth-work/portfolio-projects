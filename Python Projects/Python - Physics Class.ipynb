{
 "cells": [
  {
   "cell_type": "code",
   "execution_count": 1,
   "id": "7ae5d357",
   "metadata": {},
   "outputs": [],
   "source": [
    "# Initializing variables\n",
    "train_mass = 22680\n",
    "train_acceleration = 10\n",
    "train_distance = 100\n",
    "bomb_mass = 1"
   ]
  },
  {
   "cell_type": "code",
   "execution_count": 2,
   "id": "e2344433",
   "metadata": {},
   "outputs": [],
   "source": [
    "# This function converts Fahrenheit to Celsius\n",
    "def f_to_c (f_temp):\n",
    "  c_temp = ((f_temp - 32) * (5/9))\n",
    "  print(f\"Fahrenheit: {f_temp}\")\n",
    "  print(f\"Celsius: {round(c_temp,2)}\")\n",
    "  return c_temp"
   ]
  },
  {
   "cell_type": "code",
   "execution_count": 3,
   "id": "3b715e86",
   "metadata": {},
   "outputs": [
    {
     "name": "stdout",
     "output_type": "stream",
     "text": [
      "Fahrenheit: 100\n",
      "Celsius: 37.78\n"
     ]
    }
   ],
   "source": [
    "# Testing the function with a temperature of 100 degrees Fahrenheit\n",
    "f100_in_celsius = f_to_c(100)"
   ]
  },
  {
   "cell_type": "code",
   "execution_count": 4,
   "id": "2d93a153",
   "metadata": {},
   "outputs": [],
   "source": [
    "# This function converts Celsius to Fahrenheit\n",
    "def c_to_f (c_temp):\n",
    "  f_temp = (c_temp * (9/5) + 32)\n",
    "  print(f\"Celsius: {round(c_temp,2)}\")\n",
    "  print(f\"Fahrenheit: {round(f_temp,2)}\")\n",
    "  return c_temp"
   ]
  },
  {
   "cell_type": "code",
   "execution_count": 5,
   "id": "0b441f1a",
   "metadata": {},
   "outputs": [
    {
     "name": "stdout",
     "output_type": "stream",
     "text": [
      "Celsius: 0\n",
      "Fahrenheit: 32.0\n"
     ]
    }
   ],
   "source": [
    "# Testing the function with a temperature of 0 degrees Celsius\n",
    "c0_in_fahrenheit = c_to_f(0)"
   ]
  },
  {
   "cell_type": "code",
   "execution_count": 6,
   "id": "b3d29e45",
   "metadata": {},
   "outputs": [],
   "source": [
    "# This function calculates the force exerted by an object\n",
    "def get_force(mass, acceleration):\n",
    "  result = mass * acceleration \n",
    "  return result"
   ]
  },
  {
   "cell_type": "code",
   "execution_count": 7,
   "id": "2bc9d300",
   "metadata": {},
   "outputs": [
    {
     "name": "stdout",
     "output_type": "stream",
     "text": [
      "The GE train supplies 226800 Newtons of force.\n"
     ]
    }
   ],
   "source": [
    "# Testing the function with train_mass and train_acceleration from above\n",
    "train_force = get_force(train_mass, train_acceleration)\n",
    "print(f\"The GE train supplies {train_force} Newtons of force.\")"
   ]
  },
  {
   "cell_type": "code",
   "execution_count": 8,
   "id": "bd4535d9",
   "metadata": {},
   "outputs": [],
   "source": [
    "# This function calculates the energy of an object based on its mass\n",
    "def get_energy(mass, c = 3*10**8):\n",
    "  result = mass * c ** 2\n",
    "  return result"
   ]
  },
  {
   "cell_type": "code",
   "execution_count": 9,
   "id": "9b7d5cbb",
   "metadata": {},
   "outputs": [
    {
     "name": "stdout",
     "output_type": "stream",
     "text": [
      "A 1kg bomb supplies 90000000000000000 Joules.\n"
     ]
    }
   ],
   "source": [
    "# Testing the function with bomb_mass from above\n",
    "bomb_energy = get_energy(bomb_mass)\n",
    "print(f\"A 1kg bomb supplies {bomb_energy} Joules.\")"
   ]
  },
  {
   "cell_type": "code",
   "execution_count": 10,
   "id": "ed4c0f67",
   "metadata": {},
   "outputs": [],
   "source": [
    "# This function calculates the work done by an object\n",
    "def get_work (mass, acceleration, distance):\n",
    "  force = get_force(mass, acceleration)\n",
    "  result = force * distance\n",
    "  return result"
   ]
  },
  {
   "cell_type": "code",
   "execution_count": 11,
   "id": "bc3290c8",
   "metadata": {},
   "outputs": [
    {
     "name": "stdout",
     "output_type": "stream",
     "text": [
      "The GE train does 22680000 Joules of work over 100 meters.\n"
     ]
    }
   ],
   "source": [
    "# Testing the function with train_mass, train_acceleration, and train_distance from above\n",
    "train_work = get_work(train_mass, train_acceleration, train_distance)\n",
    "print(f\"The GE train does {train_work} Joules of work over {train_distance} meters.\")"
   ]
  }
 ],
 "metadata": {
  "kernelspec": {
   "display_name": "Python 3",
   "language": "python",
   "name": "python3"
  },
  "language_info": {
   "codemirror_mode": {
    "name": "ipython",
    "version": 3
   },
   "file_extension": ".py",
   "mimetype": "text/x-python",
   "name": "python",
   "nbconvert_exporter": "python",
   "pygments_lexer": "ipython3",
   "version": "3.11.2"
  }
 },
 "nbformat": 4,
 "nbformat_minor": 5
}
