{
 "cells": [
  {
   "cell_type": "code",
   "execution_count": 1,
   "id": "1748dbb6",
   "metadata": {},
   "outputs": [],
   "source": [
    "# Describe business inventory and the pricing\n",
    "lovely_loveseat_description = \"Lovely Loveseat. Tufted polyester blend on wood. 32 inches high x 40 inches wide x 30 inches deep. Red or white.\"\n",
    "lovely_loveseat_price = 254.00\n",
    "\n",
    "stylish_settee_description = \"Stylish Settee. Faux leather on birch. 29.50 inches high x 54.75 inches wide x 28 inches deep. Black.\"\n",
    "stylish_settee_price = 180.50\n",
    "\n",
    "luxurious_lamp_description = \"Luxurious Lamp. Glass and iron. 36 inches tall. Brown with cream shade.\"\n",
    "luxurious_lamp_price = 52.15"
   ]
  },
  {
   "cell_type": "code",
   "execution_count": 2,
   "id": "9c12fcd6",
   "metadata": {},
   "outputs": [],
   "source": [
    "# Define the sales tax for calculations\n",
    "sales_tax = 0.088"
   ]
  },
  {
   "cell_type": "code",
   "execution_count": 3,
   "id": "3d11d630",
   "metadata": {},
   "outputs": [],
   "source": [
    "# Set up the order\n",
    "customer_one_total = 0\n",
    "customer_one_itemization = \"\""
   ]
  },
  {
   "cell_type": "code",
   "execution_count": 4,
   "id": "89b7cd8f",
   "metadata": {},
   "outputs": [],
   "source": [
    "# Customer bought the lovely loveseat\n",
    "customer_one_total += lovely_loveseat_price\n",
    "customer_one_itemization += lovely_loveseat_description"
   ]
  },
  {
   "cell_type": "code",
   "execution_count": 5,
   "id": "dbe2e68e",
   "metadata": {},
   "outputs": [],
   "source": [
    "# Customer bought the luxurious lamp\n",
    "customer_one_total += luxurious_lamp_price\n",
    "customer_one_itemization += luxurious_lamp_description"
   ]
  },
  {
   "cell_type": "code",
   "execution_count": 6,
   "id": "dc03a907",
   "metadata": {},
   "outputs": [],
   "source": [
    "# Calculate tax on the total price\n",
    "customer_one_tax = customer_one_total * sales_tax"
   ]
  },
  {
   "cell_type": "code",
   "execution_count": 7,
   "id": "e5d9943d",
   "metadata": {},
   "outputs": [],
   "source": [
    "# Add the tax to the total price\n",
    "customer_one_total += customer_one_tax"
   ]
  },
  {
   "cell_type": "code",
   "execution_count": 8,
   "id": "29da72d0",
   "metadata": {},
   "outputs": [
    {
     "name": "stdout",
     "output_type": "stream",
     "text": [
      "Customer One Items: Lovely Loveseat. Tufted polyester blend on wood. 32 inches high x 40 inches wide x 30 inches deep. Red or white.Luxurious Lamp. Glass and iron. 36 inches tall. Brown with cream shade.\n",
      "Customer One Total: $333.09\n"
     ]
    }
   ],
   "source": [
    "# Print the Items Bought and the Total Price of Items Plus Tax\n",
    "print(f\"Customer One Items: {customer_one_itemization}\")\n",
    "print(f\"Customer One Total: ${customer_one_total:.2f}\")"
   ]
  }
 ],
 "metadata": {
  "kernelspec": {
   "display_name": "Python 3",
   "language": "python",
   "name": "python3"
  },
  "language_info": {
   "codemirror_mode": {
    "name": "ipython",
    "version": 3
   },
   "file_extension": ".py",
   "mimetype": "text/x-python",
   "name": "python",
   "nbconvert_exporter": "python",
   "pygments_lexer": "ipython3",
   "version": "3.11.2"
  }
 },
 "nbformat": 4,
 "nbformat_minor": 5
}
