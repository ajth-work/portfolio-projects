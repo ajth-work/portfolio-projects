{
 "cells": [
  {
   "cell_type": "code",
   "execution_count": 1,
   "id": "468b8e6a",
   "metadata": {},
   "outputs": [
    {
     "name": "stdout",
     "output_type": "stream",
     "text": [
      "['pepperoni', 'pineapple', 'cheese', 'sausage', 'olives', 'anchovies', 'mushrooms']\n"
     ]
    }
   ],
   "source": [
    "# Initializing a list of pizza toppings\n",
    "toppings = [\n",
    "  \"pepperoni\",\n",
    "  \"pineapple\",\n",
    "  \"cheese\",\n",
    "  \"sausage\",\n",
    "  \"olives\",\n",
    "  \"anchovies\",\n",
    "  \"mushrooms\"\n",
    "]\n",
    "print(toppings)"
   ]
  },
  {
   "cell_type": "code",
   "execution_count": 2,
   "id": "6262c695",
   "metadata": {},
   "outputs": [
    {
     "name": "stdout",
     "output_type": "stream",
     "text": [
      "[2, 6, 1, 3, 2, 7, 2]\n"
     ]
    }
   ],
   "source": [
    "# Initializing a list of pizza topping prices\n",
    "prices = [\n",
    "  2,\n",
    "  6,\n",
    "  1,\n",
    "  3,\n",
    "  2,\n",
    "  7,\n",
    "  2\n",
    "]\n",
    "print(prices)"
   ]
  },
  {
   "cell_type": "code",
   "execution_count": 3,
   "id": "9470844a",
   "metadata": {},
   "outputs": [
    {
     "name": "stdout",
     "output_type": "stream",
     "text": [
      "3\n"
     ]
    }
   ],
   "source": [
    "# Counts the number of toppings that cost 2 dollars\n",
    "num_two_dollar_slices = prices.count(2)\n",
    "print(num_two_dollar_slices)"
   ]
  },
  {
   "cell_type": "code",
   "execution_count": 4,
   "id": "985f8141",
   "metadata": {},
   "outputs": [
    {
     "name": "stdout",
     "output_type": "stream",
     "text": [
      "7\n"
     ]
    }
   ],
   "source": [
    "# Counts the number of toppings in the toppings list\n",
    "num_pizzas = len(toppings)\n",
    "print(num_pizzas)"
   ]
  },
  {
   "cell_type": "code",
   "execution_count": 5,
   "id": "f4e7ff09",
   "metadata": {},
   "outputs": [
    {
     "name": "stdout",
     "output_type": "stream",
     "text": [
      "We sell 7 different kinds of pizza!\n"
     ]
    }
   ],
   "source": [
    "# Prints the number of different kinds of pizza available\n",
    "print(f\"We sell {num_pizzas} different kinds of pizza!\")"
   ]
  },
  {
   "cell_type": "code",
   "execution_count": 6,
   "id": "716e0ad6",
   "metadata": {},
   "outputs": [
    {
     "name": "stdout",
     "output_type": "stream",
     "text": [
      "[(2, 'pepperoni'), (6, 'pineapple'), (1, 'cheese'), (3, 'sausage'), (2, 'olives'), (7, 'anchovies'), (2, 'mushrooms')]\n"
     ]
    }
   ],
   "source": [
    "# Createas a zipped list of prices and toppings\n",
    "pizza_and_prices = list(zip(prices, toppings))\n",
    "print(pizza_and_prices)"
   ]
  },
  {
   "cell_type": "code",
   "execution_count": 7,
   "id": "e6c573d8",
   "metadata": {},
   "outputs": [
    {
     "name": "stdout",
     "output_type": "stream",
     "text": [
      "[(1, 'cheese'), (2, 'mushrooms'), (2, 'olives'), (2, 'pepperoni'), (3, 'sausage'), (6, 'pineapple'), (7, 'anchovies')]\n"
     ]
    }
   ],
   "source": [
    "# Sorts the list of pizzas by price\n",
    "pizza_and_prices.sort()\n",
    "print(pizza_and_prices)"
   ]
  },
  {
   "cell_type": "code",
   "execution_count": 8,
   "id": "d521440c",
   "metadata": {},
   "outputs": [
    {
     "name": "stdout",
     "output_type": "stream",
     "text": [
      "(1, 'cheese')\n"
     ]
    }
   ],
   "source": [
    "# Finds the cheapest pizza\n",
    "cheapest_pizza = pizza_and_prices[0]\n",
    "print(cheapest_pizza)"
   ]
  },
  {
   "cell_type": "code",
   "execution_count": 9,
   "id": "935aa5c8",
   "metadata": {},
   "outputs": [
    {
     "name": "stdout",
     "output_type": "stream",
     "text": [
      "[(7, 'anchovies')]\n"
     ]
    }
   ],
   "source": [
    "# Finds the priciest pizza\n",
    "priciest_pizza = pizza_and_prices[-1:]\n",
    "print(priciest_pizza)"
   ]
  },
  {
   "cell_type": "code",
   "execution_count": 10,
   "id": "1b2cd216",
   "metadata": {},
   "outputs": [
    {
     "name": "stdout",
     "output_type": "stream",
     "text": [
      "[(1, 'cheese'), (2, 'mushrooms'), (2, 'olives'), (2, 'pepperoni'), (3, 'sausage'), (6, 'pineapple')]\n"
     ]
    }
   ],
   "source": [
    "# Pops the last item from the list\n",
    "pizza_and_prices.pop()\n",
    "print(pizza_and_prices)"
   ]
  },
  {
   "cell_type": "code",
   "execution_count": 11,
   "id": "03e10130",
   "metadata": {},
   "outputs": [
    {
     "name": "stdout",
     "output_type": "stream",
     "text": [
      "[(1, 'cheese'), (2, 'mushrooms'), (2, 'olives'), (2, 'pepperoni'), (2.5, 'peppers'), (3, 'sausage'), (6, 'pineapple')]\n"
     ]
    }
   ],
   "source": [
    "# Adds a new topping and price to the list\n",
    "pizza_and_prices.append((2.5, \"peppers\"))\n",
    "pizza_and_prices.sort()\n",
    "print(pizza_and_prices)"
   ]
  },
  {
   "cell_type": "code",
   "execution_count": 12,
   "id": "af2970ce",
   "metadata": {},
   "outputs": [
    {
     "name": "stdout",
     "output_type": "stream",
     "text": [
      "[(1, 'cheese'), (2, 'mushrooms'), (2, 'olives')]\n"
     ]
    }
   ],
   "source": [
    "# Finds the three cheapest pizzas\n",
    "three_cheapest = pizza_and_prices[:3]\n",
    "print(three_cheapest)"
   ]
  }
 ],
 "metadata": {
  "kernelspec": {
   "display_name": "Python 3",
   "language": "python",
   "name": "python3"
  },
  "language_info": {
   "codemirror_mode": {
    "name": "ipython",
    "version": 3
   },
   "file_extension": ".py",
   "mimetype": "text/x-python",
   "name": "python",
   "nbconvert_exporter": "python",
   "pygments_lexer": "ipython3",
   "version": "3.11.2"
  }
 },
 "nbformat": 4,
 "nbformat_minor": 5
}
