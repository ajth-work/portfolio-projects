{
 "cells": [
  {
   "cell_type": "code",
   "execution_count": 15,
   "id": "f714483f",
   "metadata": {},
   "outputs": [],
   "source": [
    "# Initializing list of hairstyles, prices, and number of purchases of each hairstyle over the last week\n",
    "hairstyles = [\"bouffant\", \"pixie\", \"dreadlocks\", \"crew\", \"bowl\", \"bob\", \"mohawk\", \"flattop\"]\n",
    "prices = [30, 25, 40, 20, 20, 35, 50, 35]\n",
    "last_week = [2, 3, 5, 8, 4, 4, 6, 2]"
   ]
  },
  {
   "cell_type": "code",
   "execution_count": 16,
   "id": "abbbcef9",
   "metadata": {},
   "outputs": [],
   "source": [
    "# Sets total price to 0 and creates a sum for the prices\n",
    "total_price = 0\n",
    "for price in prices:\n",
    "  total_price += price"
   ]
  },
  {
   "cell_type": "code",
   "execution_count": 17,
   "id": "912f129b",
   "metadata": {},
   "outputs": [
    {
     "name": "stdout",
     "output_type": "stream",
     "text": [
      "Average Haircut Price: $31.88\n"
     ]
    }
   ],
   "source": [
    "# Calculates the average price of a haircut\n",
    "average_price = total_price / len(prices)\n",
    "print(f\"Average Haircut Price: ${round(average_price,2)}\")"
   ]
  },
  {
   "cell_type": "code",
   "execution_count": 18,
   "id": "d1a4baec",
   "metadata": {},
   "outputs": [
    {
     "name": "stdout",
     "output_type": "stream",
     "text": [
      "[30, 25, 40, 20, 20, 35, 50, 35]\n",
      "[25, 20, 35, 15, 15, 30, 45, 30]\n"
     ]
    }
   ],
   "source": [
    "# Calculates new prices after a discount of $5 and prints the original and new prices\n",
    "print(prices)\n",
    "new_prices = [price - 5 for price in prices]\n",
    "print(new_prices)"
   ]
  },
  {
   "cell_type": "code",
   "execution_count": 19,
   "id": "eca09de0",
   "metadata": {},
   "outputs": [
    {
     "name": "stdout",
     "output_type": "stream",
     "text": [
      "Total Revenue: $1085\n"
     ]
    }
   ],
   "source": [
    "# Calculates the total revenue for the last week\n",
    "total_revenue = 0\n",
    "for i in range(len(hairstyles)):\n",
    "  total_revenue += (prices[i] * last_week[i])\n",
    "print(f\"Total Revenue: ${total_revenue}\")"
   ]
  },
  {
   "cell_type": "code",
   "execution_count": 20,
   "id": "7423e3bb",
   "metadata": {},
   "outputs": [
    {
     "name": "stdout",
     "output_type": "stream",
     "text": [
      "155.0\n"
     ]
    }
   ],
   "source": [
    "# Calculates the average daily revenue for the last week\n",
    "average_daily_revenue = total_revenue / 7\n",
    "print(average_daily_revenue)"
   ]
  },
  {
   "cell_type": "code",
   "execution_count": 21,
   "id": "b4399f0f",
   "metadata": {},
   "outputs": [
    {
     "name": "stdout",
     "output_type": "stream",
     "text": [
      "['pixie', 'crew', 'bowl']\n"
     ]
    }
   ],
   "source": [
    "# Constructs a list comprehension  of hairstyles that are under $30\n",
    "cuts_under_30 = [hairstyle for hairstyle, price, i in zip(hairstyles, prices, range(len(new_prices))) if prices[i] < 30]\n",
    "print(cuts_under_30)"
   ]
  }
 ],
 "metadata": {
  "kernelspec": {
   "display_name": "Python 3",
   "language": "python",
   "name": "python3"
  },
  "language_info": {
   "codemirror_mode": {
    "name": "ipython",
    "version": 3
   },
   "file_extension": ".py",
   "mimetype": "text/x-python",
   "name": "python",
   "nbconvert_exporter": "python",
   "pygments_lexer": "ipython3",
   "version": "3.11.2"
  }
 },
 "nbformat": 4,
 "nbformat_minor": 5
}
