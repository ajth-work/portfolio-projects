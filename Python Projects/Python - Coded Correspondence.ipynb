{
 "cells": [
  {
   "cell_type": "code",
   "execution_count": 10,
   "id": "c2b9ce06",
   "metadata": {},
   "outputs": [],
   "source": [
    "# Define alphabet list\n",
    "alphabet = \"abcdefghijklmnopqrstuvwxyz\""
   ]
  },
  {
   "cell_type": "code",
   "execution_count": 11,
   "id": "ac004c2d",
   "metadata": {},
   "outputs": [],
   "source": [
    "# This function encodes a message using the Caesar cipher with a given offset.\n",
    "def caesar_encode(message, offset):\n",
    "  output = \"\"\n",
    "  for letter in message:\n",
    "    if letter not in alphabet:\n",
    "      output = output + letter\n",
    "    elif letter in alphabet:\n",
    "      offset_correction = (alphabet.find(letter) - offset) % 26\n",
    "      encoded_letter = alphabet[offset_correction]\n",
    "      output = output + encoded_letter\n",
    "  print(output)\n",
    "  return output"
   ]
  },
  {
   "cell_type": "code",
   "execution_count": 12,
   "id": "80adde30",
   "metadata": {},
   "outputs": [],
   "source": [
    "# This function decodes a message using the Caesar cipher with a given offset.\n",
    "def caesar_decode(message, offset):\n",
    "  message = message.strip()\n",
    "  output = \"\"\n",
    "  for letter in message:\n",
    "    if letter not in alphabet:\n",
    "      output = output + letter\n",
    "    elif letter in alphabet:\n",
    "      offset_correction = (alphabet.find(letter) + offset) % 26\n",
    "      decoded_letter = alphabet[offset_correction]\n",
    "      output = output + decoded_letter\n",
    "  print(output)\n",
    "  return output"
   ]
  },
  {
   "cell_type": "code",
   "execution_count": 13,
   "id": "8b945f7a",
   "metadata": {},
   "outputs": [
    {
     "name": "stdout",
     "output_type": "stream",
     "text": [
      "ebiil \n",
      "hey there! this is an example of a caesar cipher. were you able to decode it? i hope so! send me a message back with the same offset!\n"
     ]
    },
    {
     "data": {
      "text/plain": [
       "'hey there! this is an example of a caesar cipher. were you able to decode it? i hope so! send me a message back with the same offset!'"
      ]
     },
     "execution_count": 13,
     "metadata": {},
     "output_type": "execute_result"
    }
   ],
   "source": [
    "# Test the functions with sample messages\n",
    "caesar_encode(\"hello \", 3)\n",
    "caesar_decode(\"    xuo jxuhu! jxyi yi qd unqcfbu ev q squiqh syfxuh. muhu oek qrbu je tusetu yj? y xefu ie! iudt cu q cuiiqwu rqsa myjx jxu iqcu evviuj!\", 10)"
   ]
  },
  {
   "cell_type": "code",
   "execution_count": 14,
   "id": "d65e6c94",
   "metadata": {},
   "outputs": [],
   "source": [
    "# Prepare for testing samples with the upcoming Vigenere cipher\n",
    "sample = \"barry is the spy\"\n",
    "practice_keyword = \"dog\"\n",
    "practice_phrase = \"ymlok cp fbb ejv\""
   ]
  },
  {
   "cell_type": "code",
   "execution_count": 15,
   "id": "713a93a7",
   "metadata": {},
   "outputs": [],
   "source": [
    "# This function encodes a message using the Vigenere cipher with a given keyword.\n",
    "def vig_encoder(message, keyword):\n",
    "  output = \"\"\n",
    "  print(message)\n",
    "  # count length of message's alphabetic characters\n",
    "  message_length = sum(1 for char in message if char.isalpha())\n",
    "  \n",
    "  # create a repeated keyword phrase that matches message length\n",
    "  repeated_keyword = (keyword * (message_length // len(keyword) + 1))[:message_length]\n",
    "  \n",
    "  # intialize index for cycleing through the repeated_keyword\n",
    "  i = 0\n",
    "\n",
    "  # loop through the message's characters\n",
    "  for char in message:\n",
    "    # if message's character is not alphabetic, then add the puncutation character to output as is and move on. \n",
    "    if char not in alphabet:\n",
    "      output = output + char\n",
    "    # if char is in the alphabet, then use the current index to append the next repeated_keyowrd character to the output \n",
    "    elif char in alphabet:\n",
    "      output = output + repeated_keyword[i]\n",
    "      i += 1\n",
    "  repeated_keyword = output\n",
    "  print(repeated_keyword)\n",
    "  i = 0\n",
    "  output = \"\"\n",
    "  for char in message:\n",
    "    offset = (alphabet.find(message[i]) - alphabet.find(repeated_keyword[i])) % 26\n",
    "    i += 1\n",
    "    if char not in alphabet:\n",
    "      output = output + char\n",
    "    elif char in alphabet:\n",
    "      encoded_char = alphabet[offset]\n",
    "      output = output + encoded_char\n",
    "  print(output,\"\\n-------------\")\n",
    "  return(output)"
   ]
  },
  {
   "cell_type": "code",
   "execution_count": 16,
   "id": "9849a8b4",
   "metadata": {},
   "outputs": [
    {
     "name": "stdout",
     "output_type": "stream",
     "text": [
      "barry is the spy\n",
      "dogdo gd ogd ogd\n",
      "ymlok cp fbb ejv \n",
      "-------------\n"
     ]
    },
    {
     "data": {
      "text/plain": [
       "'ymlok cp fbb ejv'"
      ]
     },
     "execution_count": 16,
     "metadata": {},
     "output_type": "execute_result"
    }
   ],
   "source": [
    "# Test the vig_encoder function with sample messages\n",
    "vig_encoder(sample, practice_keyword)"
   ]
  },
  {
   "cell_type": "code",
   "execution_count": 17,
   "id": "c9e5a89b",
   "metadata": {},
   "outputs": [],
   "source": [
    "# This function decodes a message using the Vigenere cipher with a given keyword.\n",
    "def vig_decoder(message, keyword):\n",
    "  output = \"\"\n",
    "  print(message)\n",
    "  # count length of message's alphabetic characters\n",
    "  message_length = sum(1 for char in message if char.isalpha())\n",
    "  \n",
    "  # create a repeated keyword phrase that matches message length\n",
    "  repeated_keyword = (keyword * (message_length // len(keyword) + 1))[:message_length]\n",
    "  \n",
    "  # intialize index for cycleing through the repeated_keyword\n",
    "  i = 0\n",
    "\n",
    "  # loop through the message's characters\n",
    "  for char in message:\n",
    "    # if message's character is not alphabetic, then add the puncutation character to output as is and move on. \n",
    "    if char not in alphabet:\n",
    "      output = output + char\n",
    "    # if char is in the alphabet, then use the current index to append the next repeated_keyowrd character to the output \n",
    "    elif char in alphabet:\n",
    "      output = output + repeated_keyword[i]\n",
    "      i += 1\n",
    "  repeated_keyword = output\n",
    "  print(repeated_keyword)\n",
    "  i = 0\n",
    "  output = \"\"\n",
    "  for char in message:\n",
    "    offset = (alphabet.find(message[i]) + alphabet.find(repeated_keyword[i])) % 26\n",
    "    i += 1\n",
    "    if char not in alphabet:\n",
    "      output = output + char\n",
    "    elif char in alphabet:\n",
    "      decoded_char = alphabet[offset]\n",
    "      output = output + decoded_char\n",
    "  print(output,\"\\n-------------\")\n",
    "  return output"
   ]
  },
  {
   "cell_type": "code",
   "execution_count": 18,
   "id": "d37eaf57",
   "metadata": {},
   "outputs": [
    {
     "name": "stdout",
     "output_type": "stream",
     "text": [
      "txm srom vkda gl lzlgzr qpdb? fepb ejac! ubr imn tapludwy mhfbz cza ruxzal wg zztylktoikqq!\n",
      "fri ends frie nd sfrien dsfr? iend sfri! end sfr iendsfri endsf rie ndsfri en dsfriendsfri!\n",
      "you were able to decode this? nice work! you are becoming quite the expert at cryptography! \n",
      "-------------\n",
      "i think it is turning out nicely\n",
      "h elloh el lo hellohe llo helloh\n",
      "b pwxzd ei xe mqgcugc djf gertxr \n",
      "-------------\n",
      "b pwxzd ei xe mqgcugc djf gertxr\n",
      "h elloh el lo hellohe llo helloh\n",
      "i think it is turning out nicely \n",
      "-------------\n"
     ]
    },
    {
     "data": {
      "text/plain": [
       "'i think it is turning out nicely'"
      ]
     },
     "execution_count": 18,
     "metadata": {},
     "output_type": "execute_result"
    }
   ],
   "source": [
    "# Test the vig_decoder function with sample messages\n",
    "phrase = \"txm srom vkda gl lzlgzr qpdb? fepb ejac! ubr imn tapludwy mhfbz cza ruxzal wg zztylktoikqq!\"\n",
    "keyword = \"friends\"\n",
    "vig_decoder(phrase, keyword)\n",
    "vig_decoder(vig_encoder(\"i think it is turning out nicely\", \"hello\"), \"hello\")"
   ]
  }
 ],
 "metadata": {
  "kernelspec": {
   "display_name": "Python 3",
   "language": "python",
   "name": "python3"
  },
  "language_info": {
   "codemirror_mode": {
    "name": "ipython",
    "version": 3
   },
   "file_extension": ".py",
   "mimetype": "text/x-python",
   "name": "python",
   "nbconvert_exporter": "python",
   "pygments_lexer": "ipython3",
   "version": "3.11.2"
  }
 },
 "nbformat": 4,
 "nbformat_minor": 5
}
