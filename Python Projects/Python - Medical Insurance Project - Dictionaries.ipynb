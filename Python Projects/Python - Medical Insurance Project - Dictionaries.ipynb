{
 "cells": [
  {
   "cell_type": "code",
   "execution_count": 20,
   "id": "cb9b57ed",
   "metadata": {},
   "outputs": [],
   "source": [
    "# Task 1 - Medical Cost Personal Dataset\n",
    "medical_costs = {}"
   ]
  },
  {
   "cell_type": "code",
   "execution_count": 21,
   "id": "e8773765",
   "metadata": {},
   "outputs": [
    {
     "name": "stdout",
     "output_type": "stream",
     "text": [
      "{'Marina': 6607.0, 'Vinay': 3225.0}\n"
     ]
    }
   ],
   "source": [
    "# Task 2 - Add the following entries to the dictionary\n",
    "medical_costs[\"Marina\"] = 6607.0\n",
    "medical_costs[\"Vinay\"] = 3225.0\n",
    "print(medical_costs)"
   ]
  },
  {
   "cell_type": "code",
   "execution_count": 22,
   "id": "c58f34b1",
   "metadata": {},
   "outputs": [],
   "source": [
    "# Task 3 - Add the following entries to the dictionary\n",
    "medical_costs.update({\"Connie\": 8886.0, \"Isaac\":16444.0, \"Valentina\":6420.0}) "
   ]
  },
  {
   "cell_type": "code",
   "execution_count": 23,
   "id": "2103a626",
   "metadata": {},
   "outputs": [
    {
     "name": "stdout",
     "output_type": "stream",
     "text": [
      "{'Marina': 6607.0, 'Vinay': 3225.0, 'Connie': 8886.0, 'Isaac': 16444.0, 'Valentina': 6420.0}\n"
     ]
    }
   ],
   "source": [
    "# Task 4 - Print the dictionary to see all the entries\n",
    "print(medical_costs)"
   ]
  },
  {
   "cell_type": "code",
   "execution_count": 24,
   "id": "5fcc3194",
   "metadata": {},
   "outputs": [
    {
     "name": "stdout",
     "output_type": "stream",
     "text": [
      "{'Marina': 6607.0, 'Vinay': 3325.0, 'Connie': 8886.0, 'Isaac': 16444.0, 'Valentina': 6420.0}\n"
     ]
    }
   ],
   "source": [
    "# Task 5 - Update the value for \"Vinay\" to 3325.0\n",
    "medical_costs[\"Vinay\"] = 3325.0\n",
    "print(medical_costs)"
   ]
  },
  {
   "cell_type": "code",
   "execution_count": 25,
   "id": "b2cb4a10",
   "metadata": {},
   "outputs": [],
   "source": [
    "# Task 6 - Calculate the total cost of medical expenses\n",
    "total_cost = 0\n",
    "for cost in medical_costs:\n",
    "  total_cost += medical_costs[cost]"
   ]
  },
  {
   "cell_type": "code",
   "execution_count": 26,
   "id": "2b9dc08d",
   "metadata": {},
   "outputs": [
    {
     "name": "stdout",
     "output_type": "stream",
     "text": [
      "Average Insurance Cost: 8336.4\n"
     ]
    }
   ],
   "source": [
    "# Task 7 - Calculate the average cost of medical expenses\n",
    "average_cost = total_cost / len(medical_costs)\n",
    "print(f\"Average Insurance Cost: {average_cost}\")"
   ]
  },
  {
   "cell_type": "code",
   "execution_count": 27,
   "id": "5a6a48a4",
   "metadata": {},
   "outputs": [],
   "source": [
    "# Task 8 - Create a list of names and ages\n",
    "names = [\"Marina\", \"Vinay\", \"Connie\", \"Isaac\", \"Valentina\"]\n",
    "ages = [27, 24, 43, 35, 52]"
   ]
  },
  {
   "cell_type": "code",
   "execution_count": 28,
   "id": "4365a8ec",
   "metadata": {},
   "outputs": [
    {
     "name": "stdout",
     "output_type": "stream",
     "text": [
      "[('Marina', 27), ('Vinay', 24), ('Connie', 43), ('Isaac', 35), ('Valentina', 52)]\n"
     ]
    }
   ],
   "source": [
    "# Task 9 - Create a list of tuples using the zip function\n",
    "zipped_ages = list(zip(names, ages))\n",
    "print(zipped_ages)"
   ]
  },
  {
   "cell_type": "code",
   "execution_count": 29,
   "id": "2c232d83",
   "metadata": {},
   "outputs": [
    {
     "name": "stdout",
     "output_type": "stream",
     "text": [
      "{'Marina': 27, 'Vinay': 24, 'Connie': 43, 'Isaac': 35, 'Valentina': 52}\n"
     ]
    }
   ],
   "source": [
    "# Task 10 - Create a dictionary using a dictionary comprehension\n",
    "names_to_ages = {name: age for name, age in zipped_ages}\n",
    "print(names_to_ages)"
   ]
  },
  {
   "cell_type": "code",
   "execution_count": 30,
   "id": "c9c9338a",
   "metadata": {},
   "outputs": [
    {
     "name": "stdout",
     "output_type": "stream",
     "text": [
      "Marina's age is 27\n"
     ]
    }
   ],
   "source": [
    "# Task 11 - Access the age of \"Marina\" using the dictionary\n",
    "marina_age = names_to_ages.get(\"Marina\", None)\n",
    "print(f\"Marina's age is {marina_age}\")"
   ]
  },
  {
   "cell_type": "code",
   "execution_count": 31,
   "id": "dd5bc3ad",
   "metadata": {},
   "outputs": [],
   "source": [
    "# Task 12 - Create a dictionary to store medical records\n",
    "medical_records = {}"
   ]
  },
  {
   "cell_type": "code",
   "execution_count": 32,
   "id": "75493922",
   "metadata": {},
   "outputs": [],
   "source": [
    "# Task 13 - Add the following entries to the dictionary\n",
    "medical_records[\"Marina\"] = {\"Age\": 27, \"Sex\": \"Female\", \"BMI\": 31.1, \"Children\": 2, \"Smoker\": \"Non-smoker\", \"Insurance_cost\": 6607.0}"
   ]
  },
  {
   "cell_type": "code",
   "execution_count": 33,
   "id": "c05e379c",
   "metadata": {},
   "outputs": [],
   "source": [
    "# Task 14 - Add the following entries to the dictionary\n",
    "medical_records[\"Vinay\"] = {\"Age\": 24, \"Sex\": \"Male\", \"BMI\": 26.9, \"Children\": 0, \"Smoker\": \"Non-smoker\", \"Insurance_cost\": 3225.0}\n",
    "medical_records[\"Connie\"] = {\"Age\": 43, \"Sex\": \"Female\", \"BMI\": 25.3, \"Children\": 3, \"Smoker\": \"Non-smoker\", \"Insurance_cost\": 8886.0}\n",
    "medical_records[\"Isaac\"] = {\"Age\": 35, \"Sex\": \"Male\", \"BMI\": 20.6, \"Children\": 4, \"Smoker\": \"Smoker\", \"Insurance_cost\": 16444.0}\n",
    "medical_records[\"Valentina\"] = {\"Age\": 52, \"Sex\": \"Female\", \"BMI\": 18.7, \"Children\": 1, \"Smoker\": \"Non-smoker\", \"Insurance_cost\": 6420.0}"
   ]
  },
  {
   "cell_type": "code",
   "execution_count": 34,
   "id": "269eca87",
   "metadata": {},
   "outputs": [
    {
     "name": "stdout",
     "output_type": "stream",
     "text": [
      "{'Marina': {'Age': 27, 'Sex': 'Female', 'BMI': 31.1, 'Children': 2, 'Smoker': 'Non-smoker', 'Insurance_cost': 6607.0}, 'Vinay': {'Age': 24, 'Sex': 'Male', 'BMI': 26.9, 'Children': 0, 'Smoker': 'Non-smoker', 'Insurance_cost': 3225.0}, 'Connie': {'Age': 43, 'Sex': 'Female', 'BMI': 25.3, 'Children': 3, 'Smoker': 'Non-smoker', 'Insurance_cost': 8886.0}, 'Isaac': {'Age': 35, 'Sex': 'Male', 'BMI': 20.6, 'Children': 4, 'Smoker': 'Smoker', 'Insurance_cost': 16444.0}, 'Valentina': {'Age': 52, 'Sex': 'Female', 'BMI': 18.7, 'Children': 1, 'Smoker': 'Non-smoker', 'Insurance_cost': 6420.0}}\n"
     ]
    }
   ],
   "source": [
    "# Task 15 - Print the dictionary to see all the entries\n",
    "print(medical_records)"
   ]
  },
  {
   "cell_type": "code",
   "execution_count": 35,
   "id": "5e03e6a6",
   "metadata": {},
   "outputs": [
    {
     "name": "stdout",
     "output_type": "stream",
     "text": [
      "Connie's insurance cost is 8886.0 dollars.\n"
     ]
    }
   ],
   "source": [
    "# Task 16 - Access the insurance cost of \"Connie\" using the dictionary\n",
    "print(f\"Connie's insurance cost is {medical_records['Connie']['Insurance_cost']} dollars.\")"
   ]
  },
  {
   "cell_type": "code",
   "execution_count": 36,
   "id": "5f58ebd3",
   "metadata": {},
   "outputs": [
    {
     "name": "stdout",
     "output_type": "stream",
     "text": [
      "{'Marina': {'Age': 27, 'Sex': 'Female', 'BMI': 31.1, 'Children': 2, 'Smoker': 'Non-smoker', 'Insurance_cost': 6607.0}, 'Connie': {'Age': 43, 'Sex': 'Female', 'BMI': 25.3, 'Children': 3, 'Smoker': 'Non-smoker', 'Insurance_cost': 8886.0}, 'Isaac': {'Age': 35, 'Sex': 'Male', 'BMI': 20.6, 'Children': 4, 'Smoker': 'Smoker', 'Insurance_cost': 16444.0}, 'Valentina': {'Age': 52, 'Sex': 'Female', 'BMI': 18.7, 'Children': 1, 'Smoker': 'Non-smoker', 'Insurance_cost': 6420.0}}\n"
     ]
    }
   ],
   "source": [
    "# Task 17 - Remove \"Vinay\" from the dictionary\n",
    "medical_records.pop(\"Vinay\")\n",
    "print(medical_records)"
   ]
  },
  {
   "cell_type": "code",
   "execution_count": 37,
   "id": "d5c6ae21",
   "metadata": {},
   "outputs": [
    {
     "name": "stdout",
     "output_type": "stream",
     "text": [
      "Marina is a 27 year old Female Non-smoker with a BMI of 31.1 and insurance cost of 6607.0\n",
      "Connie is a 43 year old Female Non-smoker with a BMI of 25.3 and insurance cost of 8886.0\n",
      "Isaac is a 35 year old Male Smoker with a BMI of 20.6 and insurance cost of 16444.0\n",
      "Valentina is a 52 year old Female Non-smoker with a BMI of 18.7 and insurance cost of 6420.0\n"
     ]
    }
   ],
   "source": [
    "# Task 18 - Print the names, details, and insurance costs of all individuals in the dictionary\n",
    "for record in medical_records:\n",
    "  name = record\n",
    "  age = medical_records[record][\"Age\"]\n",
    "  sex = medical_records[record][\"Sex\"]\n",
    "  bmi = medical_records[record][\"BMI\"]\n",
    "  children = medical_records[record][\"Children\"]\n",
    "  smoker = medical_records[record][\"Smoker\"]\n",
    "  insurance_cost = medical_records[record][\"Insurance_cost\"]\n",
    "  print(f\"{name} is a {age} year old {sex} {smoker} with a BMI of {bmi} and insurance cost of {insurance_cost}\")"
   ]
  }
 ],
 "metadata": {
  "kernelspec": {
   "display_name": "Python 3",
   "language": "python",
   "name": "python3"
  },
  "language_info": {
   "codemirror_mode": {
    "name": "ipython",
    "version": 3
   },
   "file_extension": ".py",
   "mimetype": "text/x-python",
   "name": "python",
   "nbconvert_exporter": "python",
   "pygments_lexer": "ipython3",
   "version": "3.11.2"
  }
 },
 "nbformat": 4,
 "nbformat_minor": 5
}
