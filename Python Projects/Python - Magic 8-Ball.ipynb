{
 "cells": [
  {
   "cell_type": "code",
   "execution_count": 21,
   "id": "993c4dd0",
   "metadata": {},
   "outputs": [],
   "source": [
    "# Importing the random module to generate random numbers\n",
    "import random"
   ]
  },
  {
   "cell_type": "code",
   "execution_count": 22,
   "id": "ea5bb589",
   "metadata": {},
   "outputs": [],
   "source": [
    "# Initializing variables\n",
    "name = \"AJ\"\n",
    "question = \"Will we reach the moon by 2030?\"\n",
    "answer = \"\""
   ]
  },
  {
   "cell_type": "code",
   "execution_count": 23,
   "id": "eac35954",
   "metadata": {},
   "outputs": [
    {
     "name": "stdout",
     "output_type": "stream",
     "text": [
      "1\n"
     ]
    }
   ],
   "source": [
    "# Assigning and printing a random number between 1 and 9 to random_number\n",
    "random_number = random.randint(1,9)\n",
    "print(random_number)"
   ]
  },
  {
   "cell_type": "code",
   "execution_count": 24,
   "id": "b8dfff44",
   "metadata": {},
   "outputs": [],
   "source": [
    "# Using if-elif-else statements to determine the answer based on the random number\n",
    "if random_number == 1:\n",
    "  answer = \"Yes - definitely\"\n",
    "elif random_number == 2:\n",
    "  answer = \"It is decidedly so\"\n",
    "elif random_number == 3:\n",
    "  answer = \"Without a doubt\"\n",
    "elif random_number == 4:\n",
    "  answer = \"Reply hazy, try again\"\n",
    "elif random_number == 5:\n",
    "  answer = \"Ask again later\"\n",
    "elif random_number == 6:\n",
    "  answer = \"Better not tell you now\"\n",
    "elif random_number == 7:\n",
    "  answer = \"My sources say no\"\n",
    "elif random_number == 8:\n",
    "  answer = \"Outlook not so good\"\n",
    "else:\n",
    "  answer = \"Very doubtful\""
   ]
  },
  {
   "cell_type": "code",
   "execution_count": 25,
   "id": "0341af18",
   "metadata": {},
   "outputs": [
    {
     "name": "stdout",
     "output_type": "stream",
     "text": [
      "AJ asks: Will we reach the moon by 2030?\n",
      "Magic 8-Ball's answer: Yes - definitely\n"
     ]
    }
   ],
   "source": [
    "# Printing the question and the answer with a name if provided, else a generic message\n",
    "if name == \"\":\n",
    "  print(f\"Question: {question}\")\n",
    "else:\n",
    "  print(f\"{name} asks: {question}\")\n",
    "print(f\"Magic 8-Ball's answer: {answer}\")"
   ]
  }
 ],
 "metadata": {
  "kernelspec": {
   "display_name": "Python 3",
   "language": "python",
   "name": "python3"
  },
  "language_info": {
   "codemirror_mode": {
    "name": "ipython",
    "version": 3
   },
   "file_extension": ".py",
   "mimetype": "text/x-python",
   "name": "python",
   "nbconvert_exporter": "python",
   "pygments_lexer": "ipython3",
   "version": "3.11.2"
  }
 },
 "nbformat": 4,
 "nbformat_minor": 5
}
