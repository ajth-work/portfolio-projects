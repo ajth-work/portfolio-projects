{
 "cells": [
  {
   "cell_type": "code",
   "execution_count": 1,
   "id": "4c7fe265",
   "metadata": {},
   "outputs": [],
   "source": [
    "# Full Initials: AJTH\n",
    "# Fun Fact: I can whistle like a bird.\n",
    "# Program Purpose: Displays my initials in ASCII format using a grid-based looping approach. \n",
    "letter_a = [\n",
    "  [\" \", \" \",\"A\",\" \",\" \",],\n",
    "  [\" \", \"A\",\" \",\"A\",\" \",],\n",
    "  [\"A\", \" \",\" \",\" \",\"A\",],\n",
    "  [\"A\", \"A\",\"A\",\"A\",\"A\",],\n",
    "  [\"A\", \" \",\" \",\" \",\"A\",],\n",
    "  [\"A\", \" \",\" \",\" \",\"A\",],\n",
    "  [\"A\", \" \",\" \",\" \",\"A\",]\n",
    "]\n",
    "letter_j = [\n",
    "  [\"J\", \"J\",\"J\",\"J\",\"J\",],\n",
    "  [\" \", \" \",\"J\",\" \",\" \",],\n",
    "  [\" \", \" \",\"J\",\" \",\" \",],\n",
    "  [\" \", \" \",\"J\",\" \",\" \",],\n",
    "  [\"J\", \" \",\"J\",\" \",\" \",],\n",
    "  [\"J\", \" \",\"J\",\" \",\" \",],\n",
    "  [\"\", \"J\",\"J\",\" \",\" \",]\n",
    "]\n",
    "letter_t = [\n",
    "  [\"T\", \"T\",\"T\",\"T\",\"T\",],\n",
    "  [\" \", \" \",\"T\",\" \",\" \",],\n",
    "  [\" \", \" \",\"T\",\" \",\" \",],\n",
    "  [\" \", \" \",\"T\",\" \",\" \",],\n",
    "  [\" \", \" \",\"T\",\" \",\" \",],\n",
    "  [\" \", \" \",\"T\",\" \",\" \",],\n",
    "  [\" \", \" \",\"T\",\" \",\" \",]\n",
    "]\n",
    "letter_h = [\n",
    "  [\"H\", \" \",\" \",\" \",\"H\",],\n",
    "  [\"H\", \" \",\" \",\" \",\"H\",],\n",
    "  [\"H\", \" \",\" \",\" \",\"H\",],\n",
    "  [\"H\", \"H\",\"H\",\"H\",\"H\",],\n",
    "  [\"H\", \" \",\" \",\" \",\"H\",],\n",
    "  [\"H\", \" \",\" \",\" \",\"H\",],\n",
    "  [\"H\", \" \",\" \",\" \",\"H\",]\n",
    "]"
   ]
  },
  {
   "cell_type": "code",
   "execution_count": 2,
   "id": "5e560b9b",
   "metadata": {},
   "outputs": [],
   "source": [
    "# Declares the initials that I will use for diplaying my name\n",
    "initials = [letter_a, letter_j, letter_t, letter_h]"
   ]
  },
  {
   "cell_type": "code",
   "execution_count": 3,
   "id": "ff4a3883",
   "metadata": {},
   "outputs": [],
   "source": [
    "# Defines a looping fucnction that prints through each row of each initial and then prints a separator line \n",
    "def print_initial(initial):\n",
    "  for row in initial:\n",
    "    print(\" \".join(row))\n",
    "  print(\"---------\")"
   ]
  },
  {
   "cell_type": "code",
   "execution_count": 4,
   "id": "d764e473",
   "metadata": {},
   "outputs": [
    {
     "name": "stdout",
     "output_type": "stream",
     "text": [
      "    A    \n",
      "  A   A  \n",
      "A       A\n",
      "A A A A A\n",
      "A       A\n",
      "A       A\n",
      "A       A\n",
      "---------\n",
      "J J J J J\n",
      "    J    \n",
      "    J    \n",
      "    J    \n",
      "J   J    \n",
      "J   J    \n",
      " J J    \n",
      "---------\n",
      "T T T T T\n",
      "    T    \n",
      "    T    \n",
      "    T    \n",
      "    T    \n",
      "    T    \n",
      "    T    \n",
      "---------\n",
      "H       H\n",
      "H       H\n",
      "H       H\n",
      "H H H H H\n",
      "H       H\n",
      "H       H\n",
      "H       H\n",
      "---------\n"
     ]
    }
   ],
   "source": [
    "# Calls the looping function on the previously declared initials variable\n",
    "for initial in initials:\n",
    "  print_initial(initial)  "
   ]
  }
 ],
 "metadata": {
  "kernelspec": {
   "display_name": "Python 3",
   "language": "python",
   "name": "python3"
  },
  "language_info": {
   "codemirror_mode": {
    "name": "ipython",
    "version": 3
   },
   "file_extension": ".py",
   "mimetype": "text/x-python",
   "name": "python",
   "nbconvert_exporter": "python",
   "pygments_lexer": "ipython3",
   "version": "3.11.2"
  }
 },
 "nbformat": 4,
 "nbformat_minor": 5
}
