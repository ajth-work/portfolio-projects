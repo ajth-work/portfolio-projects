{
 "cells": [
  {
   "cell_type": "code",
   "execution_count": 175,
   "id": "4cd18015",
   "metadata": {},
   "outputs": [],
   "source": [
    "# This function uses if, elif, and else statements to determine the cost of shipping based on weight and shipping method.\n",
    "def shipping(weight, shipping_method):\n",
    "  # Ground Shipping\n",
    "  if shipping_method == \"GS\":\n",
    "    flat_charge = 20.00\n",
    "    if weight <= 2:\n",
    "      cost = (weight * 1.50) + flat_charge\n",
    "    elif weight > 2 and weight <= 6:\n",
    "      cost = (weight * 3.00) + flat_charge\n",
    "    elif weight > 6 and weight <= 10:\n",
    "      cost = (weight * 4.0) + flat_charge\n",
    "    else:\n",
    "      cost = (weight * 4.75) + flat_charge \n",
    "  \n",
    "  # Drone Shipping\n",
    "  elif shipping_method == \"DRONE\":\n",
    "    flat_charge = 0\n",
    "    if weight <= 2:\n",
    "      cost = (weight * 4.50) + flat_charge\n",
    "    elif weight > 2 and weight <= 6:\n",
    "      cost = (weight * 9.00) + flat_charge\n",
    "    elif weight > 6 and weight <= 10:\n",
    "      cost = (weight * 12.0) + flat_charge\n",
    "    else:\n",
    "      cost = (weight * 14.25) + flat_charge\n",
    "  \n",
    "  # GSP Shipping\n",
    "  elif shipping_method == \"GSP\": \n",
    "    cost = 125\n",
    "  \n",
    "  # If the shipping method is not recognized, raise a ValueError\n",
    "  else:\n",
    "    raise ValueError(\"Invalid shipping method. Please choose GS, DRONE, or GSP.\")\n",
    "\n",
    "  # Printing the shipping method and cost\n",
    "  print(f\"{shipping_method} Cost for {weight} lbs = ${round(cost, 2)}\")\n",
    "  return cost"
   ]
  },
  {
   "cell_type": "code",
   "execution_count": 176,
   "id": "937ae524",
   "metadata": {},
   "outputs": [],
   "source": [
    "# Test cases for shipping function\n",
    "# Using GS, GSP, DRONE for shipping method argument"
   ]
  },
  {
   "cell_type": "code",
   "execution_count": 177,
   "id": "97ff8a78",
   "metadata": {},
   "outputs": [
    {
     "name": "stdout",
     "output_type": "stream",
     "text": [
      "GS Cost for 4.8 lbs = $34.4\n",
      "DRONE Cost for 4.8 lbs = $43.2\n",
      "GSP Cost for 4.8 lbs = $125\n"
     ]
    },
    {
     "data": {
      "text/plain": [
       "125"
      ]
     },
     "execution_count": 177,
     "metadata": {},
     "output_type": "execute_result"
    }
   ],
   "source": [
    "# Test cases for shipping with weight of 4.8 lbs\n",
    "shipping(4.8, \"GS\") # Cheapest\n",
    "shipping(4.8,\"DRONE\")\n",
    "shipping(4.8,\"GSP\")"
   ]
  },
  {
   "cell_type": "code",
   "execution_count": 178,
   "id": "a5c9461a",
   "metadata": {},
   "outputs": [
    {
     "name": "stdout",
     "output_type": "stream",
     "text": [
      "GS Cost for 41.5 lbs = $217.12\n",
      "DRONE Cost for 41.5 lbs = $591.38\n",
      "GSP Cost for 41.5 lbs = $125\n"
     ]
    },
    {
     "data": {
      "text/plain": [
       "125"
      ]
     },
     "execution_count": 178,
     "metadata": {},
     "output_type": "execute_result"
    }
   ],
   "source": [
    "# Test cases for shipping with weight of 41.5 lbs\n",
    "shipping(41.5, \"GS\")\n",
    "shipping(41.5,\"DRONE\")\n",
    "shipping(41.5,\"GSP\") # Cheapest"
   ]
  },
  {
   "cell_type": "code",
   "execution_count": 179,
   "id": "07dfcdbe",
   "metadata": {},
   "outputs": [],
   "source": [
    "# This function finds the cheapest shipping method for a given weight\n",
    "def find_cheapest_shipping(weight):\n",
    "    # Calculate costs for each shipping method\n",
    "    gs_cost = shipping(weight, \"GS\")\n",
    "    drone_cost = shipping(weight, \"DRONE\")\n",
    "    gsp_cost = shipping(weight, \"GSP\")\n",
    "    \n",
    "    # Determine the cheapest method\n",
    "    cheapest = min(gs_cost, drone_cost, gsp_cost)\n",
    "\n",
    "    # Print the cheapest method and its cost\n",
    "    if cheapest == gs_cost:\n",
    "        print(f\"Cheapest method for {weight} lbs is Ground Shipping at ${gs_cost}\")\n",
    "    elif cheapest == drone_cost:\n",
    "        print(f\"Cheapest method for {weight} lbs is Drone Shipping at ${drone_cost}\")\n",
    "    else:\n",
    "        print(f\"Cheapest method for {weight} lbs is Ground Shipping Premium at ${gsp_cost}\")"
   ]
  },
  {
   "cell_type": "code",
   "execution_count": 180,
   "id": "7c83e658",
   "metadata": {},
   "outputs": [
    {
     "name": "stdout",
     "output_type": "stream",
     "text": [
      "GS Cost for 4.8 lbs = $34.4\n",
      "DRONE Cost for 4.8 lbs = $43.2\n",
      "GSP Cost for 4.8 lbs = $125\n",
      "Cheapest method for 4.8 lbs is Ground Shipping at $34.4\n"
     ]
    }
   ],
   "source": [
    "# Test the find_cheapest_shipping function with 4.8 lbs\n",
    "find_cheapest_shipping(4.8)"
   ]
  },
  {
   "cell_type": "code",
   "execution_count": 181,
   "id": "ab04b37b",
   "metadata": {},
   "outputs": [
    {
     "name": "stdout",
     "output_type": "stream",
     "text": [
      "GS Cost for 41.5 lbs = $217.12\n",
      "DRONE Cost for 41.5 lbs = $591.38\n",
      "GSP Cost for 41.5 lbs = $125\n",
      "Cheapest method for 41.5 lbs is Ground Shipping Premium at $125\n"
     ]
    }
   ],
   "source": [
    "# Test the find_cheapest_shipping function with 41.5 lbs\n",
    "find_cheapest_shipping(41.5)"
   ]
  }
 ],
 "metadata": {
  "kernelspec": {
   "display_name": "Python 3",
   "language": "python",
   "name": "python3"
  },
  "language_info": {
   "codemirror_mode": {
    "name": "ipython",
    "version": 3
   },
   "file_extension": ".py",
   "mimetype": "text/x-python",
   "name": "python",
   "nbconvert_exporter": "python",
   "pygments_lexer": "ipython3",
   "version": "3.11.2"
  }
 },
 "nbformat": 4,
 "nbformat_minor": 5
}
