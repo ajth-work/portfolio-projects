{
 "cells": [
  {
   "cell_type": "code",
   "execution_count": 2,
   "id": "a17ec592",
   "metadata": {},
   "outputs": [],
   "source": [
    "# Create calculate_insurance_cost() function below: \n",
    "def calculate_insurance_cost(name, age, sex, bmi, num_of_children, smoker):\n",
    "  estimated_cost = 250*age - 128*sex + 370*bmi + 425*num_of_children + 24000*smoker - 12500\n",
    "  print(f\"The estimated insurance cost for {name} is ${estimated_cost} dollars.\")\n",
    "  return estimated_cost\n",
    "#"
   ]
  },
  {
   "cell_type": "code",
   "execution_count": 3,
   "id": "a1d18bd9",
   "metadata": {},
   "outputs": [
    {
     "name": "stdout",
     "output_type": "stream",
     "text": [
      "The estimated insurance cost for Maria is $5469.0 dollars.\n"
     ]
    }
   ],
   "source": [
    "# Estimate Maria's insurance cost\n",
    "maria_insurance_cost = calculate_insurance_cost(name=\"Maria\", age=28, sex=0, bmi=26.2, num_of_children=3, smoker=0)"
   ]
  },
  {
   "cell_type": "code",
   "execution_count": 4,
   "id": "f9b3387c",
   "metadata": {},
   "outputs": [
    {
     "name": "stdout",
     "output_type": "stream",
     "text": [
      "The estimated insurance cost for Omar is $28336.0 dollars.\n"
     ]
    }
   ],
   "source": [
    "# Estimate Omar's insurance cost \n",
    "omar_insurance_cost = calculate_insurance_cost(name=\"Omar\", age=35, sex=1, bmi=22.2, num_of_children=0, smoker=1)"
   ]
  },
  {
   "cell_type": "code",
   "execution_count": 5,
   "id": "090c2cb9",
   "metadata": {},
   "outputs": [
    {
     "name": "stdout",
     "output_type": "stream",
     "text": [
      "The estimated insurance cost for AJ is $7813.0 dollars.\n"
     ]
    }
   ],
   "source": [
    "# Estimate user's insurance cost \n",
    "aj_insurance_cost = calculate_insurance_cost(name=\"AJ\", age=31, sex=1, bmi=34.3, num_of_children=0, smoker=0)"
   ]
  }
 ],
 "metadata": {
  "kernelspec": {
   "display_name": "Python 3",
   "language": "python",
   "name": "python3"
  },
  "language_info": {
   "codemirror_mode": {
    "name": "ipython",
    "version": 3
   },
   "file_extension": ".py",
   "mimetype": "text/x-python",
   "name": "python",
   "nbconvert_exporter": "python",
   "pygments_lexer": "ipython3",
   "version": "3.11.2"
  }
 },
 "nbformat": 4,
 "nbformat_minor": 5
}
