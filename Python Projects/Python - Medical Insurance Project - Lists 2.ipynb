{
 "cells": [
  {
   "cell_type": "code",
   "execution_count": 1,
   "id": "67b2d00a",
   "metadata": {},
   "outputs": [],
   "source": [
    "# Initializing two lists: names and insurance_costs\n",
    "names = [\"Mohamed\", \"Sara\", \"Xia\", \"Paul\", \"Valentina\", \"Jide\", \"Aaron\", \"Emily\", \"Nikita\", \"Paul\"]\n",
    "insurance_costs = [13262.0, 4816.0, 6839.0, 5054.0, 14724.0, 5360.0, 7640.0, 6072.0, 2750.0, 12064.0]"
   ]
  },
  {
   "cell_type": "code",
   "execution_count": 2,
   "id": "6efb5c31",
   "metadata": {},
   "outputs": [
    {
     "name": "stdout",
     "output_type": "stream",
     "text": [
      "['Mohamed', 'Sara', 'Xia', 'Paul', 'Valentina', 'Jide', 'Aaron', 'Emily', 'Nikita', 'Paul', 'Priscilla']\n"
     ]
    }
   ],
   "source": [
    "# Append the name \"Priscilla\" to the list of names\n",
    "names.append(\"Priscilla\")\n",
    "print(names)"
   ]
  },
  {
   "cell_type": "code",
   "execution_count": 3,
   "id": "d6b26acd",
   "metadata": {},
   "outputs": [
    {
     "name": "stdout",
     "output_type": "stream",
     "text": [
      "[13262.0, 4816.0, 6839.0, 5054.0, 14724.0, 5360.0, 7640.0, 6072.0, 2750.0, 12064.0, 8320.0]\n"
     ]
    }
   ],
   "source": [
    "# Append a new cost to the insurance_costs list\n",
    "insurance_costs.append(8320.0)\n",
    "print(insurance_costs)"
   ]
  },
  {
   "cell_type": "code",
   "execution_count": 4,
   "id": "31d0f83d",
   "metadata": {},
   "outputs": [
    {
     "name": "stdout",
     "output_type": "stream",
     "text": [
      "[(13262.0, 'Mohamed'), (4816.0, 'Sara'), (6839.0, 'Xia'), (5054.0, 'Paul'), (14724.0, 'Valentina'), (5360.0, 'Jide'), (7640.0, 'Aaron'), (6072.0, 'Emily'), (2750.0, 'Nikita'), (12064.0, 'Paul'), (8320.0, 'Priscilla')]\n"
     ]
    }
   ],
   "source": [
    "# Make a list zipped together of names and insurance costs\n",
    "medical_records = list(zip(insurance_costs, names))\n",
    "print(medical_records)"
   ]
  },
  {
   "cell_type": "code",
   "execution_count": 5,
   "id": "7706496c",
   "metadata": {},
   "outputs": [
    {
     "name": "stdout",
     "output_type": "stream",
     "text": [
      "Here is the alphabetized medical record list: [('Aaron', 7640.0), ('Emily', 6072.0), ('Jide', 5360.0), ('Mohamed', 13262.0), ('Nikita', 2750.0), ('Paul', 5054.0), ('Paul', 12064.0), ('Priscilla', 8320.0), ('Sara', 4816.0), ('Valentina', 14724.0), ('Xia', 6839.0)]\n"
     ]
    }
   ],
   "source": [
    "# Alphabetize the list of medical records by name\n",
    "az_medical_records = list(zip(names, insurance_costs))\n",
    "az_medical_records.sort()\n",
    "print(f\"Here is the alphabetized medical record list: {az_medical_records}\")"
   ]
  },
  {
   "cell_type": "code",
   "execution_count": 6,
   "id": "36d845c4",
   "metadata": {},
   "outputs": [
    {
     "name": "stdout",
     "output_type": "stream",
     "text": [
      "There are 11 medical records.\n"
     ]
    }
   ],
   "source": [
    "# Check the length of the medical records list\n",
    "num_medical_records = len(medical_records)\n",
    "print(f\"There are {num_medical_records} medical records.\")"
   ]
  },
  {
   "cell_type": "code",
   "execution_count": 7,
   "id": "4884d759",
   "metadata": {},
   "outputs": [
    {
     "name": "stdout",
     "output_type": "stream",
     "text": [
      "Here is the first medical record: (13262.0, 'Mohamed')\n"
     ]
    }
   ],
   "source": [
    "# Print the first medical record in the list\n",
    "first_medical_record = medical_records[0]\n",
    "print(f\"Here is the first medical record: {first_medical_record}\")"
   ]
  },
  {
   "cell_type": "code",
   "execution_count": 8,
   "id": "f9e4b162",
   "metadata": {},
   "outputs": [
    {
     "name": "stdout",
     "output_type": "stream",
     "text": [
      "Here are the medical records sorted by insurance cost: [(2750.0, 'Nikita'), (4816.0, 'Sara'), (5054.0, 'Paul'), (5360.0, 'Jide'), (6072.0, 'Emily'), (6839.0, 'Xia'), (7640.0, 'Aaron'), (8320.0, 'Priscilla'), (12064.0, 'Paul'), (13262.0, 'Mohamed'), (14724.0, 'Valentina')]\n"
     ]
    }
   ],
   "source": [
    "# Sort the medical records by insurance cost\n",
    "medical_records.sort()\n",
    "print(f\"Here are the medical records sorted by insurance cost: {medical_records}\")"
   ]
  },
  {
   "cell_type": "code",
   "execution_count": 9,
   "id": "3b2a9874",
   "metadata": {},
   "outputs": [
    {
     "name": "stdout",
     "output_type": "stream",
     "text": [
      "--------------\n",
      "Here are the three cheapest insurance costs in our medical records: [(2750.0, 'Nikita'), (4816.0, 'Sara'), (5054.0, 'Paul')]\n"
     ]
    }
   ],
   "source": [
    "# Print the cheapest three insurance costs\n",
    "cheapest_three = medical_records[0:3]\n",
    "print(\"--------------\")\n",
    "# print(cheapest_three)\n",
    "print(f\"Here are the three cheapest insurance costs in our medical records: {cheapest_three}\")"
   ]
  },
  {
   "cell_type": "code",
   "execution_count": 10,
   "id": "eac2b177",
   "metadata": {},
   "outputs": [
    {
     "name": "stdout",
     "output_type": "stream",
     "text": [
      "--------------\n",
      "[(5360.0, 'Jide'), (6072.0, 'Emily'), (6839.0, 'Xia'), (7640.0, 'Aaron')]\n",
      "Here are the middle five records in our medical records: [(5360.0, 'Jide'), (6072.0, 'Emily'), (6839.0, 'Xia'), (7640.0, 'Aaron')]\n"
     ]
    }
   ],
   "source": [
    "# Print the middle five insurance records\n",
    "middle_five_records = medical_records[3:7]\n",
    "print(\"--------------\")\n",
    "print(middle_five_records)\n",
    "print(f\"Here are the middle five records in our medical records: {middle_five_records}\")"
   ]
  },
  {
   "cell_type": "code",
   "execution_count": 11,
   "id": "11a244c2",
   "metadata": {},
   "outputs": [
    {
     "name": "stdout",
     "output_type": "stream",
     "text": [
      "--------------\n",
      "Here are the three most expensive insurance costs in our medical records: [(12064.0, 'Paul'), (13262.0, 'Mohamed'), (14724.0, 'Valentina')]\n"
     ]
    }
   ],
   "source": [
    "# Print the priciest three insurance costs\n",
    "print(\"--------------\")\n",
    "priciest_three = medical_records[-3:]\n",
    "# print(priciest_three)\n",
    "print(f\"Here are the three most expensive insurance costs in our medical records: {priciest_three}\")"
   ]
  },
  {
   "cell_type": "code",
   "execution_count": 12,
   "id": "067195af",
   "metadata": {},
   "outputs": [
    {
     "name": "stdout",
     "output_type": "stream",
     "text": [
      "--------------\n",
      "There are 2 individuals with the name Paul in our medical records.\n"
     ]
    }
   ],
   "source": [
    "# Print the number of individuals with the name Paul\n",
    "print(\"--------------\")\n",
    "occurrences_paul = names.count(\"Paul\")\n",
    "print(f\"There are {occurrences_paul} individuals with the name Paul in our medical records.\")"
   ]
  }
 ],
 "metadata": {
  "kernelspec": {
   "display_name": "Python 3",
   "language": "python",
   "name": "python3"
  },
  "language_info": {
   "codemirror_mode": {
    "name": "ipython",
    "version": 3
   },
   "file_extension": ".py",
   "mimetype": "text/x-python",
   "name": "python",
   "nbconvert_exporter": "python",
   "pygments_lexer": "ipython3",
   "version": "3.11.2"
  }
 },
 "nbformat": 4,
 "nbformat_minor": 5
}
