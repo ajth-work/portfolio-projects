{
 "cells": [
  {
   "cell_type": "code",
   "execution_count": 2,
   "id": "a421fd63",
   "metadata": {},
   "outputs": [],
   "source": [
    "# create the initial variables below\n",
    "age = 28\n",
    "sex = 0\n",
    "bmi = 26.2\n",
    "num_of_children = 3\n",
    "smoker = 0"
   ]
  },
  {
   "cell_type": "code",
   "execution_count": 3,
   "id": "66c55868",
   "metadata": {},
   "outputs": [
    {
     "name": "stdout",
     "output_type": "stream",
     "text": [
      "This person's insurance cost is 5469.0 dollars.\n"
     ]
    }
   ],
   "source": [
    "# Add insurance estimate formula below\n",
    "insurance_cost = 250 * age - 128 * sex + 370 * bmi + 425 * num_of_children + 24000 * smoker - 12500\n",
    "\n",
    "print(f\"This person's insurance cost is {str(insurance_cost)} dollars.\")"
   ]
  },
  {
   "cell_type": "code",
   "execution_count": 4,
   "id": "40f4cda3",
   "metadata": {},
   "outputs": [
    {
     "name": "stdout",
     "output_type": "stream",
     "text": [
      "This person's new insurance cost is 6469.0 dollars.\n"
     ]
    }
   ],
   "source": [
    "# Age Factor\n",
    "# print(age)\n",
    "age += 4\n",
    "# print(age)\n",
    "new_insurance_cost = 250 * age - 128 * sex + 370 * bmi + 425 * num_of_children + 24000 * smoker - 12500\n",
    "\n",
    "print(f\"This person's new insurance cost is {str(new_insurance_cost)} dollars.\")"
   ]
  },
  {
   "cell_type": "code",
   "execution_count": 5,
   "id": "1daff011",
   "metadata": {},
   "outputs": [
    {
     "name": "stdout",
     "output_type": "stream",
     "text": [
      "The change in cost of insurance after increasing the age by 4 years is 1000.0 dollars.\n"
     ]
    }
   ],
   "source": [
    "change_in_insurance_cost = new_insurance_cost - insurance_cost\n",
    "\n",
    "# print(f\"People who are four years older have estimated insurance costs that are {str(change_in_insurance_cost)} dollars different.\")\n",
    "\n",
    "print(f\"The change in cost of insurance after increasing the age by 4 years is {str(change_in_insurance_cost)} dollars.\")"
   ]
  },
  {
   "cell_type": "code",
   "execution_count": 6,
   "id": "593c4788",
   "metadata": {},
   "outputs": [
    {
     "name": "stdout",
     "output_type": "stream",
     "text": [
      "29.3\n",
      "The change in estimated insurance cost after increasing BMI by 3.1 is 1147.0 dollars.\n"
     ]
    }
   ],
   "source": [
    "# BMI Factor\n",
    "age = 28\n",
    "\n",
    "bmi += 3.1\n",
    "print(bmi)\n",
    "new_insurance_cost = (250 * age) - (128 * sex) + (370 * bmi) + (425 * num_of_children) + (24000 * smoker) - 12500\n",
    "\n",
    "change_in_insurance_cost = new_insurance_cost - insurance_cost\n",
    "print(f\"The change in estimated insurance cost after increasing BMI by 3.1 is {change_in_insurance_cost} dollars.\")\n"
   ]
  },
  {
   "cell_type": "code",
   "execution_count": 7,
   "id": "a4578351",
   "metadata": {},
   "outputs": [
    {
     "name": "stdout",
     "output_type": "stream",
     "text": [
      "The change in estimated cost for being male instead of female is -128.0 dollars.\n"
     ]
    }
   ],
   "source": [
    "# Male vs. Female Factor\n",
    "bmi = 26.2\n",
    "sex = 1\n",
    "new_insurance_cost = (250 * age) - (128 * sex) + (370 * bmi) + (425 * num_of_children) + (24000 * smoker) - 12500\n",
    "\n",
    "change_in_insurance_cost = new_insurance_cost - insurance_cost\n",
    "print(f\"The change in estimated cost for being male instead of female is {change_in_insurance_cost} dollars.\")"
   ]
  },
  {
   "cell_type": "code",
   "execution_count": 8,
   "id": "42a03f07",
   "metadata": {},
   "outputs": [
    {
     "name": "stdout",
     "output_type": "stream",
     "text": [
      "The change in estimated cost for being a smoker versus a non-smoker is 24000.0 dollars.\n"
     ]
    }
   ],
   "source": [
    "\n",
    "# Extra Practice\n",
    "\n",
    "bmi = 26.2\n",
    "sex = 0\n",
    "smoker = 1\n",
    "new_insurance_cost = (250 * age) - (128 * sex) + (370 * bmi) + (425 * num_of_children) + (24000 * smoker) - 12500\n",
    "\n",
    "change_in_insurance_cost = new_insurance_cost - insurance_cost\n",
    "print(f\"The change in estimated cost for being a smoker versus a non-smoker is {change_in_insurance_cost} dollars.\")"
   ]
  },
  {
   "cell_type": "code",
   "execution_count": 9,
   "id": "33db717a",
   "metadata": {},
   "outputs": [
    {
     "name": "stdout",
     "output_type": "stream",
     "text": [
      "The change in estimated cost for having 1 children is -850.0 dollars.\n"
     ]
    }
   ],
   "source": [
    "bmi = 26.2\n",
    "sex = 0\n",
    "smoker = 0\n",
    "num_of_children = 1\n",
    "new_insurance_cost = (250 * age) - (128 * sex) + (370 * bmi) + (425 * num_of_children) + (24000 * smoker) - 12500\n",
    "\n",
    "change_in_insurance_cost = new_insurance_cost - insurance_cost\n",
    "print(f\"The change in estimated cost for having {num_of_children} children is {change_in_insurance_cost} dollars.\")"
   ]
  }
 ],
 "metadata": {
  "kernelspec": {
   "display_name": "base",
   "language": "python",
   "name": "python3"
  },
  "language_info": {
   "codemirror_mode": {
    "name": "ipython",
    "version": 3
   },
   "file_extension": ".py",
   "mimetype": "text/x-python",
   "name": "python",
   "nbconvert_exporter": "python",
   "pygments_lexer": "ipython3",
   "version": "3.12.7"
  }
 },
 "nbformat": 4,
 "nbformat_minor": 5
}
