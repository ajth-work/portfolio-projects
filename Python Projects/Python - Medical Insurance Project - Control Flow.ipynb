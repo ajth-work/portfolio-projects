{
 "cells": [
  {
   "cell_type": "code",
   "execution_count": 1,
   "id": "b8f8000e",
   "metadata": {},
   "outputs": [],
   "source": [
    "# Add your code here\n",
    "def analyze_smoker(smoker_status):\n",
    "  if smoker_status == 1:\n",
    "    print(\"To lower your cost, you should consider quitting smoking.\")\n",
    "  else:\n",
    "    print(\"Smoking is not an issue for you.\")"
   ]
  },
  {
   "cell_type": "code",
   "execution_count": 2,
   "id": "0ab73465",
   "metadata": {},
   "outputs": [],
   "source": [
    "# Function to estimate insurance cost:\n",
    "def estimate_insurance_cost(name, age, sex, num_of_children, smoker):\n",
    "  estimated_cost = 400*age - 128*sex + 425*num_of_children + 10000*smoker - 2500\n",
    "  print(name + \"'s Estimated Insurance Cost: \" + str(estimated_cost) + \" dollars.\")\n",
    "  analyze_smoker(smoker)\n",
    "  return estimated_cost"
   ]
  },
  {
   "cell_type": "code",
   "execution_count": 3,
   "id": "ddb633d0",
   "metadata": {},
   "outputs": [
    {
     "name": "stdout",
     "output_type": "stream",
     "text": [
      "Keanu's Estimated Insurance Cost: 20247 dollars.\n",
      "To lower your cost, you should consider quitting smoking.\n"
     ]
    }
   ],
   "source": [
    "# Estimate Keanu's insurance cost\n",
    "keanu_insurance_cost = estimate_insurance_cost(name = 'Keanu', age = 29, sex = 1, num_of_children = 3, smoker = 1)"
   ]
  },
  {
   "cell_type": "code",
   "execution_count": 4,
   "id": "5dd0ecfc",
   "metadata": {},
   "outputs": [
    {
     "name": "stdout",
     "output_type": "stream",
     "text": [
      "AJ's Estimated Insurance Cost: 8972 dollars.\n",
      "Smoking is not an issue for you.\n"
     ]
    }
   ],
   "source": [
    "# Estimate user's insurance cost\n",
    "user_insurance_cost = estimate_insurance_cost(name = 'AJ', age = 29, sex = 1, num_of_children = 0, smoker = 0)"
   ]
  }
 ],
 "metadata": {
  "kernelspec": {
   "display_name": "Python 3",
   "language": "python",
   "name": "python3"
  },
  "language_info": {
   "codemirror_mode": {
    "name": "ipython",
    "version": 3
   },
   "file_extension": ".py",
   "mimetype": "text/x-python",
   "name": "python",
   "nbconvert_exporter": "python",
   "pygments_lexer": "ipython3",
   "version": "3.11.2"
  }
 },
 "nbformat": 4,
 "nbformat_minor": 5
}
