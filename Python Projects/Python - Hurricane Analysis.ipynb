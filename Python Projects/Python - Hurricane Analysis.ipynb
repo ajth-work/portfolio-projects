{
 "cells": [
  {
   "cell_type": "code",
   "execution_count": 21,
   "id": "8fbeddb9",
   "metadata": {},
   "outputs": [],
   "source": [
    "from decimal import Decimal\n",
    "\n",
    "# names of hurricanes\n",
    "names = ['Cuba I', 'San Felipe II Okeechobee', 'Bahamas', 'Cuba II', 'CubaBrownsville', 'Tampico', 'Labor Day', 'New England', 'Carol', 'Janet', 'Carla', 'Hattie', 'Beulah', 'Camille', 'Edith', 'Anita', 'David', 'Allen', 'Gilbert', 'Hugo', 'Andrew', 'Mitch', 'Isabel', 'Ivan', 'Emily', 'Katrina', 'Rita', 'Wilma', 'Dean', 'Felix', 'Matthew', 'Irma', 'Maria', 'Michael']\n",
    "\n",
    "# months of hurricanes\n",
    "months = ['October', 'September', 'September', 'November', 'August', 'September', 'September', 'September', 'September', 'September', 'September', 'October', 'September', 'August', 'September', 'September', 'August', 'August', 'September', 'September', 'August', 'October', 'September', 'September', 'July', 'August', 'September', 'October', 'August', 'September', 'October', 'September', 'September', 'October']\n",
    "\n",
    "# years of hurricanes\n",
    "years = [1924, 1928, 1932, 1932, 1933, 1933, 1935, 1938, 1953, 1955, 1961, 1961, 1967, 1969, 1971, 1977, 1979, 1980, 1988, 1989, 1992, 1998, 2003, 2004, 2005, 2005, 2005, 2005, 2007, 2007, 2016, 2017, 2017, 2018]\n",
    "\n",
    "# maximum sustained winds (mph) of hurricanes\n",
    "max_sustained_winds = [165, 160, 160, 175, 160, 160, 185, 160, 160, 175, 175, 160, 160, 175, 160, 175, 175, 190, 185, 160, 175, 180, 165, 165, 160, 175, 180, 185, 175, 175, 165, 180, 175, 160]\n",
    "\n",
    "# areas affected by each hurricane\n",
    "areas_affected = [['Central America', 'Mexico', 'Cuba', 'Florida', 'The Bahamas'], ['Lesser Antilles', 'The Bahamas', 'United States East Coast', 'Atlantic Canada'], ['The Bahamas', 'Northeastern United States'], ['Lesser Antilles', 'Jamaica', 'Cayman Islands', 'Cuba', 'The Bahamas', 'Bermuda'], ['The Bahamas', 'Cuba', 'Florida', 'Texas', 'Tamaulipas'], ['Jamaica', 'Yucatn Peninsula'], ['The Bahamas', 'Florida', 'Georgia', 'The Carolinas', 'Virginia'], ['Southeastern United States', 'Northeastern United States', 'Southwestern Quebec'], ['Bermuda', 'New England', 'Atlantic Canada'], ['Lesser Antilles', 'Central America'], ['Texas', 'Louisiana', 'Midwestern United States'], ['Central America'], ['The Caribbean', 'Mexico', 'Texas'], ['Cuba', 'United States Gulf Coast'], ['The Caribbean', 'Central America', 'Mexico', 'United States Gulf Coast'], ['Mexico'], ['The Caribbean', 'United States East coast'], ['The Caribbean', 'Yucatn Peninsula', 'Mexico', 'South Texas'], ['Jamaica', 'Venezuela', 'Central America', 'Hispaniola', 'Mexico'], ['The Caribbean', 'United States East Coast'], ['The Bahamas', 'Florida', 'United States Gulf Coast'], ['Central America', 'Yucatn Peninsula', 'South Florida'], ['Greater Antilles', 'Bahamas', 'Eastern United States', 'Ontario'], ['The Caribbean', 'Venezuela', 'United States Gulf Coast'], ['Windward Islands', 'Jamaica', 'Mexico', 'Texas'], ['Bahamas', 'United States Gulf Coast'], ['Cuba', 'United States Gulf Coast'], ['Greater Antilles', 'Central America', 'Florida'], ['The Caribbean', 'Central America'], ['Nicaragua', 'Honduras'], ['Antilles', 'Venezuela', 'Colombia', 'United States East Coast', 'Atlantic Canada'], ['Cape Verde', 'The Caribbean', 'British Virgin Islands', 'U.S. Virgin Islands', 'Cuba', 'Florida'], ['Lesser Antilles', 'Virgin Islands', 'Puerto Rico', 'Dominican Republic', 'Turks and Caicos Islands'], ['Central America', 'United States Gulf Coast (especially Florida Panhandle)']]\n",
    "\n",
    "# damages (USD($)) of hurricanes\n",
    "damages = ['Damages not recorded', '100M', 'Damages not recorded', '40M', '27.9M', '5M', 'Damages not recorded', '306M', '2M', '65.8M', '326M', '60.3M', '208M', '1.42B', '25.4M', 'Damages not recorded', '1.54B', '1.24B', '7.1B', '10B', '26.5B', '6.2B', '5.37B', '23.3B', '1.01B', '125B', '12B', '29.4B', '1.76B', '720M', '15.1B', '64.8B', '91.6B', '25.1B']\n",
    "\n",
    "# deaths for each hurricane\n",
    "deaths = [90,4000,16,3103,179,184,408,682,5,1023,43,319,688,259,37,11,2068,269,318,107,65,19325,51,124,17,1836,125,87,45,133,603,138,3057,74]"
   ]
  },
  {
   "cell_type": "code",
   "execution_count": 22,
   "id": "33b6365b",
   "metadata": {},
   "outputs": [],
   "source": [
    "# Mortality Scale\n",
    "mortality_scale = {0: 0,\n",
    "                   1: 100,\n",
    "                   2: 500,\n",
    "                   3: 1000,\n",
    "                   4: 10000}\n",
    "\n",
    "# 1\n",
    "# Update Recorded Damages\n",
    "conversion = {\"M\": 1000000,\n",
    "              \"B\": 1000000000}"
   ]
  },
  {
   "cell_type": "code",
   "execution_count": 23,
   "id": "5545c2bf",
   "metadata": {},
   "outputs": [
    {
     "name": "stdout",
     "output_type": "stream",
     "text": [
      "['Damages not recorded', 100000000.0, 'Damages not recorded', 40000000.0, 27900000.0, 5000000.0, 'Damages not recorded', 306000000.0, 2000000.0, 65800000.0, 326000000.0, 60300000.0, 208000000.0, 1420000000.0, 25400000.0, 'Damages not recorded', 1540000000.0, 1240000000.0, 7100000000.0, 10000000000.0, 26500000000.0, 6200000000.0, 5370000000.0, 23300000000.0, 1010000000.0, 125000000000.0, 12000000000.0, 29400000000.0, 1760000000.0, 720000000.0, 15100000000.0, 64800000000.0, 91600000000.0, 25100000000.0]\n"
     ]
    }
   ],
   "source": [
    "# test function by updating damages\n",
    "def update_damages():\n",
    "  updated_damages = []\n",
    "  for damage in damages:\n",
    "    if damage == \"Damages not recorded\":\n",
    "      updated_damages.append(damage)\n",
    "    elif damage[-1:] == \"B\":\n",
    "      damage = damage.replace(\"B\",\"\")\n",
    "      damage = float(damage) * conversion[\"B\"]\n",
    "      updated_damages.append(damage)\n",
    "    else:\n",
    "      damage = damage.replace(\"M\",\"\")\n",
    "      damage = float(damage) * conversion[\"M\"]\n",
    "      updated_damages.append(damage)\n",
    "  return updated_damages\n",
    "\n",
    "updated_damages = update_damages()\n",
    "print(updated_damages)"
   ]
  },
  {
   "cell_type": "code",
   "execution_count": 24,
   "id": "388614ea",
   "metadata": {},
   "outputs": [
    {
     "name": "stdout",
     "output_type": "stream",
     "text": [
      "{'Cuba I': {'Name': 'Cuba I', 'Month': 'October', 'Year': 1924, 'Max Sustained Winds': 165, 'Areas Affected': ['Central America', 'Mexico', 'Cuba', 'Florida', 'The Bahamas'], 'Damage': 'Damages not recorded', 'Deaths': 90}, 'San Felipe II Okeechobee': {'Name': 'San Felipe II Okeechobee', 'Month': 'September', 'Year': 1928, 'Max Sustained Winds': 160, 'Areas Affected': ['Lesser Antilles', 'The Bahamas', 'United States East Coast', 'Atlantic Canada'], 'Damage': 100000000.0, 'Deaths': 4000}, 'Bahamas': {'Name': 'Bahamas', 'Month': 'September', 'Year': 1932, 'Max Sustained Winds': 160, 'Areas Affected': ['The Bahamas', 'Northeastern United States'], 'Damage': 'Damages not recorded', 'Deaths': 16}, 'Cuba II': {'Name': 'Cuba II', 'Month': 'November', 'Year': 1932, 'Max Sustained Winds': 175, 'Areas Affected': ['Lesser Antilles', 'Jamaica', 'Cayman Islands', 'Cuba', 'The Bahamas', 'Bermuda'], 'Damage': 40000000.0, 'Deaths': 3103}, 'CubaBrownsville': {'Name': 'CubaBrownsville', 'Month': 'August', 'Year': 1933, 'Max Sustained Winds': 160, 'Areas Affected': ['The Bahamas', 'Cuba', 'Florida', 'Texas', 'Tamaulipas'], 'Damage': 27900000.0, 'Deaths': 179}, 'Tampico': {'Name': 'Tampico', 'Month': 'September', 'Year': 1933, 'Max Sustained Winds': 160, 'Areas Affected': ['Jamaica', 'Yucatn Peninsula'], 'Damage': 5000000.0, 'Deaths': 184}, 'Labor Day': {'Name': 'Labor Day', 'Month': 'September', 'Year': 1935, 'Max Sustained Winds': 185, 'Areas Affected': ['The Bahamas', 'Florida', 'Georgia', 'The Carolinas', 'Virginia'], 'Damage': 'Damages not recorded', 'Deaths': 408}, 'New England': {'Name': 'New England', 'Month': 'September', 'Year': 1938, 'Max Sustained Winds': 160, 'Areas Affected': ['Southeastern United States', 'Northeastern United States', 'Southwestern Quebec'], 'Damage': 306000000.0, 'Deaths': 682}, 'Carol': {'Name': 'Carol', 'Month': 'September', 'Year': 1953, 'Max Sustained Winds': 160, 'Areas Affected': ['Bermuda', 'New England', 'Atlantic Canada'], 'Damage': 2000000.0, 'Deaths': 5}, 'Janet': {'Name': 'Janet', 'Month': 'September', 'Year': 1955, 'Max Sustained Winds': 175, 'Areas Affected': ['Lesser Antilles', 'Central America'], 'Damage': 65800000.0, 'Deaths': 1023}, 'Carla': {'Name': 'Carla', 'Month': 'September', 'Year': 1961, 'Max Sustained Winds': 175, 'Areas Affected': ['Texas', 'Louisiana', 'Midwestern United States'], 'Damage': 326000000.0, 'Deaths': 43}, 'Hattie': {'Name': 'Hattie', 'Month': 'October', 'Year': 1961, 'Max Sustained Winds': 160, 'Areas Affected': ['Central America'], 'Damage': 60300000.0, 'Deaths': 319}, 'Beulah': {'Name': 'Beulah', 'Month': 'September', 'Year': 1967, 'Max Sustained Winds': 160, 'Areas Affected': ['The Caribbean', 'Mexico', 'Texas'], 'Damage': 208000000.0, 'Deaths': 688}, 'Camille': {'Name': 'Camille', 'Month': 'August', 'Year': 1969, 'Max Sustained Winds': 175, 'Areas Affected': ['Cuba', 'United States Gulf Coast'], 'Damage': 1420000000.0, 'Deaths': 259}, 'Edith': {'Name': 'Edith', 'Month': 'September', 'Year': 1971, 'Max Sustained Winds': 160, 'Areas Affected': ['The Caribbean', 'Central America', 'Mexico', 'United States Gulf Coast'], 'Damage': 25400000.0, 'Deaths': 37}, 'Anita': {'Name': 'Anita', 'Month': 'September', 'Year': 1977, 'Max Sustained Winds': 175, 'Areas Affected': ['Mexico'], 'Damage': 'Damages not recorded', 'Deaths': 11}, 'David': {'Name': 'David', 'Month': 'August', 'Year': 1979, 'Max Sustained Winds': 175, 'Areas Affected': ['The Caribbean', 'United States East coast'], 'Damage': 1540000000.0, 'Deaths': 2068}, 'Allen': {'Name': 'Allen', 'Month': 'August', 'Year': 1980, 'Max Sustained Winds': 190, 'Areas Affected': ['The Caribbean', 'Yucatn Peninsula', 'Mexico', 'South Texas'], 'Damage': 1240000000.0, 'Deaths': 269}, 'Gilbert': {'Name': 'Gilbert', 'Month': 'September', 'Year': 1988, 'Max Sustained Winds': 185, 'Areas Affected': ['Jamaica', 'Venezuela', 'Central America', 'Hispaniola', 'Mexico'], 'Damage': 7100000000.0, 'Deaths': 318}, 'Hugo': {'Name': 'Hugo', 'Month': 'September', 'Year': 1989, 'Max Sustained Winds': 160, 'Areas Affected': ['The Caribbean', 'United States East Coast'], 'Damage': 10000000000.0, 'Deaths': 107}, 'Andrew': {'Name': 'Andrew', 'Month': 'August', 'Year': 1992, 'Max Sustained Winds': 175, 'Areas Affected': ['The Bahamas', 'Florida', 'United States Gulf Coast'], 'Damage': 26500000000.0, 'Deaths': 65}, 'Mitch': {'Name': 'Mitch', 'Month': 'October', 'Year': 1998, 'Max Sustained Winds': 180, 'Areas Affected': ['Central America', 'Yucatn Peninsula', 'South Florida'], 'Damage': 6200000000.0, 'Deaths': 19325}, 'Isabel': {'Name': 'Isabel', 'Month': 'September', 'Year': 2003, 'Max Sustained Winds': 165, 'Areas Affected': ['Greater Antilles', 'Bahamas', 'Eastern United States', 'Ontario'], 'Damage': 5370000000.0, 'Deaths': 51}, 'Ivan': {'Name': 'Ivan', 'Month': 'September', 'Year': 2004, 'Max Sustained Winds': 165, 'Areas Affected': ['The Caribbean', 'Venezuela', 'United States Gulf Coast'], 'Damage': 23300000000.0, 'Deaths': 124}, 'Emily': {'Name': 'Emily', 'Month': 'July', 'Year': 2005, 'Max Sustained Winds': 160, 'Areas Affected': ['Windward Islands', 'Jamaica', 'Mexico', 'Texas'], 'Damage': 1010000000.0, 'Deaths': 17}, 'Katrina': {'Name': 'Katrina', 'Month': 'August', 'Year': 2005, 'Max Sustained Winds': 175, 'Areas Affected': ['Bahamas', 'United States Gulf Coast'], 'Damage': 125000000000.0, 'Deaths': 1836}, 'Rita': {'Name': 'Rita', 'Month': 'September', 'Year': 2005, 'Max Sustained Winds': 180, 'Areas Affected': ['Cuba', 'United States Gulf Coast'], 'Damage': 12000000000.0, 'Deaths': 125}, 'Wilma': {'Name': 'Wilma', 'Month': 'October', 'Year': 2005, 'Max Sustained Winds': 185, 'Areas Affected': ['Greater Antilles', 'Central America', 'Florida'], 'Damage': 29400000000.0, 'Deaths': 87}, 'Dean': {'Name': 'Dean', 'Month': 'August', 'Year': 2007, 'Max Sustained Winds': 175, 'Areas Affected': ['The Caribbean', 'Central America'], 'Damage': 1760000000.0, 'Deaths': 45}, 'Felix': {'Name': 'Felix', 'Month': 'September', 'Year': 2007, 'Max Sustained Winds': 175, 'Areas Affected': ['Nicaragua', 'Honduras'], 'Damage': 720000000.0, 'Deaths': 133}, 'Matthew': {'Name': 'Matthew', 'Month': 'October', 'Year': 2016, 'Max Sustained Winds': 165, 'Areas Affected': ['Antilles', 'Venezuela', 'Colombia', 'United States East Coast', 'Atlantic Canada'], 'Damage': 15100000000.0, 'Deaths': 603}, 'Irma': {'Name': 'Irma', 'Month': 'September', 'Year': 2017, 'Max Sustained Winds': 180, 'Areas Affected': ['Cape Verde', 'The Caribbean', 'British Virgin Islands', 'U.S. Virgin Islands', 'Cuba', 'Florida'], 'Damage': 64800000000.0, 'Deaths': 138}, 'Maria': {'Name': 'Maria', 'Month': 'September', 'Year': 2017, 'Max Sustained Winds': 175, 'Areas Affected': ['Lesser Antilles', 'Virgin Islands', 'Puerto Rico', 'Dominican Republic', 'Turks and Caicos Islands'], 'Damage': 91600000000.0, 'Deaths': 3057}, 'Michael': {'Name': 'Michael', 'Month': 'October', 'Year': 2018, 'Max Sustained Winds': 160, 'Areas Affected': ['Central America', 'United States Gulf Coast (especially Florida Panhandle)'], 'Damage': 25100000000.0, 'Deaths': 74}}\n"
     ]
    }
   ],
   "source": [
    "# 2 \n",
    "# Create a Table\n",
    "\n",
    "def hurricanes_table():\n",
    "  hurricanes = {}\n",
    "  i = 0\n",
    "  for name in names:\n",
    "    hurricanes[name] = {\n",
    "        \"Name\": names[i],\n",
    "        \"Month\": months[i],\n",
    "        \"Year\": years[i],\n",
    "        \"Max Sustained Winds\": max_sustained_winds[i],\n",
    "        \"Areas Affected\": areas_affected[i],\n",
    "        \"Damage\": updated_damages[i],\n",
    "        \"Deaths\": deaths[i]\n",
    "      }\n",
    "    i += 1\n",
    "  return hurricanes\n",
    "\n",
    "# Create and view the hurricanes dictionary\n",
    "hurricanes = hurricanes_table()\n",
    "print(hurricanes)"
   ]
  },
  {
   "cell_type": "code",
   "execution_count": 25,
   "id": "29805fb1",
   "metadata": {},
   "outputs": [
    {
     "name": "stdout",
     "output_type": "stream",
     "text": [
      "{1924: [{'Name': 'Cuba I', 'Month': 'October', 'Year': 1924, 'Max Sustained Winds': 165, 'Areas Affected': ['Central America', 'Mexico', 'Cuba', 'Florida', 'The Bahamas'], 'Damage': 'Damages not recorded', 'Deaths': 90}], 1928: [{'Name': 'San Felipe II Okeechobee', 'Month': 'September', 'Year': 1928, 'Max Sustained Winds': 160, 'Areas Affected': ['Lesser Antilles', 'The Bahamas', 'United States East Coast', 'Atlantic Canada'], 'Damage': 100000000.0, 'Deaths': 4000}], 1932: [{'Name': 'Bahamas', 'Month': 'September', 'Year': 1932, 'Max Sustained Winds': 160, 'Areas Affected': ['The Bahamas', 'Northeastern United States'], 'Damage': 'Damages not recorded', 'Deaths': 16}, {'Name': 'Cuba II', 'Month': 'November', 'Year': 1932, 'Max Sustained Winds': 175, 'Areas Affected': ['Lesser Antilles', 'Jamaica', 'Cayman Islands', 'Cuba', 'The Bahamas', 'Bermuda'], 'Damage': 40000000.0, 'Deaths': 3103}], 1933: [{'Name': 'CubaBrownsville', 'Month': 'August', 'Year': 1933, 'Max Sustained Winds': 160, 'Areas Affected': ['The Bahamas', 'Cuba', 'Florida', 'Texas', 'Tamaulipas'], 'Damage': 27900000.0, 'Deaths': 179}, {'Name': 'Tampico', 'Month': 'September', 'Year': 1933, 'Max Sustained Winds': 160, 'Areas Affected': ['Jamaica', 'Yucatn Peninsula'], 'Damage': 5000000.0, 'Deaths': 184}], 1935: [{'Name': 'Labor Day', 'Month': 'September', 'Year': 1935, 'Max Sustained Winds': 185, 'Areas Affected': ['The Bahamas', 'Florida', 'Georgia', 'The Carolinas', 'Virginia'], 'Damage': 'Damages not recorded', 'Deaths': 408}], 1938: [{'Name': 'New England', 'Month': 'September', 'Year': 1938, 'Max Sustained Winds': 160, 'Areas Affected': ['Southeastern United States', 'Northeastern United States', 'Southwestern Quebec'], 'Damage': 306000000.0, 'Deaths': 682}], 1953: [{'Name': 'Carol', 'Month': 'September', 'Year': 1953, 'Max Sustained Winds': 160, 'Areas Affected': ['Bermuda', 'New England', 'Atlantic Canada'], 'Damage': 2000000.0, 'Deaths': 5}], 1955: [{'Name': 'Janet', 'Month': 'September', 'Year': 1955, 'Max Sustained Winds': 175, 'Areas Affected': ['Lesser Antilles', 'Central America'], 'Damage': 65800000.0, 'Deaths': 1023}], 1961: [{'Name': 'Carla', 'Month': 'September', 'Year': 1961, 'Max Sustained Winds': 175, 'Areas Affected': ['Texas', 'Louisiana', 'Midwestern United States'], 'Damage': 326000000.0, 'Deaths': 43}, {'Name': 'Hattie', 'Month': 'October', 'Year': 1961, 'Max Sustained Winds': 160, 'Areas Affected': ['Central America'], 'Damage': 60300000.0, 'Deaths': 319}], 1967: [{'Name': 'Beulah', 'Month': 'September', 'Year': 1967, 'Max Sustained Winds': 160, 'Areas Affected': ['The Caribbean', 'Mexico', 'Texas'], 'Damage': 208000000.0, 'Deaths': 688}], 1969: [{'Name': 'Camille', 'Month': 'August', 'Year': 1969, 'Max Sustained Winds': 175, 'Areas Affected': ['Cuba', 'United States Gulf Coast'], 'Damage': 1420000000.0, 'Deaths': 259}], 1971: [{'Name': 'Edith', 'Month': 'September', 'Year': 1971, 'Max Sustained Winds': 160, 'Areas Affected': ['The Caribbean', 'Central America', 'Mexico', 'United States Gulf Coast'], 'Damage': 25400000.0, 'Deaths': 37}], 1977: [{'Name': 'Anita', 'Month': 'September', 'Year': 1977, 'Max Sustained Winds': 175, 'Areas Affected': ['Mexico'], 'Damage': 'Damages not recorded', 'Deaths': 11}], 1979: [{'Name': 'David', 'Month': 'August', 'Year': 1979, 'Max Sustained Winds': 175, 'Areas Affected': ['The Caribbean', 'United States East coast'], 'Damage': 1540000000.0, 'Deaths': 2068}], 1980: [{'Name': 'Allen', 'Month': 'August', 'Year': 1980, 'Max Sustained Winds': 190, 'Areas Affected': ['The Caribbean', 'Yucatn Peninsula', 'Mexico', 'South Texas'], 'Damage': 1240000000.0, 'Deaths': 269}], 1988: [{'Name': 'Gilbert', 'Month': 'September', 'Year': 1988, 'Max Sustained Winds': 185, 'Areas Affected': ['Jamaica', 'Venezuela', 'Central America', 'Hispaniola', 'Mexico'], 'Damage': 7100000000.0, 'Deaths': 318}], 1989: [{'Name': 'Hugo', 'Month': 'September', 'Year': 1989, 'Max Sustained Winds': 160, 'Areas Affected': ['The Caribbean', 'United States East Coast'], 'Damage': 10000000000.0, 'Deaths': 107}], 1992: [{'Name': 'Andrew', 'Month': 'August', 'Year': 1992, 'Max Sustained Winds': 175, 'Areas Affected': ['The Bahamas', 'Florida', 'United States Gulf Coast'], 'Damage': 26500000000.0, 'Deaths': 65}], 1998: [{'Name': 'Mitch', 'Month': 'October', 'Year': 1998, 'Max Sustained Winds': 180, 'Areas Affected': ['Central America', 'Yucatn Peninsula', 'South Florida'], 'Damage': 6200000000.0, 'Deaths': 19325}], 2003: [{'Name': 'Isabel', 'Month': 'September', 'Year': 2003, 'Max Sustained Winds': 165, 'Areas Affected': ['Greater Antilles', 'Bahamas', 'Eastern United States', 'Ontario'], 'Damage': 5370000000.0, 'Deaths': 51}], 2004: [{'Name': 'Ivan', 'Month': 'September', 'Year': 2004, 'Max Sustained Winds': 165, 'Areas Affected': ['The Caribbean', 'Venezuela', 'United States Gulf Coast'], 'Damage': 23300000000.0, 'Deaths': 124}], 2005: [{'Name': 'Emily', 'Month': 'July', 'Year': 2005, 'Max Sustained Winds': 160, 'Areas Affected': ['Windward Islands', 'Jamaica', 'Mexico', 'Texas'], 'Damage': 1010000000.0, 'Deaths': 17}, {'Name': 'Katrina', 'Month': 'August', 'Year': 2005, 'Max Sustained Winds': 175, 'Areas Affected': ['Bahamas', 'United States Gulf Coast'], 'Damage': 125000000000.0, 'Deaths': 1836}, {'Name': 'Rita', 'Month': 'September', 'Year': 2005, 'Max Sustained Winds': 180, 'Areas Affected': ['Cuba', 'United States Gulf Coast'], 'Damage': 12000000000.0, 'Deaths': 125}, {'Name': 'Wilma', 'Month': 'October', 'Year': 2005, 'Max Sustained Winds': 185, 'Areas Affected': ['Greater Antilles', 'Central America', 'Florida'], 'Damage': 29400000000.0, 'Deaths': 87}], 2007: [{'Name': 'Dean', 'Month': 'August', 'Year': 2007, 'Max Sustained Winds': 175, 'Areas Affected': ['The Caribbean', 'Central America'], 'Damage': 1760000000.0, 'Deaths': 45}, {'Name': 'Felix', 'Month': 'September', 'Year': 2007, 'Max Sustained Winds': 175, 'Areas Affected': ['Nicaragua', 'Honduras'], 'Damage': 720000000.0, 'Deaths': 133}], 2016: [{'Name': 'Matthew', 'Month': 'October', 'Year': 2016, 'Max Sustained Winds': 165, 'Areas Affected': ['Antilles', 'Venezuela', 'Colombia', 'United States East Coast', 'Atlantic Canada'], 'Damage': 15100000000.0, 'Deaths': 603}], 2017: [{'Name': 'Irma', 'Month': 'September', 'Year': 2017, 'Max Sustained Winds': 180, 'Areas Affected': ['Cape Verde', 'The Caribbean', 'British Virgin Islands', 'U.S. Virgin Islands', 'Cuba', 'Florida'], 'Damage': 64800000000.0, 'Deaths': 138}, {'Name': 'Maria', 'Month': 'September', 'Year': 2017, 'Max Sustained Winds': 175, 'Areas Affected': ['Lesser Antilles', 'Virgin Islands', 'Puerto Rico', 'Dominican Republic', 'Turks and Caicos Islands'], 'Damage': 91600000000.0, 'Deaths': 3057}], 2018: [{'Name': 'Michael', 'Month': 'October', 'Year': 2018, 'Max Sustained Winds': 160, 'Areas Affected': ['Central America', 'United States Gulf Coast (especially Florida Panhandle)'], 'Damage': 25100000000.0, 'Deaths': 74}]}\n",
      "26 years of hurricanes\n"
     ]
    }
   ],
   "source": [
    "# 3\n",
    "# Organizing by Year\n",
    "def sort_hurricanes_table(hurricanes):\n",
    "  canes_by_year = {}\n",
    "  for hurricane in hurricanes:\n",
    "    current_cane = hurricanes[hurricane]\n",
    "    current_year = hurricanes[hurricane][\"Year\"]\n",
    "    if current_year in canes_by_year:\n",
    "      canes_by_year[current_year].append(current_cane)\n",
    "    else:\n",
    "      canes_by_year[current_year] = [current_cane]\n",
    "  return canes_by_year\n",
    "\n",
    "# create a new dictionary of hurricanes with year and key\n",
    "test3 = sort_hurricanes_table(hurricanes)\n",
    "print(test3)\n",
    "print(len(test3), \"years of hurricanes\")"
   ]
  },
  {
   "cell_type": "code",
   "execution_count": 26,
   "id": "a7b62407",
   "metadata": {},
   "outputs": [
    {
     "name": "stdout",
     "output_type": "stream",
     "text": [
      "{'Central America': 9, 'Mexico': 7, 'Cuba': 6, 'Florida': 6, 'The Bahamas': 7, 'Lesser Antilles': 4, 'United States East Coast': 3, 'Atlantic Canada': 3, 'Northeastern United States': 2, 'Jamaica': 4, 'Cayman Islands': 1, 'Bermuda': 2, 'Texas': 4, 'Tamaulipas': 1, 'Yucatn Peninsula': 3, 'Georgia': 1, 'The Carolinas': 1, 'Virginia': 1, 'Southeastern United States': 1, 'Southwestern Quebec': 1, 'New England': 1, 'Louisiana': 1, 'Midwestern United States': 1, 'The Caribbean': 8, 'United States Gulf Coast': 6, 'United States East coast': 1, 'South Texas': 1, 'Venezuela': 3, 'Hispaniola': 1, 'South Florida': 1, 'Greater Antilles': 2, 'Bahamas': 2, 'Eastern United States': 1, 'Ontario': 1, 'Windward Islands': 1, 'Nicaragua': 1, 'Honduras': 1, 'Antilles': 1, 'Colombia': 1, 'Cape Verde': 1, 'British Virgin Islands': 1, 'U.S. Virgin Islands': 1, 'Virgin Islands': 1, 'Puerto Rico': 1, 'Dominican Republic': 1, 'Turks and Caicos Islands': 1, 'United States Gulf Coast (especially Florida Panhandle)': 1}\n",
      "47 areas affected by hurricanes\n"
     ]
    }
   ],
   "source": [
    "# 4\n",
    "# Counting Damaged Areas\n",
    "def count_damaged_areas(hurricanes):\n",
    "  damaged_areas = {}\n",
    "  for hurricane in hurricanes:\n",
    "    current_areas = hurricanes[hurricane][\"Areas Affected\"]\n",
    "    for area in current_areas:\n",
    "      if area in damaged_areas:\n",
    "        damaged_areas[area] += 1\n",
    "      else:\n",
    "        damaged_areas[area] = 1\n",
    "  return damaged_areas\n",
    "\n",
    "# create dictionary of areas to store the number of hurricanes involved in\n",
    "affected_areas = count_damaged_areas(hurricanes)\n",
    "print(affected_areas)\n",
    "print(len(affected_areas), \"areas affected by hurricanes\")"
   ]
  },
  {
   "cell_type": "code",
   "execution_count": 27,
   "id": "b1c56725",
   "metadata": {},
   "outputs": [
    {
     "name": "stdout",
     "output_type": "stream",
     "text": [
      "Central America was the most affected area with 9 hurricanes.\n"
     ]
    }
   ],
   "source": [
    "# 5 \n",
    "# Calculating Maximum Hurricane Count\n",
    "def max_cane_count(affected_areas):\n",
    "  max_area = \"\"\n",
    "  max_area_count = 0\n",
    "  # print(affected_areas)\n",
    "  for area in affected_areas:\n",
    "    # print(area, affected_areas[area], (affected_areas[area] > max_area_count))\n",
    "    if affected_areas[area] > max_area_count:\n",
    "      max_area = area\n",
    "      max_area_count = affected_areas[area]\n",
    "    else:\n",
    "      continue\n",
    "  return f\"{max_area} was the most affected area with {max_area_count} hurricanes.\"\n",
    "# find most frequently affected area and the number of hurricanes involved in\n",
    "test5 = max_cane_count(affected_areas)\n",
    "print(test5)"
   ]
  },
  {
   "cell_type": "code",
   "execution_count": 28,
   "id": "418cbd72",
   "metadata": {},
   "outputs": [
    {
     "name": "stdout",
     "output_type": "stream",
     "text": [
      "Mitch was the most deadly hurricane with 19325 deaths. Here are the details:\n",
      "\n",
      "Name: Mitch\n",
      "Month: October\n",
      "Year: 1998\n",
      "Max Sustained Winds: 180\n",
      "Areas Affected: ['Central America', 'Yucatn Peninsula', 'South Florida']\n",
      "Damage: 6200000000.0\n",
      "Deaths: 19325\n"
     ]
    }
   ],
   "source": [
    "# 6\n",
    "# Calculating the Deadliest Hurricane\n",
    "def cane_with_most_deaths(hurricanes):\n",
    "  most_dangerous_cane_details = {}\n",
    "  cane_with_most_deaths = \"\"\n",
    "  death_count = 0\n",
    "  # print(hurricanes)\n",
    "  for cane in hurricanes:\n",
    "    # print(hurricanes[cane])\n",
    "    # print(hurricanes[cane][\"Deaths\"])\n",
    "    # print(hurricanes[cane][\"Deaths\"] > death_count)\n",
    "    if hurricanes[cane][\"Deaths\"] > death_count:\n",
    "      most_dangerous_cane_details = hurricanes[cane]\n",
    "      cane_with_most_deaths = hurricanes[cane][\"Name\"]\n",
    "      death_count = hurricanes[cane][\"Deaths\"]\n",
    "    else:\n",
    "      continue\n",
    "  print(f\"{cane_with_most_deaths} was the most deadly hurricane with {death_count} deaths. Here are the details:\\n\")\n",
    "  for detail in most_dangerous_cane_details:\n",
    "    print(f\"{detail}: {most_dangerous_cane_details[detail]}\")\n",
    "  return most_dangerous_cane_details, cane_with_most_deaths, death_count\n",
    "\n",
    "# find highest mortality hurricane and the number of deaths\n",
    "test6 = cane_with_most_deaths(hurricanes)\n",
    "# print(test6)"
   ]
  },
  {
   "cell_type": "code",
   "execution_count": 29,
   "id": "27b8c6ce",
   "metadata": {},
   "outputs": [
    {
     "name": "stdout",
     "output_type": "stream",
     "text": [
      "Mortality Scale 1\n",
      "--- Hurricane Carol - 5\n",
      "--- Hurricane Anita - 11\n",
      "--- Hurricane Bahamas - 16\n",
      "--- Hurricane Emily - 17\n",
      "--- Hurricane Edith - 37\n",
      "--- Hurricane Carla - 43\n",
      "--- Hurricane Dean - 45\n",
      "--- Hurricane Isabel - 51\n",
      "--- Hurricane Andrew - 65\n",
      "--- Hurricane Michael - 74\n",
      "--- Hurricane Wilma - 87\n",
      "--- Hurricane Cuba I - 90\n",
      "Mortality Scale 2\n",
      "--- Hurricane Hugo - 107\n",
      "--- Hurricane Ivan - 124\n",
      "--- Hurricane Rita - 125\n",
      "--- Hurricane Felix - 133\n",
      "--- Hurricane Irma - 138\n",
      "--- Hurricane CubaBrownsville - 179\n",
      "--- Hurricane Tampico - 184\n",
      "--- Hurricane Camille - 259\n",
      "--- Hurricane Allen - 269\n",
      "--- Hurricane Gilbert - 318\n",
      "--- Hurricane Hattie - 319\n",
      "--- Hurricane Labor Day - 408\n",
      "Mortality Scale 3\n",
      "--- Hurricane Matthew - 603\n",
      "--- Hurricane New England - 682\n",
      "--- Hurricane Beulah - 688\n",
      "Mortality Scale 4\n",
      "--- Hurricane Janet - 1023\n",
      "--- Hurricane Katrina - 1836\n",
      "--- Hurricane David - 2068\n",
      "--- Hurricane Maria - 3057\n",
      "--- Hurricane Cuba II - 3103\n",
      "--- Hurricane San Felipe II Okeechobee - 4000\n",
      "Mortality Scale 5\n",
      "--- Hurricane Mitch - 19325\n"
     ]
    }
   ],
   "source": [
    "# 7\n",
    "# Rating Hurricanes by Mortality\n",
    "def cane_by_mortality(hurricanes):\n",
    "  mortality_scale = {0: 0,\n",
    "                   1: 100,\n",
    "                   2: 500,\n",
    "                   3: 1000,\n",
    "                   4: 10000}\n",
    "  mortality_dict = {}\n",
    "  # print(hurricanes)\n",
    "  \n",
    "  # For Loop to iterate through hurricanes and categorize them by mortality scale\n",
    "  for cane in hurricanes:\n",
    "    # Initialize variables to dictionary values\n",
    "    current_cane = hurricanes[cane]\n",
    "    current_name = hurricanes[cane][\"Name\"]\n",
    "    current_deaths = hurricanes[cane][\"Deaths\"]\n",
    "    \n",
    "    # Categorize by mortality scale\n",
    "    if mortality_scale[0] == current_deaths:\n",
    "      ms_rating = 0\n",
    "    elif mortality_scale[0] < current_deaths <= mortality_scale[1]:\n",
    "      ms_rating = 1\n",
    "    elif mortality_scale[1] < current_deaths <= mortality_scale[2]:\n",
    "      ms_rating = 2\n",
    "    elif mortality_scale[2] < current_deaths <= mortality_scale[3]:\n",
    "      ms_rating = 3\n",
    "    elif mortality_scale[3] < current_deaths <= mortality_scale[4]:\n",
    "      ms_rating = 4\n",
    "    else:\n",
    "      ms_rating = 5  \n",
    "    \n",
    "    # Add current hurricane to dictionary with mortality scale as key\n",
    "    if ms_rating in mortality_dict:\n",
    "      mortality_dict[ms_rating].append(current_cane)\n",
    "    else:\n",
    "      mortality_dict[ms_rating] = [current_cane]\n",
    "  \n",
    "  # Sort dictionary by key\n",
    "  sorted_mortality_dict = dict(sorted(mortality_dict.items()))\n",
    "\n",
    "  # Sort hurricanes in each MS_rating's key dictionary by deaths in ascending order\n",
    "  for key in sorted_mortality_dict:\n",
    "    for ms_rating in sorted_mortality_dict[key]:\n",
    "      sorted_mortality_dict[key] = sorted(sorted_mortality_dict[key], key=lambda x: x[\"Deaths\"], reverse=False)\n",
    "\n",
    "  # Print the sorted dictionary with sub-dictionaries sorted by deaths ascending\n",
    "  for rating in sorted_mortality_dict:\n",
    "    print(\"Mortality Scale\",rating)\n",
    "    for item in sorted_mortality_dict[rating]:\n",
    "      print(\"--- Hurricane\", item[\"Name\"], \"-\", item[\"Deaths\"])\n",
    "\n",
    "  # Return the final sorted dictionary\n",
    "  return sorted_mortality_dict\n",
    "\n",
    "# categorize hurricanes in new dictionary with mortality severity as key\n",
    "test7 = cane_by_mortality(hurricanes)"
   ]
  },
  {
   "cell_type": "code",
   "execution_count": 30,
   "id": "3985fde5",
   "metadata": {},
   "outputs": [
    {
     "name": "stdout",
     "output_type": "stream",
     "text": [
      "Katrina was the most destructive with $125000000000.0 in damage costs.\n"
     ]
    }
   ],
   "source": [
    "# 8 Calculating Hurricane Maximum Damage\n",
    "\n",
    "# find highest damage inducing hurricane and its total cost\n",
    "\n",
    "def max_cane_damage(hurricanes):\n",
    "  max_cane = \"\"\n",
    "  max_cane_damage = 0\n",
    "  # print(hurricanes)\n",
    "  for cane in hurricanes:\n",
    "    if hurricanes[cane][\"Damage\"] == \"Damages not recorded\":\n",
    "      continue\n",
    "    else:\n",
    "      if hurricanes[cane][\"Damage\"] > max_cane_damage:\n",
    "        max_cane = hurricanes[cane][\"Name\"]\n",
    "        max_cane_damage = hurricanes[cane][\"Damage\"]\n",
    "\n",
    "  return f\"{max_cane} was the most destructive with ${max_cane_damage} in damage costs.\"\n",
    "\n",
    "# find most frequently affected area and the number of hurricanes involved in\n",
    "test8 = max_cane_damage(hurricanes)\n",
    "print(test8)"
   ]
  },
  {
   "cell_type": "code",
   "execution_count": 31,
   "id": "79ffec9e",
   "metadata": {},
   "outputs": [
    {
     "name": "stdout",
     "output_type": "stream",
     "text": [
      "Damage Scale 1\n",
      "--- Hurricane Carol - $ 2000000.0\n",
      "--- Hurricane Tampico - $ 5000000.0\n",
      "--- Hurricane Edith - $ 25400000.0\n",
      "--- Hurricane CubaBrownsville - $ 27900000.0\n",
      "--- Hurricane Cuba II - $ 40000000.0\n",
      "--- Hurricane Hattie - $ 60300000.0\n",
      "--- Hurricane Janet - $ 65800000.0\n",
      "--- Hurricane San Felipe II Okeechobee - $ 100000000.0\n",
      "Damage Scale 2\n",
      "--- Hurricane Beulah - $ 208000000.0\n",
      "--- Hurricane New England - $ 306000000.0\n",
      "--- Hurricane Carla - $ 326000000.0\n",
      "--- Hurricane Felix - $ 720000000.0\n",
      "Damage Scale 3\n",
      "--- Hurricane Emily - $ 1010000000.0\n",
      "--- Hurricane Allen - $ 1240000000.0\n",
      "--- Hurricane Camille - $ 1420000000.0\n",
      "--- Hurricane David - $ 1540000000.0\n",
      "--- Hurricane Dean - $ 1760000000.0\n",
      "--- Hurricane Isabel - $ 5370000000.0\n",
      "--- Hurricane Mitch - $ 6200000000.0\n",
      "--- Hurricane Gilbert - $ 7100000000.0\n",
      "--- Hurricane Hugo - $ 10000000000.0\n",
      "Damage Scale 4\n",
      "--- Hurricane Rita - $ 12000000000.0\n",
      "--- Hurricane Matthew - $ 15100000000.0\n",
      "--- Hurricane Ivan - $ 23300000000.0\n",
      "--- Hurricane Michael - $ 25100000000.0\n",
      "--- Hurricane Andrew - $ 26500000000.0\n",
      "--- Hurricane Wilma - $ 29400000000.0\n",
      "Damage Scale 5\n",
      "--- Hurricane Irma - $ 64800000000.0\n",
      "--- Hurricane Maria - $ 91600000000.0\n",
      "--- Hurricane Katrina - $ 125000000000.0\n"
     ]
    }
   ],
   "source": [
    "# 9\n",
    "# Rating Hurricanes by Damage\n",
    "\n",
    "def cane_by_damage(hurricanes):\n",
    "  damage_scale = {0: 0,\n",
    "                1: 100000000,\n",
    "                2: 1000000000,\n",
    "                3: 10000000000,\n",
    "                4: 50000000000}\n",
    "  damage_dict = {}\n",
    "  # print(hurricanes)\n",
    "  for cane in hurricanes:\n",
    "    current_cane = hurricanes[cane]\n",
    "    current_name = hurricanes[cane][\"Name\"]\n",
    "    current_damage = hurricanes[cane][\"Damage\"]\n",
    "    if current_damage == \"Damages not recorded\":\n",
    "      continue\n",
    "    else:\n",
    "      if damage_scale[0] == current_damage:\n",
    "        ds_rating = 0\n",
    "      elif damage_scale[0] < current_damage <= damage_scale[1]:\n",
    "        ds_rating = 1\n",
    "      elif damage_scale[1] < current_damage <= damage_scale[2]:\n",
    "        ds_rating = 2\n",
    "      elif damage_scale[2] < current_damage <= damage_scale[3]:\n",
    "        ds_rating = 3\n",
    "      elif damage_scale[3] < current_damage <= damage_scale[4]:\n",
    "        ds_rating = 4\n",
    "      else:\n",
    "        ds_rating = 5  \n",
    "    \n",
    "    if ds_rating in damage_dict:\n",
    "      damage_dict[ds_rating].append(current_cane)\n",
    "    else:\n",
    "      damage_dict[ds_rating] = [current_cane]\n",
    "  # Sort main dictionary\n",
    "  sorted_damage_dict = dict(sorted(damage_dict.items()))\n",
    "\n",
    "  # Sort sub dictionary\n",
    "  for key in sorted_damage_dict:\n",
    "    for ds_rating in sorted_damage_dict[key]:\n",
    "      sorted_damage_dict[key] = sorted(sorted_damage_dict[key], key=lambda x: x[\"Damage\"], reverse=False)\n",
    "  \n",
    "  for rating in sorted_damage_dict:\n",
    "    print(\"Damage Scale\",rating)\n",
    "    for item in sorted_damage_dict[rating]:\n",
    "      print(\"--- Hurricane\", item[\"Name\"], \"- $\", item[\"Damage\"])\n",
    "\n",
    "  return sorted_damage_dict\n",
    "\n",
    "# categorize hurricanes in new dictionary with mortality severity as key\n",
    "test9 = cane_by_damage(hurricanes)\n",
    "# categorize hurricanes in new dictionary with damage severity as key"
   ]
  }
 ],
 "metadata": {
  "kernelspec": {
   "display_name": "Python 3",
   "language": "python",
   "name": "python3"
  },
  "language_info": {
   "codemirror_mode": {
    "name": "ipython",
    "version": 3
   },
   "file_extension": ".py",
   "mimetype": "text/x-python",
   "name": "python",
   "nbconvert_exporter": "python",
   "pygments_lexer": "ipython3",
   "version": "3.11.2"
  }
 },
 "nbformat": 4,
 "nbformat_minor": 5
}
