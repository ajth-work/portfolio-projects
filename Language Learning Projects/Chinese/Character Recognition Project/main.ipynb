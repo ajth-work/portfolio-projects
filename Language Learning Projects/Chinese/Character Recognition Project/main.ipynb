{
 "cells": [
  {
   "cell_type": "code",
   "execution_count": 1,
   "id": "663c5253",
   "metadata": {},
   "outputs": [
    {
     "name": "stdout",
     "output_type": "stream",
     "text": [
      "Requirement already satisfied: jieba in c:\\python311\\lib\\site-packages (0.42.1)\n",
      "Note: you may need to restart the kernel to use updated packages.\n"
     ]
    },
    {
     "name": "stderr",
     "output_type": "stream",
     "text": [
      "WARNING: Ignoring invalid distribution ~ (c:\\Python311\\Lib\\site-packages)\n",
      "WARNING: Ignoring invalid distribution ~ip (c:\\Python311\\Lib\\site-packages)\n",
      "WARNING: Ignoring invalid distribution ~~p (c:\\Python311\\Lib\\site-packages)\n",
      "WARNING: Ignoring invalid distribution ~ (c:\\Python311\\Lib\\site-packages)\n",
      "WARNING: Ignoring invalid distribution ~ip (c:\\Python311\\Lib\\site-packages)\n",
      "WARNING: Ignoring invalid distribution ~~p (c:\\Python311\\Lib\\site-packages)\n",
      "WARNING: Ignoring invalid distribution ~ (c:\\Python311\\Lib\\site-packages)\n",
      "WARNING: Ignoring invalid distribution ~ip (c:\\Python311\\Lib\\site-packages)\n",
      "WARNING: Ignoring invalid distribution ~~p (c:\\Python311\\Lib\\site-packages)\n"
     ]
    },
    {
     "name": "stdout",
     "output_type": "stream",
     "text": [
      "Requirement already satisfied: google-auth==1.35.0 in c:\\python311\\lib\\site-packages (1.35.0)\n",
      "Requirement already satisfied: cachetools<5.0,>=2.0.0 in c:\\python311\\lib\\site-packages (from google-auth==1.35.0) (4.2.4)\n",
      "Requirement already satisfied: pyasn1-modules>=0.2.1 in c:\\python311\\lib\\site-packages (from google-auth==1.35.0) (0.4.2)\n",
      "Requirement already satisfied: setuptools>=40.3.0 in c:\\users\\andrew-john\\appdata\\roaming\\python\\python311\\site-packages (from google-auth==1.35.0) (78.1.0)\n",
      "Requirement already satisfied: six>=1.9.0 in c:\\users\\andrew-john\\appdata\\roaming\\python\\python311\\site-packages (from google-auth==1.35.0) (1.17.0)\n",
      "Requirement already satisfied: rsa<5,>=3.1.4 in c:\\python311\\lib\\site-packages (from google-auth==1.35.0) (4.9)\n",
      "Requirement already satisfied: pyasn1>=0.1.3 in c:\\python311\\lib\\site-packages (from rsa<5,>=3.1.4->google-auth==1.35.0) (0.6.1)\n",
      "Note: you may need to restart the kernel to use updated packages.\n"
     ]
    },
    {
     "name": "stderr",
     "output_type": "stream",
     "text": [
      "WARNING: Ignoring invalid distribution ~ (c:\\Python311\\Lib\\site-packages)\n",
      "WARNING: Ignoring invalid distribution ~ip (c:\\Python311\\Lib\\site-packages)\n",
      "WARNING: Ignoring invalid distribution ~~p (c:\\Python311\\Lib\\site-packages)\n",
      "WARNING: Ignoring invalid distribution ~ (c:\\Python311\\Lib\\site-packages)\n",
      "WARNING: Ignoring invalid distribution ~ip (c:\\Python311\\Lib\\site-packages)\n",
      "WARNING: Ignoring invalid distribution ~~p (c:\\Python311\\Lib\\site-packages)\n",
      "WARNING: Ignoring invalid distribution ~ (c:\\Python311\\Lib\\site-packages)\n",
      "WARNING: Ignoring invalid distribution ~ip (c:\\Python311\\Lib\\site-packages)\n",
      "WARNING: Ignoring invalid distribution ~~p (c:\\Python311\\Lib\\site-packages)\n"
     ]
    },
    {
     "name": "stdout",
     "output_type": "stream",
     "text": [
      "Requirement already satisfied: google-cloud-translate==2.0.1 in c:\\python311\\lib\\site-packages (2.0.1)\n",
      "Requirement already satisfied: google-api-core<2.0.0dev,>=1.15.0 in c:\\python311\\lib\\site-packages (from google-api-core[grpc]<2.0.0dev,>=1.15.0->google-cloud-translate==2.0.1) (1.34.1)\n",
      "Requirement already satisfied: google-cloud-core<2.0dev,>=1.1.0 in c:\\python311\\lib\\site-packages (from google-cloud-translate==2.0.1) (1.7.3)\n",
      "Requirement already satisfied: googleapis-common-protos<2.0dev,>=1.56.2 in c:\\python311\\lib\\site-packages (from google-api-core<2.0.0dev,>=1.15.0->google-api-core[grpc]<2.0.0dev,>=1.15.0->google-cloud-translate==2.0.1) (1.70.0)\n",
      "Requirement already satisfied: protobuf!=3.20.0,!=3.20.1,!=4.21.0,!=4.21.1,!=4.21.2,!=4.21.3,!=4.21.4,!=4.21.5,<4.0.0dev,>=3.19.5 in c:\\python311\\lib\\site-packages (from google-api-core<2.0.0dev,>=1.15.0->google-api-core[grpc]<2.0.0dev,>=1.15.0->google-cloud-translate==2.0.1) (3.20.3)\n",
      "Requirement already satisfied: google-auth<3.0dev,>=1.25.0 in c:\\python311\\lib\\site-packages (from google-api-core<2.0.0dev,>=1.15.0->google-api-core[grpc]<2.0.0dev,>=1.15.0->google-cloud-translate==2.0.1) (1.35.0)\n",
      "Requirement already satisfied: requests<3.0.0dev,>=2.18.0 in c:\\python311\\lib\\site-packages (from google-api-core<2.0.0dev,>=1.15.0->google-api-core[grpc]<2.0.0dev,>=1.15.0->google-cloud-translate==2.0.1) (2.32.3)\n",
      "Requirement already satisfied: grpcio<2.0dev,>=1.33.2 in c:\\python311\\lib\\site-packages (from google-api-core[grpc]<2.0.0dev,>=1.15.0->google-cloud-translate==2.0.1) (1.72.0rc1)\n",
      "Requirement already satisfied: grpcio-status<2.0dev,>=1.33.2 in c:\\python311\\lib\\site-packages (from google-api-core[grpc]<2.0.0dev,>=1.15.0->google-cloud-translate==2.0.1) (1.49.0rc1)\n",
      "Requirement already satisfied: cachetools<5.0,>=2.0.0 in c:\\python311\\lib\\site-packages (from google-auth<3.0dev,>=1.25.0->google-api-core<2.0.0dev,>=1.15.0->google-api-core[grpc]<2.0.0dev,>=1.15.0->google-cloud-translate==2.0.1) (4.2.4)\n",
      "Requirement already satisfied: pyasn1-modules>=0.2.1 in c:\\python311\\lib\\site-packages (from google-auth<3.0dev,>=1.25.0->google-api-core<2.0.0dev,>=1.15.0->google-api-core[grpc]<2.0.0dev,>=1.15.0->google-cloud-translate==2.0.1) (0.4.2)\n",
      "Requirement already satisfied: setuptools>=40.3.0 in c:\\users\\andrew-john\\appdata\\roaming\\python\\python311\\site-packages (from google-auth<3.0dev,>=1.25.0->google-api-core<2.0.0dev,>=1.15.0->google-api-core[grpc]<2.0.0dev,>=1.15.0->google-cloud-translate==2.0.1) (78.1.0)\n",
      "Requirement already satisfied: six>=1.9.0 in c:\\users\\andrew-john\\appdata\\roaming\\python\\python311\\site-packages (from google-auth<3.0dev,>=1.25.0->google-api-core<2.0.0dev,>=1.15.0->google-api-core[grpc]<2.0.0dev,>=1.15.0->google-cloud-translate==2.0.1) (1.17.0)\n",
      "Requirement already satisfied: rsa<5,>=3.1.4 in c:\\python311\\lib\\site-packages (from google-auth<3.0dev,>=1.25.0->google-api-core<2.0.0dev,>=1.15.0->google-api-core[grpc]<2.0.0dev,>=1.15.0->google-cloud-translate==2.0.1) (4.9)\n",
      "Requirement already satisfied: charset-normalizer<4,>=2 in c:\\python311\\lib\\site-packages (from requests<3.0.0dev,>=2.18.0->google-api-core<2.0.0dev,>=1.15.0->google-api-core[grpc]<2.0.0dev,>=1.15.0->google-cloud-translate==2.0.1) (3.4.1)\n",
      "Requirement already satisfied: idna<4,>=2.5 in c:\\python311\\lib\\site-packages (from requests<3.0.0dev,>=2.18.0->google-api-core<2.0.0dev,>=1.15.0->google-api-core[grpc]<2.0.0dev,>=1.15.0->google-cloud-translate==2.0.1) (3.10)\n",
      "Requirement already satisfied: urllib3<3,>=1.21.1 in c:\\python311\\lib\\site-packages (from requests<3.0.0dev,>=2.18.0->google-api-core<2.0.0dev,>=1.15.0->google-api-core[grpc]<2.0.0dev,>=1.15.0->google-cloud-translate==2.0.1) (2.3.0)\n",
      "Requirement already satisfied: certifi>=2017.4.17 in c:\\python311\\lib\\site-packages (from requests<3.0.0dev,>=2.18.0->google-api-core<2.0.0dev,>=1.15.0->google-api-core[grpc]<2.0.0dev,>=1.15.0->google-cloud-translate==2.0.1) (2025.1.31)\n",
      "Requirement already satisfied: pyasn1>=0.1.3 in c:\\python311\\lib\\site-packages (from rsa<5,>=3.1.4->google-auth<3.0dev,>=1.25.0->google-api-core<2.0.0dev,>=1.15.0->google-api-core[grpc]<2.0.0dev,>=1.15.0->google-cloud-translate==2.0.1) (0.6.1)\n",
      "Note: you may need to restart the kernel to use updated packages.\n"
     ]
    },
    {
     "name": "stderr",
     "output_type": "stream",
     "text": [
      "WARNING: Ignoring invalid distribution ~ (c:\\Python311\\Lib\\site-packages)\n",
      "WARNING: Ignoring invalid distribution ~ip (c:\\Python311\\Lib\\site-packages)\n",
      "WARNING: Ignoring invalid distribution ~~p (c:\\Python311\\Lib\\site-packages)\n",
      "WARNING: Ignoring invalid distribution ~ (c:\\Python311\\Lib\\site-packages)\n",
      "WARNING: Ignoring invalid distribution ~ip (c:\\Python311\\Lib\\site-packages)\n",
      "WARNING: Ignoring invalid distribution ~~p (c:\\Python311\\Lib\\site-packages)\n",
      "WARNING: Ignoring invalid distribution ~ (c:\\Python311\\Lib\\site-packages)\n",
      "WARNING: Ignoring invalid distribution ~ip (c:\\Python311\\Lib\\site-packages)\n",
      "WARNING: Ignoring invalid distribution ~~p (c:\\Python311\\Lib\\site-packages)\n"
     ]
    },
    {
     "name": "stdout",
     "output_type": "stream",
     "text": [
      "Collecting dotenv\n",
      "  Using cached dotenv-0.9.9-py2.py3-none-any.whl.metadata (279 bytes)\n",
      "Requirement already satisfied: python-dotenv in c:\\python311\\lib\\site-packages (from dotenv) (1.1.0)\n",
      "Using cached dotenv-0.9.9-py2.py3-none-any.whl (1.9 kB)\n",
      "Installing collected packages: dotenv\n",
      "Successfully installed dotenv-0.9.9\n",
      "Note: you may need to restart the kernel to use updated packages.\n"
     ]
    },
    {
     "name": "stderr",
     "output_type": "stream",
     "text": [
      "WARNING: Ignoring invalid distribution ~ (c:\\Python311\\Lib\\site-packages)\n",
      "WARNING: Ignoring invalid distribution ~ip (c:\\Python311\\Lib\\site-packages)\n",
      "WARNING: Ignoring invalid distribution ~~p (c:\\Python311\\Lib\\site-packages)\n",
      "WARNING: Ignoring invalid distribution ~ (c:\\Python311\\Lib\\site-packages)\n",
      "WARNING: Ignoring invalid distribution ~ip (c:\\Python311\\Lib\\site-packages)\n",
      "WARNING: Ignoring invalid distribution ~~p (c:\\Python311\\Lib\\site-packages)\n",
      "WARNING: Ignoring invalid distribution ~ (c:\\Python311\\Lib\\site-packages)\n",
      "WARNING: Ignoring invalid distribution ~ip (c:\\Python311\\Lib\\site-packages)\n",
      "WARNING: Ignoring invalid distribution ~~p (c:\\Python311\\Lib\\site-packages)\n"
     ]
    }
   ],
   "source": [
    "%pip install jieba\n",
    "%pip install google-auth==1.35.0\n",
    "%pip install google-cloud-translate==2.0.1\n",
    "%pip install dotenv"
   ]
  },
  {
   "cell_type": "code",
   "execution_count": 2,
   "id": "a9d14905",
   "metadata": {},
   "outputs": [],
   "source": [
    "import sqlite3\n",
    "import jieba\n",
    "import os"
   ]
  },
  {
   "cell_type": "code",
   "execution_count": 3,
   "id": "ab383dc3",
   "metadata": {},
   "outputs": [],
   "source": [
    "# This import is necessary for loading environment variables from a .env file (not included in the remote repository)\n",
    "from dotenv import load_dotenv\n",
    "load_dotenv()\n",
    "\n",
    "from my_programs.analyze.analyze_original import analyze_original\n",
    "from my_programs.view_character_history.view_character_history import view_character_history_simple, view_character_history_detailed\n",
    "from my_programs.view_historical_usage.view_historical_usage import view_historical_usage\n",
    "from my_programs.view_sentence_history.view_sentence_history import view_sentence_history\n",
    "\n",
    "from my_programs.analyze.database_connections import (\n",
    "    conn1, conn2, conn3, conn4, conn_history, conn_usage_history, cursor1,\n",
    "    cursor2, cursor3, cursor4, cursor_history, cursor_usage_history)\n",
    "from my_programs.analyze.test_samples import test_sample_long, test_sample_short\n",
    "from my_programs.imports.imports import linebreak\n",
    "from my_programs.analyze.analyze_data_insertion import analyze_data_insertion\n",
    "\n",
    "# This import is necessary for calling beautifulsoup4 to scrape the learned_words content Duolingo website\n",
    "from bs4 import BeautifulSoup\n",
    "import requests\n",
    "from my_programs.duolingo.duome import fetch_and_print_words_learned"
   ]
  },
  {
   "cell_type": "code",
   "execution_count": 4,
   "id": "47df58ed",
   "metadata": {},
   "outputs": [],
   "source": [
    "# Function to display the main menu\n",
    "def main_menu():\n",
    "    while True:\n",
    "\n",
    "        menu_choices = [\n",
    "            \"Quick Analysis\", \"Analyze Your Own Sentence\",\n",
    "            \"Analyze Short Test Sample\", \"Analyze Long Test Sample\",\n",
    "            \"View Historical Usage\", \"View Character History\",\n",
    "            \"View Sentence History\", \"Duolingo\", \"Exit\"\n",
    "        ]\n",
    "\n",
    "        print(\"Welcome to Your Chinese Learning App!\")\n",
    "        print(f\"{linebreak}\\n\")\n",
    "        for i, choice in enumerate(menu_choices, start=1):\n",
    "            print(f\"{i}. {choice}\\n\")\n",
    "        print(linebreak)\n",
    "        user_choice = input(\"Enter your choice: \")\n",
    "\n",
    "        if user_choice == '1':\n",
    "            user_sentence = input(\n",
    "                \"Enter the sentence you want to quickly analyze: \")\n",
    "            analyze_original(user_sentence)\n",
    "        elif user_choice == '2':\n",
    "            user_sentence = input(\"Enter the sentence you want to analyze: \")\n",
    "            analyze_original(user_sentence)\n",
    "        elif user_choice == '3':\n",
    "            analyze_original(test_sample_short)\n",
    "        elif user_choice == '4':\n",
    "            analyze_original(test_sample_long)\n",
    "        elif user_choice == '5':\n",
    "            view_historical_usage()\n",
    "        elif user_choice == '6':\n",
    "            print(linebreak)\n",
    "            print(\"View Character History Options:\\n\")\n",
    "            print(\"1. Simple View (10 characters per line)\\n\")\n",
    "            print(\"2. Detailed View\\n\")\n",
    "\n",
    "            view_choice = input(\"Enter your view choice: \")\n",
    "            print(linebreak)\n",
    "\n",
    "            if view_choice == '1':\n",
    "                view_character_history_simple()\n",
    "            elif view_choice == '2':\n",
    "                view_character_history_detailed()\n",
    "            else:\n",
    "                print(\"Invalid choice. Please enter '1' or '2'.\")\n",
    "        elif user_choice == '7':\n",
    "            print(linebreak)\n",
    "            view_sentence_history()\n",
    "        elif user_choice == '8':\n",
    "            fetch_and_print_words_learned(os.environ['DUOLINGO_USERNAME'])\n",
    "        elif user_choice == '9':\n",
    "            print(\"Exiting...\")\n",
    "            break\n",
    "        else:\n",
    "            print(\"Invalid choice.\")"
   ]
  },
  {
   "cell_type": "code",
   "execution_count": 5,
   "id": "874c71eb",
   "metadata": {},
   "outputs": [
    {
     "name": "stdout",
     "output_type": "stream",
     "text": [
      "Welcome to Your Chinese Learning App!\n",
      "-------------------------\n",
      "\n",
      "1. Quick Analysis\n",
      "\n",
      "2. Analyze Your Own Sentence\n",
      "\n",
      "3. Analyze Short Test Sample\n",
      "\n",
      "4. Analyze Long Test Sample\n",
      "\n",
      "5. View Historical Usage\n",
      "\n",
      "6. View Character History\n",
      "\n",
      "7. View Sentence History\n",
      "\n",
      "8. Duolingo\n",
      "\n",
      "9. Exit\n",
      "\n",
      "-------------------------\n",
      "1 sentences discovered:\n",
      "\n",
      "1. 1\n",
      "\n",
      "-------------------------\n",
      "Target Sentence 1\n",
      "Sentence: [1]\n",
      "Translated: [1]\n",
      "-------------------------\n",
      "Choose analysis type:\n",
      "\n",
      "1. Vocabulary Analysis (Testing New Feature)\n",
      "\n",
      "2. Character Analysis\n",
      "\n",
      "3. Both\n",
      "\n",
      "-------------------------\n",
      "SEGLIST ['1']\n",
      "READINGOUTPUT:  1\n",
      "PAN 1\n",
      "PINYIN READING1 \n",
      "TOTAL VOCAB ['1']\n",
      "Sentence - 1\n",
      "\n",
      "Translation - 1\n",
      "\n",
      "Vocabulary Analysis - (('Learned', 0, [], 0), ('Not Learned', 0, [], 0), ('Unknown', 1, ['1']), ('Total', 1, ['1'], 0))\n",
      "\n",
      "-------------------------\n",
      "What would you like to do next?\n",
      "\n",
      "1. Return to the main menu\n",
      "\n",
      "2. Analyze another sentence\n",
      "\n",
      "-------------------------\n",
      "Welcome to Your Chinese Learning App!\n",
      "-------------------------\n",
      "\n",
      "1. Quick Analysis\n",
      "\n",
      "2. Analyze Your Own Sentence\n",
      "\n",
      "3. Analyze Short Test Sample\n",
      "\n",
      "4. Analyze Long Test Sample\n",
      "\n",
      "5. View Historical Usage\n",
      "\n",
      "6. View Character History\n",
      "\n",
      "7. View Sentence History\n",
      "\n",
      "8. Duolingo\n",
      "\n",
      "9. Exit\n",
      "\n",
      "-------------------------\n",
      "Exiting...\n"
     ]
    }
   ],
   "source": [
    "# Call the main menu function\n",
    "main_menu()\n"
   ]
  }
 ],
 "metadata": {
  "kernelspec": {
   "display_name": "Python 3",
   "language": "python",
   "name": "python3"
  },
  "language_info": {
   "codemirror_mode": {
    "name": "ipython",
    "version": 3
   },
   "file_extension": ".py",
   "mimetype": "text/x-python",
   "name": "python",
   "nbconvert_exporter": "python",
   "pygments_lexer": "ipython3",
   "version": "3.11.2"
  }
 },
 "nbformat": 4,
 "nbformat_minor": 5
}
