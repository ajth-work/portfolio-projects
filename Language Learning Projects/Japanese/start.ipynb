{
 "cells": [
  {
   "cell_type": "code",
   "execution_count": null,
   "id": "1673615b",
   "metadata": {},
   "outputs": [],
   "source": [
    "# What apps could I make that use Japanese?\n",
    "# Idea 1 - Japanese learning app\n",
    "# Idea 2 - Japanese dictionary app\n",
    "# Idea 3 - Japanese flashcard app\n",
    "# Idea 4 - Japanese kanji practice app\n",
    "# Idea 5 - Japanese grammar practice app\n",
    "# Idea 6 - Japanese conversation practice app\n",
    "\n",
    "# Something with React?\n",
    "# Idea 1 - Japanese learning app\n",
    "\n",
    "# Something with Flask?\n",
    "# Something with Django?"
   ]
  },
  {
   "cell_type": "code",
   "execution_count": null,
   "id": "0dea7f75",
   "metadata": {},
   "outputs": [],
   "source": []
  }
 ],
 "metadata": {
  "kernelspec": {
   "display_name": "Python 3",
   "language": "python",
   "name": "python3"
  },
  "language_info": {
   "name": "python",
   "version": "3.11.2"
  }
 },
 "nbformat": 4,
 "nbformat_minor": 5
}
